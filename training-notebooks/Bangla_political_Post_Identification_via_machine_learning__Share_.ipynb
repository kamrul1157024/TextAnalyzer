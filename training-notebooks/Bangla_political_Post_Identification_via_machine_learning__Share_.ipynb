{
  "nbformat": 4,
  "nbformat_minor": 0,
  "metadata": {
    "colab": {
      "name": "Bangla political Post Identification via machine learning _Share .ipynb",
      "provenance": [],
      "collapsed_sections": [],
      "toc_visible": true
    },
    "kernelspec": {
      "display_name": "Python 3",
      "name": "python3"
    }
  },
  "cells": [
    {
      "cell_type": "code",
      "metadata": {
        "colab": {
          "base_uri": "https://localhost:8080/"
        },
        "id": "_sbmVXeGTmKN",
        "outputId": "f7000161-ea6f-4e15-fa1b-1a571335a350"
      },
      "source": [
        "from google.colab import drive\n",
        "drive.mount('/content/drive')"
      ],
      "execution_count": null,
      "outputs": [
        {
          "output_type": "stream",
          "text": [
            "Drive already mounted at /content/drive; to attempt to forcibly remount, call drive.mount(\"/content/drive\", force_remount=True).\n"
          ],
          "name": "stdout"
        }
      ]
    },
    {
      "cell_type": "code",
      "metadata": {
        "colab": {
          "base_uri": "https://localhost:8080/"
        },
        "id": "f2ULlN4a2oc-",
        "outputId": "c88e3e62-e058-4a1d-d25c-aefff4cf85a5"
      },
      "source": [
        "import os\n",
        "os.environ['KAGGLE_USERNAME'] = '' \n",
        "os.environ['KAGGLE_KEY'] = ''\n",
        "!kaggle datasets download -d furcifer/bangla-newspaper-dataset"
      ],
      "execution_count": null,
      "outputs": [
        {
          "output_type": "stream",
          "text": [
            "Downloading bangla-newspaper-dataset.zip to /content\n",
            " 98% 1.01G/1.03G [00:07<00:00, 126MB/s]\n",
            "100% 1.03G/1.03G [00:07<00:00, 139MB/s]\n"
          ],
          "name": "stdout"
        }
      ]
    },
    {
      "cell_type": "code",
      "metadata": {
        "colab": {
          "base_uri": "https://localhost:8080/"
        },
        "id": "eDnEI2G0tP8h",
        "outputId": "3fafb8cf-dffb-4e85-ccdc-2fa0f98530d4"
      },
      "source": [
        "!unzip /content/bangla-newspaper-dataset.zip"
      ],
      "execution_count": null,
      "outputs": [
        {
          "output_type": "stream",
          "text": [
            "Archive:  /content/bangla-newspaper-dataset.zip\n",
            "  inflating: data/data.json          \n",
            "  inflating: data_v2/data_v2.json    \n"
          ],
          "name": "stdout"
        }
      ]
    },
    {
      "cell_type": "code",
      "metadata": {
        "colab": {
          "base_uri": "https://localhost:8080/"
        },
        "id": "tC0BoVldtwRI",
        "outputId": "d7b2370c-1e26-4f52-b259-5052def448ae"
      },
      "source": [
        "!wget https://www.omicronlab.com/download/fonts/kalpurush.ttf -P /tmp/font"
      ],
      "execution_count": null,
      "outputs": [
        {
          "output_type": "stream",
          "text": [
            "--2021-03-15 00:34:00--  https://www.omicronlab.com/download/fonts/kalpurush.ttf\n",
            "Resolving www.omicronlab.com (www.omicronlab.com)... 172.104.46.32\n",
            "Connecting to www.omicronlab.com (www.omicronlab.com)|172.104.46.32|:443... connected.\n",
            "HTTP request sent, awaiting response... 200 OK\n",
            "Length: 314592 (307K) [application/octet-stream]\n",
            "Saving to: ‘/tmp/font/kalpurush.ttf’\n",
            "\n",
            "kalpurush.ttf       100%[===================>] 307.22K   466KB/s    in 0.7s    \n",
            "\n",
            "2021-03-15 00:34:02 (466 KB/s) - ‘/tmp/font/kalpurush.ttf’ saved [314592/314592]\n",
            "\n"
          ],
          "name": "stdout"
        }
      ]
    },
    {
      "cell_type": "code",
      "metadata": {
        "colab": {
          "base_uri": "https://localhost:8080/"
        },
        "id": "jSPkn0uFtyng",
        "outputId": "1937c163-c615-46cb-9158-47b4e54fee4c"
      },
      "source": [
        "import pandas as pd\n",
        "import seaborn as sns\n",
        "import matplotlib.pyplot as plt\n",
        "import matplotlib.font_manager as fm\n",
        "from wordcloud import WordCloud\n",
        "from sklearn import preprocessing\n",
        "from sklearn.model_selection import train_test_split\n",
        "from sklearn.feature_extraction.text import TfidfVectorizer\n",
        "import numpy as np\n",
        "import re\n",
        "import nltk \n",
        "nltk.download('stopwords')\n",
        "nltk.download('punkt')\n",
        "from nltk.corpus import stopwords\n",
        "from nltk.tokenize import word_tokenize\n",
        "fm.fontManager.addfont('/tmp/font/kalpurush.ttf')\n",
        "plt.rcParams.update(\n",
        "    {\n",
        "        'text.usetex': False,\n",
        "        'font.family': 'kalpurush',\n",
        "        'mathtext.fontset': 'stix',\n",
        "        'font.size': 22\n",
        "    }\n",
        ")"
      ],
      "execution_count": null,
      "outputs": [
        {
          "output_type": "stream",
          "text": [
            "[nltk_data] Downloading package stopwords to /root/nltk_data...\n",
            "[nltk_data]   Package stopwords is already up-to-date!\n",
            "[nltk_data] Downloading package punkt to /root/nltk_data...\n",
            "[nltk_data]   Package punkt is already up-to-date!\n"
          ],
          "name": "stdout"
        }
      ]
    },
    {
      "cell_type": "markdown",
      "metadata": {
        "id": "Qx_bwnZEOFia"
      },
      "source": [
        "Pre Processing political Tag with pandas"
      ]
    },
    {
      "cell_type": "code",
      "metadata": {
        "id": "esOc5WZSOd7K"
      },
      "source": [
        "data=pd.read_json('/content/data_v2/data_v2.json',encoding='utf8')"
      ],
      "execution_count": null,
      "outputs": []
    },
    {
      "cell_type": "code",
      "metadata": {
        "colab": {
          "base_uri": "https://localhost:8080/",
          "height": 849
        },
        "id": "ak1MkiOcQ5OM",
        "outputId": "afcf2feb-75d9-4a5d-a10c-c75a5d7bbcb9"
      },
      "source": [
        "data.head(10)"
      ],
      "execution_count": null,
      "outputs": [
        {
          "output_type": "execute_result",
          "data": {
            "text/html": [
              "<div>\n",
              "<style scoped>\n",
              "    .dataframe tbody tr th:only-of-type {\n",
              "        vertical-align: middle;\n",
              "    }\n",
              "\n",
              "    .dataframe tbody tr th {\n",
              "        vertical-align: top;\n",
              "    }\n",
              "\n",
              "    .dataframe thead th {\n",
              "        text-align: right;\n",
              "    }\n",
              "</style>\n",
              "<table border=\"1\" class=\"dataframe\">\n",
              "  <thead>\n",
              "    <tr style=\"text-align: right;\">\n",
              "      <th></th>\n",
              "      <th>author</th>\n",
              "      <th>category</th>\n",
              "      <th>category_bn</th>\n",
              "      <th>published_date</th>\n",
              "      <th>modification_date</th>\n",
              "      <th>tag</th>\n",
              "      <th>comment_count</th>\n",
              "      <th>title</th>\n",
              "      <th>url</th>\n",
              "      <th>content</th>\n",
              "    </tr>\n",
              "  </thead>\n",
              "  <tbody>\n",
              "    <tr>\n",
              "      <th>0</th>\n",
              "      <td>গাজীপুর প্রতিনিধি</td>\n",
              "      <td>bangladesh</td>\n",
              "      <td>বাংলাদেশ</td>\n",
              "      <td>০৪ জুলাই ২০১৩, ২৩:২৬</td>\n",
              "      <td>০৪ জুলাই ২০১৩, ২৩:২৭</td>\n",
              "      <td>[গাজীপুর]</td>\n",
              "      <td>0</td>\n",
              "      <td>কালিয়াকৈরে টিফিন খেয়ে ৫০০ শ্রমিক অসুস্থ, বিক...</td>\n",
              "      <td>http://www.prothom-alo.com/bangladesh/article/...</td>\n",
              "      <td>গাজীপুরের কালিয়াকৈর উপজেলার তেলিরচালা এলাকায়...</td>\n",
              "    </tr>\n",
              "    <tr>\n",
              "      <th>1</th>\n",
              "      <td>অনলাইন ডেস্ক</td>\n",
              "      <td>sports</td>\n",
              "      <td>খেলা</td>\n",
              "      <td>০৪ জুলাই ২০১৩, ২৩:০৯</td>\n",
              "      <td>০৪ জুলাই ২০১৩, ২৩:১১</td>\n",
              "      <td>[টেনিস]</td>\n",
              "      <td>0</td>\n",
              "      <td>সেমিফাইনাল বাধাও পেরিয়ে গেলেন লিসিকি</td>\n",
              "      <td>http://www.prothom-alo.com/sports/article/19028</td>\n",
              "      <td>এবারের উইম্বলডনটা স্মরণীয় করে রাখার মিশনেই যে...</td>\n",
              "    </tr>\n",
              "    <tr>\n",
              "      <th>2</th>\n",
              "      <td>নিজস্ব প্রতিবেদক</td>\n",
              "      <td>bangladesh</td>\n",
              "      <td>বাংলাদেশ</td>\n",
              "      <td>০৪ জুলাই ২০১৩, ২২:২৫</td>\n",
              "      <td>০৪ জুলাই ২০১৩, ২৩:১২</td>\n",
              "      <td>[রাজনীতি]</td>\n",
              "      <td>0</td>\n",
              "      <td>সংসদে খালেদার অভিযোগের জবাব দিয়েছে ভারত</td>\n",
              "      <td>http://www.prothom-alo.com/bangladesh/article/...</td>\n",
              "      <td>জাতীয় সংসদে বিএনপি চেয়ারপারসন ও বিরোধীদলীয় ...</td>\n",
              "    </tr>\n",
              "    <tr>\n",
              "      <th>3</th>\n",
              "      <td>অনলাইন ডেস্ক</td>\n",
              "      <td>technology</td>\n",
              "      <td>বিজ্ঞান ও প্রযুক্তি</td>\n",
              "      <td>০৪ জুলাই ২০১৩, ২১:৩৭</td>\n",
              "      <td>০৪ জুলাই ২০১৩, ২১:৪৫</td>\n",
              "      <td>[গবেষণা]</td>\n",
              "      <td>0</td>\n",
              "      <td>পাসওয়ার্ড ভুলে যান!</td>\n",
              "      <td>http://www.prothom-alo.com/technology/article/...</td>\n",
              "      <td>সহজ পাসওয়ার্ডের কারণে অনলাইন অ্যাকাউন্ট সহজেই...</td>\n",
              "    </tr>\n",
              "    <tr>\n",
              "      <th>4</th>\n",
              "      <td>অনলাইন ডেস্ক</td>\n",
              "      <td>technology</td>\n",
              "      <td>বিজ্ঞান ও প্রযুক্তি</td>\n",
              "      <td>০৪ জুলাই ২০১৩, ২১:৩৫</td>\n",
              "      <td>০৪ জুলাই ২০১৩, ২১:৩৭</td>\n",
              "      <td>[কম্পিউটার]</td>\n",
              "      <td>0</td>\n",
              "      <td>চলে গেলেন মাউস উদ্ভাবক</td>\n",
              "      <td>http://www.prothom-alo.com/technology/article/...</td>\n",
              "      <td>কম্পিউটার মাউসের উদ্ভাবক ডগলাস অ্যাঙ্গেলবার্ট ...</td>\n",
              "    </tr>\n",
              "    <tr>\n",
              "      <th>5</th>\n",
              "      <td>অনলাইন ডেস্ক</td>\n",
              "      <td>technology</td>\n",
              "      <td>বিজ্ঞান ও প্রযুক্তি</td>\n",
              "      <td>০৪ জুলাই ২০১৩, ২১:৩১</td>\n",
              "      <td>০৪ জুলাই ২০১৩, ২১:৩৫</td>\n",
              "      <td>[মোবাইল ফোন]</td>\n",
              "      <td>0</td>\n",
              "      <td>অ্যান্ড্রয়েডের বড় ত্রুটির খোঁজ</td>\n",
              "      <td>http://www.prothom-alo.com/technology/article/...</td>\n",
              "      <td>গুগলের মোবাইল অপারেটিং সিস্টেম অ্যান্ড্রয়েডের...</td>\n",
              "    </tr>\n",
              "    <tr>\n",
              "      <th>6</th>\n",
              "      <td>চাঁদপুর প্রতিনিধি</td>\n",
              "      <td>bangladesh</td>\n",
              "      <td>বাংলাদেশ</td>\n",
              "      <td>০৪ জুলাই ২০১৩, ২১:২৩</td>\n",
              "      <td>০৪ জুলাই ২০১৩, ২১:৩৭</td>\n",
              "      <td>[রাজনীতি]</td>\n",
              "      <td>0</td>\n",
              "      <td>খালেদা দুষ্টু কথা বলেছেন: স্বরাষ্ট্রমন্ত্রী</td>\n",
              "      <td>http://www.prothom-alo.com/bangladesh/article/...</td>\n",
              "      <td>যুক্তরাষ্ট্রের বাজারে জিএসপি-সুবিধা বন্ধ হওয়া...</td>\n",
              "    </tr>\n",
              "    <tr>\n",
              "      <th>7</th>\n",
              "      <td>নিজস্ব প্রতিবেদক</td>\n",
              "      <td>bangladesh</td>\n",
              "      <td>বাংলাদেশ</td>\n",
              "      <td>০৪ জুলাই ২০১৩, ২১:১২</td>\n",
              "      <td>০৪ জুলাই ২০১৩, ২১:১৫</td>\n",
              "      <td>-1</td>\n",
              "      <td>0</td>\n",
              "      <td>আরও ১১টি বিমা কোম্পানি অনুমোদন পেল</td>\n",
              "      <td>http://www.prothom-alo.com/bangladesh/article/...</td>\n",
              "      <td>১১টি বিমা কোম্পানিকে লাইসেন্সের অনুমোদন দিয়েছ...</td>\n",
              "    </tr>\n",
              "    <tr>\n",
              "      <th>8</th>\n",
              "      <td>নিজস্ব প্রতিবেদক</td>\n",
              "      <td>bangladesh</td>\n",
              "      <td>বাংলাদেশ</td>\n",
              "      <td>০৪ জুলাই ২০১৩, ২১:১১</td>\n",
              "      <td>০৪ জুলাই ২০১৩, ২১:১২</td>\n",
              "      <td>[সিলেট]</td>\n",
              "      <td>0</td>\n",
              "      <td>সিএনজি স্টেশনে কাল থেকে অনির্দিষ্টকালের ধর্মঘট</td>\n",
              "      <td>http://www.prothom-alo.com/bangladesh/article/...</td>\n",
              "      <td>ম্যাজিস্ট্রেটের মাধ্যমে সিলেটে সিএনজি স্টেশনের...</td>\n",
              "    </tr>\n",
              "    <tr>\n",
              "      <th>9</th>\n",
              "      <td>অনলাইন প্রতিবেদক</td>\n",
              "      <td>entertainment</td>\n",
              "      <td>বিনোদন</td>\n",
              "      <td>০৪ জুলাই ২০১৩, ২১:০৭</td>\n",
              "      <td>১১ ফেব্রুয়ারি ২০১৮, ১৪:১৮</td>\n",
              "      <td>[বাংলা গান]</td>\n",
              "      <td>১</td>\n",
              "      <td>ওয়েবসাইটে মমতাজ-বাপ্পার গান (অডিও)</td>\n",
              "      <td>http://www.prothom-alo.com/entertainment/artic...</td>\n",
              "      <td>একক-মিশ্র অ্যালবামে অনেক গানই করেছেন বাপ্পা মজ...</td>\n",
              "    </tr>\n",
              "  </tbody>\n",
              "</table>\n",
              "</div>"
            ],
            "text/plain": [
              "              author  ...                                            content\n",
              "0  গাজীপুর প্রতিনিধি  ...  গাজীপুরের কালিয়াকৈর উপজেলার তেলিরচালা এলাকায়...\n",
              "1       অনলাইন ডেস্ক  ...  এবারের উইম্বলডনটা স্মরণীয় করে রাখার মিশনেই যে...\n",
              "2   নিজস্ব প্রতিবেদক  ...  জাতীয় সংসদে বিএনপি চেয়ারপারসন ও বিরোধীদলীয় ...\n",
              "3       অনলাইন ডেস্ক  ...  সহজ পাসওয়ার্ডের কারণে অনলাইন অ্যাকাউন্ট সহজেই...\n",
              "4       অনলাইন ডেস্ক  ...  কম্পিউটার মাউসের উদ্ভাবক ডগলাস অ্যাঙ্গেলবার্ট ...\n",
              "5       অনলাইন ডেস্ক  ...  গুগলের মোবাইল অপারেটিং সিস্টেম অ্যান্ড্রয়েডের...\n",
              "6  চাঁদপুর প্রতিনিধি  ...  যুক্তরাষ্ট্রের বাজারে জিএসপি-সুবিধা বন্ধ হওয়া...\n",
              "7   নিজস্ব প্রতিবেদক  ...  ১১টি বিমা কোম্পানিকে লাইসেন্সের অনুমোদন দিয়েছ...\n",
              "8   নিজস্ব প্রতিবেদক  ...  ম্যাজিস্ট্রেটের মাধ্যমে সিলেটে সিএনজি স্টেশনের...\n",
              "9   অনলাইন প্রতিবেদক  ...  একক-মিশ্র অ্যালবামে অনেক গানই করেছেন বাপ্পা মজ...\n",
              "\n",
              "[10 rows x 10 columns]"
            ]
          },
          "metadata": {
            "tags": []
          },
          "execution_count": 7
        }
      ]
    },
    {
      "cell_type": "markdown",
      "metadata": {
        "id": "cLlrN0Ss835D"
      },
      "source": [
        "Saving Files For Language Identification"
      ]
    },
    {
      "cell_type": "code",
      "metadata": {
        "id": "40uxb50RBlzK"
      },
      "source": [
        "data_to_be_saved=data['content'][:3000]\n",
        "data_to_be_saved.to_csv('/content/drive/MyDrive/AI/bangla_text.csv')"
      ],
      "execution_count": null,
      "outputs": []
    },
    {
      "cell_type": "markdown",
      "metadata": {
        "id": "FfkiQsIo9dyI"
      },
      "source": [
        "\n",
        "\n",
        "---\n",
        "\n"
      ]
    },
    {
      "cell_type": "code",
      "metadata": {
        "id": "fkSW5RlLBRFh"
      },
      "source": [
        "def tagModify(tags):\n",
        "  for tag in tags:\n",
        "    if(tag=='রাজনীতি'):\n",
        "       return True;\n",
        "  else:\n",
        "     return False;"
      ],
      "execution_count": null,
      "outputs": []
    },
    {
      "cell_type": "code",
      "metadata": {
        "id": "M20WSW7ksRYW"
      },
      "source": [
        "data['political']= data['tag'].apply(tagModify)"
      ],
      "execution_count": null,
      "outputs": []
    },
    {
      "cell_type": "code",
      "metadata": {
        "colab": {
          "base_uri": "https://localhost:8080/",
          "height": 505
        },
        "id": "rfQzP0atBtub",
        "outputId": "6d9500cb-3608-4a98-f5ff-c33735cf5aa3"
      },
      "source": [
        "plt.figure(figsize=(7,7))\n",
        "sns.histplot(data.political,discrete=True)"
      ],
      "execution_count": null,
      "outputs": [
        {
          "output_type": "stream",
          "text": [
            "<string>:6: RuntimeWarning: Converting input from bool to <class 'numpy.uint8'> for compatibility.\n"
          ],
          "name": "stderr"
        },
        {
          "output_type": "execute_result",
          "data": {
            "text/plain": [
              "<matplotlib.axes._subplots.AxesSubplot at 0x7f6b0292c690>"
            ]
          },
          "metadata": {
            "tags": []
          },
          "execution_count": 11
        },
        {
          "output_type": "display_data",
          "data": {
            "image/png": "[encoded data removed]",
            "text/plain": [
              "<Figure size 504x504 with 1 Axes>"
            ]
          },
          "metadata": {
            "tags": []
          }
        }
      ]
    },
    {
      "cell_type": "code",
      "metadata": {
        "id": "QPXhPf9dqo2m"
      },
      "source": [
        "data=data.drop(columns=['author','category','category_bn','published_date','modification_date','tag','comment_count','title','url'])"
      ],
      "execution_count": null,
      "outputs": []
    },
    {
      "cell_type": "code",
      "metadata": {
        "colab": {
          "base_uri": "https://localhost:8080/",
          "height": 198
        },
        "id": "NkbBkVov3j4n",
        "outputId": "5c49fb57-4c4e-4696-af4d-bfa60e4aeb60"
      },
      "source": [
        "data=data.reset_index(drop=True)\n",
        "data.head()"
      ],
      "execution_count": null,
      "outputs": [
        {
          "output_type": "execute_result",
          "data": {
            "text/html": [
              "<div>\n",
              "<style scoped>\n",
              "    .dataframe tbody tr th:only-of-type {\n",
              "        vertical-align: middle;\n",
              "    }\n",
              "\n",
              "    .dataframe tbody tr th {\n",
              "        vertical-align: top;\n",
              "    }\n",
              "\n",
              "    .dataframe thead th {\n",
              "        text-align: right;\n",
              "    }\n",
              "</style>\n",
              "<table border=\"1\" class=\"dataframe\">\n",
              "  <thead>\n",
              "    <tr style=\"text-align: right;\">\n",
              "      <th></th>\n",
              "      <th>content</th>\n",
              "      <th>political</th>\n",
              "    </tr>\n",
              "  </thead>\n",
              "  <tbody>\n",
              "    <tr>\n",
              "      <th>0</th>\n",
              "      <td>গাজীপুরের কালিয়াকৈর উপজেলার তেলিরচালা এলাকায়...</td>\n",
              "      <td>False</td>\n",
              "    </tr>\n",
              "    <tr>\n",
              "      <th>1</th>\n",
              "      <td>এবারের উইম্বলডনটা স্মরণীয় করে রাখার মিশনেই যে...</td>\n",
              "      <td>False</td>\n",
              "    </tr>\n",
              "    <tr>\n",
              "      <th>2</th>\n",
              "      <td>জাতীয় সংসদে বিএনপি চেয়ারপারসন ও বিরোধীদলীয় ...</td>\n",
              "      <td>True</td>\n",
              "    </tr>\n",
              "    <tr>\n",
              "      <th>3</th>\n",
              "      <td>সহজ পাসওয়ার্ডের কারণে অনলাইন অ্যাকাউন্ট সহজেই...</td>\n",
              "      <td>False</td>\n",
              "    </tr>\n",
              "    <tr>\n",
              "      <th>4</th>\n",
              "      <td>কম্পিউটার মাউসের উদ্ভাবক ডগলাস অ্যাঙ্গেলবার্ট ...</td>\n",
              "      <td>False</td>\n",
              "    </tr>\n",
              "  </tbody>\n",
              "</table>\n",
              "</div>"
            ],
            "text/plain": [
              "                                             content  political\n",
              "0  গাজীপুরের কালিয়াকৈর উপজেলার তেলিরচালা এলাকায়...      False\n",
              "1  এবারের উইম্বলডনটা স্মরণীয় করে রাখার মিশনেই যে...      False\n",
              "2  জাতীয় সংসদে বিএনপি চেয়ারপারসন ও বিরোধীদলীয় ...       True\n",
              "3  সহজ পাসওয়ার্ডের কারণে অনলাইন অ্যাকাউন্ট সহজেই...      False\n",
              "4  কম্পিউটার মাউসের উদ্ভাবক ডগলাস অ্যাঙ্গেলবার্ট ...      False"
            ]
          },
          "metadata": {
            "tags": []
          },
          "execution_count": 13
        }
      ]
    },
    {
      "cell_type": "code",
      "metadata": {
        "colab": {
          "base_uri": "https://localhost:8080/",
          "height": 198
        },
        "id": "oCWoLupp3Orx",
        "outputId": "f7db2bba-daff-4b51-e812-c4d73ef8549d"
      },
      "source": [
        "label_encoder=preprocessing.LabelEncoder()\n",
        "data['category_target']=label_encoder.fit_transform(data['political'])\n",
        "data.head()"
      ],
      "execution_count": null,
      "outputs": [
        {
          "output_type": "execute_result",
          "data": {
            "text/html": [
              "<div>\n",
              "<style scoped>\n",
              "    .dataframe tbody tr th:only-of-type {\n",
              "        vertical-align: middle;\n",
              "    }\n",
              "\n",
              "    .dataframe tbody tr th {\n",
              "        vertical-align: top;\n",
              "    }\n",
              "\n",
              "    .dataframe thead th {\n",
              "        text-align: right;\n",
              "    }\n",
              "</style>\n",
              "<table border=\"1\" class=\"dataframe\">\n",
              "  <thead>\n",
              "    <tr style=\"text-align: right;\">\n",
              "      <th></th>\n",
              "      <th>content</th>\n",
              "      <th>political</th>\n",
              "      <th>category_target</th>\n",
              "    </tr>\n",
              "  </thead>\n",
              "  <tbody>\n",
              "    <tr>\n",
              "      <th>0</th>\n",
              "      <td>গাজীপুরের কালিয়াকৈর উপজেলার তেলিরচালা এলাকায়...</td>\n",
              "      <td>False</td>\n",
              "      <td>0</td>\n",
              "    </tr>\n",
              "    <tr>\n",
              "      <th>1</th>\n",
              "      <td>এবারের উইম্বলডনটা স্মরণীয় করে রাখার মিশনেই যে...</td>\n",
              "      <td>False</td>\n",
              "      <td>0</td>\n",
              "    </tr>\n",
              "    <tr>\n",
              "      <th>2</th>\n",
              "      <td>জাতীয় সংসদে বিএনপি চেয়ারপারসন ও বিরোধীদলীয় ...</td>\n",
              "      <td>True</td>\n",
              "      <td>1</td>\n",
              "    </tr>\n",
              "    <tr>\n",
              "      <th>3</th>\n",
              "      <td>সহজ পাসওয়ার্ডের কারণে অনলাইন অ্যাকাউন্ট সহজেই...</td>\n",
              "      <td>False</td>\n",
              "      <td>0</td>\n",
              "    </tr>\n",
              "    <tr>\n",
              "      <th>4</th>\n",
              "      <td>কম্পিউটার মাউসের উদ্ভাবক ডগলাস অ্যাঙ্গেলবার্ট ...</td>\n",
              "      <td>False</td>\n",
              "      <td>0</td>\n",
              "    </tr>\n",
              "  </tbody>\n",
              "</table>\n",
              "</div>"
            ],
            "text/plain": [
              "                                             content  ...  category_target\n",
              "0  গাজীপুরের কালিয়াকৈর উপজেলার তেলিরচালা এলাকায়...  ...                0\n",
              "1  এবারের উইম্বলডনটা স্মরণীয় করে রাখার মিশনেই যে...  ...                0\n",
              "2  জাতীয় সংসদে বিএনপি চেয়ারপারসন ও বিরোধীদলীয় ...  ...                1\n",
              "3  সহজ পাসওয়ার্ডের কারণে অনলাইন অ্যাকাউন্ট সহজেই...  ...                0\n",
              "4  কম্পিউটার মাউসের উদ্ভাবক ডগলাস অ্যাঙ্গেলবার্ট ...  ...                0\n",
              "\n",
              "[5 rows x 3 columns]"
            ]
          },
          "metadata": {
            "tags": []
          },
          "execution_count": 14
        }
      ]
    },
    {
      "cell_type": "code",
      "metadata": {
        "id": "CSTTAVFVq5SL"
      },
      "source": [
        "data.to_csv('/content/political_post_data.csv')"
      ],
      "execution_count": null,
      "outputs": []
    },
    {
      "cell_type": "code",
      "metadata": {
        "colab": {
          "base_uri": "https://localhost:8080/",
          "height": 545
        },
        "id": "vC0Iuwfy1AVW",
        "outputId": "49881abb-d862-44cb-b59b-9c74bd60eb16"
      },
      "source": [
        "!pip install -U scikit-learn\n",
        "!pip install -U pickle5"
      ],
      "execution_count": null,
      "outputs": [
        {
          "output_type": "stream",
          "text": [
            "Collecting scikit-learn\n",
            "\u001b[?25l  Downloading https://files.pythonhosted.org/packages/f3/74/eb899f41d55f957e2591cde5528e75871f817d9fb46d4732423ecaca736d/scikit_learn-0.24.1-cp37-cp37m-manylinux2010_x86_64.whl (22.3MB)\n",
            "\u001b[K     |████████████████████████████████| 22.3MB 2.0MB/s \n",
            "\u001b[?25hRequirement already satisfied, skipping upgrade: numpy>=1.13.3 in /usr/local/lib/python3.7/dist-packages (from scikit-learn) (1.19.5)\n",
            "Requirement already satisfied, skipping upgrade: scipy>=0.19.1 in /usr/local/lib/python3.7/dist-packages (from scikit-learn) (1.4.1)\n",
            "Collecting threadpoolctl>=2.0.0\n",
            "  Downloading https://files.pythonhosted.org/packages/f7/12/ec3f2e203afa394a149911729357aa48affc59c20e2c1c8297a60f33f133/threadpoolctl-2.1.0-py3-none-any.whl\n",
            "Requirement already satisfied, skipping upgrade: joblib>=0.11 in /usr/local/lib/python3.7/dist-packages (from scikit-learn) (1.0.1)\n",
            "Installing collected packages: threadpoolctl, scikit-learn\n",
            "  Found existing installation: scikit-learn 0.22.2.post1\n",
            "    Uninstalling scikit-learn-0.22.2.post1:\n",
            "      Successfully uninstalled scikit-learn-0.22.2.post1\n",
            "Successfully installed scikit-learn-0.24.1 threadpoolctl-2.1.0\n"
          ],
          "name": "stdout"
        },
        {
          "output_type": "display_data",
          "data": {
            "application/vnd.colab-display-data+json": {
              "pip_warning": {
                "packages": [
                  "sklearn"
                ]
              }
            }
          },
          "metadata": {
            "tags": []
          }
        },
        {
          "output_type": "stream",
          "text": [
            "Collecting pickle5\n",
            "\u001b[?25l  Downloading https://files.pythonhosted.org/packages/f7/4c/5c4dd0462c8d3a6bc4af500a6af240763c2ebd1efdc736fc2c946d44b70a/pickle5-0.0.11.tar.gz (132kB)\n",
            "\r\u001b[K     |██▌                             | 10kB 14.2MB/s eta 0:00:01\r\u001b[K     |█████                           | 20kB 9.2MB/s eta 0:00:01\r\u001b[K     |███████▍                        | 30kB 6.2MB/s eta 0:00:01\r\u001b[K     |██████████                      | 40kB 5.6MB/s eta 0:00:01\r\u001b[K     |████████████▍                   | 51kB 3.9MB/s eta 0:00:01\r\u001b[K     |██████████████▉                 | 61kB 4.5MB/s eta 0:00:01\r\u001b[K     |█████████████████▍              | 71kB 5.0MB/s eta 0:00:01\r\u001b[K     |███████████████████▉            | 81kB 5.0MB/s eta 0:00:01\r\u001b[K     |██████████████████████▎         | 92kB 5.2MB/s eta 0:00:01\r\u001b[K     |████████████████████████▉       | 102kB 3.9MB/s eta 0:00:01\r\u001b[K     |███████████████████████████▎    | 112kB 3.9MB/s eta 0:00:01\r\u001b[K     |█████████████████████████████▊  | 122kB 3.9MB/s eta 0:00:01\r\u001b[K     |████████████████████████████████| 133kB 3.9MB/s \n",
            "\u001b[?25hBuilding wheels for collected packages: pickle5\n",
            "  Building wheel for pickle5 (setup.py) ... \u001b[?25l\u001b[?25hdone\n",
            "  Created wheel for pickle5: filename=pickle5-0.0.11-cp37-cp37m-linux_x86_64.whl size=219245 sha256=9e93ff51cfb53f38e6f3bc9e006c4d1a30138982ba595c016cb3e9a5233c689b\n",
            "  Stored in directory: /root/.cache/pip/wheels/a6/90/95/f889ca4aa8b0e0c7f21c8470b6f5d6032f0390a3a141a9a3bd\n",
            "Successfully built pickle5\n",
            "Installing collected packages: pickle5\n",
            "Successfully installed pickle5-0.0.11\n"
          ],
          "name": "stdout"
        }
      ]
    },
    {
      "cell_type": "code",
      "metadata": {
        "colab": {
          "base_uri": "https://localhost:8080/"
        },
        "id": "ZH_5nLw1uSSB",
        "outputId": "47a9058f-b18c-4e9b-c0bb-9c82f37bd663"
      },
      "source": [
        "data=pd.read_csv('/content/political_post_data.csv')[:30000]"
      ],
      "execution_count": null,
      "outputs": [
        {
          "output_type": "stream",
          "text": [
            "/usr/local/lib/python3.7/dist-packages/IPython/core/interactiveshell.py:2718: DtypeWarning: Columns (0,2) have mixed types.Specify dtype option on import or set low_memory=False.\n",
            "  interactivity=interactivity, compiler=compiler, result=result)\n"
          ],
          "name": "stderr"
        }
      ]
    },
    {
      "cell_type": "code",
      "metadata": {
        "id": "Bgv9H4w44R1N"
      },
      "source": [
        "data=data.drop('Unnamed: 0',axis=1)"
      ],
      "execution_count": null,
      "outputs": []
    },
    {
      "cell_type": "code",
      "metadata": {
        "id": "Zoy5Ij1cySFs"
      },
      "source": [
        "data=data.dropna()"
      ],
      "execution_count": null,
      "outputs": []
    },
    {
      "cell_type": "code",
      "metadata": {
        "colab": {
          "base_uri": "https://localhost:8080/"
        },
        "id": "xgw52jmwzQQW",
        "outputId": "b6982ada-7792-490a-bbcd-242e6d78260a"
      },
      "source": [
        "data['content'].isnull().any()"
      ],
      "execution_count": null,
      "outputs": [
        {
          "output_type": "execute_result",
          "data": {
            "text/plain": [
              "False"
            ]
          },
          "metadata": {
            "tags": []
          },
          "execution_count": 7
        }
      ]
    },
    {
      "cell_type": "code",
      "metadata": {
        "colab": {
          "base_uri": "https://localhost:8080/",
          "height": 320
        },
        "id": "P8mV98jUFuEQ",
        "outputId": "03744957-a282-42d9-87b3-c4c6a6507dcd"
      },
      "source": [
        "sns.histplot(data['political'],discrete=True)"
      ],
      "execution_count": null,
      "outputs": [
        {
          "output_type": "execute_result",
          "data": {
            "text/plain": [
              "<matplotlib.axes._subplots.AxesSubplot at 0x7fee37c21a10>"
            ]
          },
          "metadata": {
            "tags": []
          },
          "execution_count": 8
        },
        {
          "output_type": "display_data",
          "data": {
            "image/png": "[encoded data removed]",
            "text/plain": [
              "<Figure size 432x288 with 1 Axes>"
            ]
          },
          "metadata": {
            "tags": []
          }
        }
      ]
    },
    {
      "cell_type": "code",
      "metadata": {
        "colab": {
          "base_uri": "https://localhost:8080/",
          "height": 198
        },
        "id": "VlTyqVM08Mac",
        "outputId": "eb541228-7470-4cc5-a5fc-78286569e350"
      },
      "source": [
        "data.head()"
      ],
      "execution_count": null,
      "outputs": [
        {
          "output_type": "execute_result",
          "data": {
            "text/html": [
              "<div>\n",
              "<style scoped>\n",
              "    .dataframe tbody tr th:only-of-type {\n",
              "        vertical-align: middle;\n",
              "    }\n",
              "\n",
              "    .dataframe tbody tr th {\n",
              "        vertical-align: top;\n",
              "    }\n",
              "\n",
              "    .dataframe thead th {\n",
              "        text-align: right;\n",
              "    }\n",
              "</style>\n",
              "<table border=\"1\" class=\"dataframe\">\n",
              "  <thead>\n",
              "    <tr style=\"text-align: right;\">\n",
              "      <th></th>\n",
              "      <th>content</th>\n",
              "      <th>political</th>\n",
              "      <th>category_target</th>\n",
              "    </tr>\n",
              "  </thead>\n",
              "  <tbody>\n",
              "    <tr>\n",
              "      <th>0</th>\n",
              "      <td>গাজীপুরের কালিয়াকৈর উপজেলার তেলিরচালা এলাকায়...</td>\n",
              "      <td>False</td>\n",
              "      <td>0.0</td>\n",
              "    </tr>\n",
              "    <tr>\n",
              "      <th>1</th>\n",
              "      <td>এবারের উইম্বলডনটা স্মরণীয় করে রাখার মিশনেই যে...</td>\n",
              "      <td>False</td>\n",
              "      <td>0.0</td>\n",
              "    </tr>\n",
              "    <tr>\n",
              "      <th>2</th>\n",
              "      <td>জাতীয় সংসদে বিএনপি চেয়ারপারসন ও বিরোধীদলীয় ...</td>\n",
              "      <td>True</td>\n",
              "      <td>1.0</td>\n",
              "    </tr>\n",
              "    <tr>\n",
              "      <th>3</th>\n",
              "      <td>সহজ পাসওয়ার্ডের কারণে অনলাইন অ্যাকাউন্ট সহজেই...</td>\n",
              "      <td>False</td>\n",
              "      <td>0.0</td>\n",
              "    </tr>\n",
              "    <tr>\n",
              "      <th>4</th>\n",
              "      <td>কম্পিউটার মাউসের উদ্ভাবক ডগলাস অ্যাঙ্গেলবার্ট ...</td>\n",
              "      <td>False</td>\n",
              "      <td>0.0</td>\n",
              "    </tr>\n",
              "  </tbody>\n",
              "</table>\n",
              "</div>"
            ],
            "text/plain": [
              "                                             content political  category_target\n",
              "0  গাজীপুরের কালিয়াকৈর উপজেলার তেলিরচালা এলাকায়...     False              0.0\n",
              "1  এবারের উইম্বলডনটা স্মরণীয় করে রাখার মিশনেই যে...     False              0.0\n",
              "2  জাতীয় সংসদে বিএনপি চেয়ারপারসন ও বিরোধীদলীয় ...      True              1.0\n",
              "3  সহজ পাসওয়ার্ডের কারণে অনলাইন অ্যাকাউন্ট সহজেই...     False              0.0\n",
              "4  কম্পিউটার মাউসের উদ্ভাবক ডগলাস অ্যাঙ্গেলবার্ট ...     False              0.0"
            ]
          },
          "metadata": {
            "tags": []
          },
          "execution_count": 9
        }
      ]
    },
    {
      "cell_type": "code",
      "metadata": {
        "id": "bi1Ql14c_Zj3"
      },
      "source": [
        "data['index'] = data.index"
      ],
      "execution_count": null,
      "outputs": []
    },
    {
      "cell_type": "code",
      "metadata": {
        "colab": {
          "base_uri": "https://localhost:8080/",
          "height": 198
        },
        "id": "beD_2OMw_fk4",
        "outputId": "a89d5bdf-648f-46ad-9b3b-1ff1bb5de4da"
      },
      "source": [
        "data.head()"
      ],
      "execution_count": null,
      "outputs": [
        {
          "output_type": "execute_result",
          "data": {
            "text/html": [
              "<div>\n",
              "<style scoped>\n",
              "    .dataframe tbody tr th:only-of-type {\n",
              "        vertical-align: middle;\n",
              "    }\n",
              "\n",
              "    .dataframe tbody tr th {\n",
              "        vertical-align: top;\n",
              "    }\n",
              "\n",
              "    .dataframe thead th {\n",
              "        text-align: right;\n",
              "    }\n",
              "</style>\n",
              "<table border=\"1\" class=\"dataframe\">\n",
              "  <thead>\n",
              "    <tr style=\"text-align: right;\">\n",
              "      <th></th>\n",
              "      <th>content</th>\n",
              "      <th>political</th>\n",
              "      <th>category_target</th>\n",
              "      <th>index</th>\n",
              "    </tr>\n",
              "  </thead>\n",
              "  <tbody>\n",
              "    <tr>\n",
              "      <th>0</th>\n",
              "      <td>গাজীপুরের কালিয়াকৈর উপজেলার তেলিরচালা এলাকায়...</td>\n",
              "      <td>False</td>\n",
              "      <td>0.0</td>\n",
              "      <td>0</td>\n",
              "    </tr>\n",
              "    <tr>\n",
              "      <th>1</th>\n",
              "      <td>এবারের উইম্বলডনটা স্মরণীয় করে রাখার মিশনেই যে...</td>\n",
              "      <td>False</td>\n",
              "      <td>0.0</td>\n",
              "      <td>1</td>\n",
              "    </tr>\n",
              "    <tr>\n",
              "      <th>2</th>\n",
              "      <td>জাতীয় সংসদে বিএনপি চেয়ারপারসন ও বিরোধীদলীয় ...</td>\n",
              "      <td>True</td>\n",
              "      <td>1.0</td>\n",
              "      <td>2</td>\n",
              "    </tr>\n",
              "    <tr>\n",
              "      <th>3</th>\n",
              "      <td>সহজ পাসওয়ার্ডের কারণে অনলাইন অ্যাকাউন্ট সহজেই...</td>\n",
              "      <td>False</td>\n",
              "      <td>0.0</td>\n",
              "      <td>3</td>\n",
              "    </tr>\n",
              "    <tr>\n",
              "      <th>4</th>\n",
              "      <td>কম্পিউটার মাউসের উদ্ভাবক ডগলাস অ্যাঙ্গেলবার্ট ...</td>\n",
              "      <td>False</td>\n",
              "      <td>0.0</td>\n",
              "      <td>4</td>\n",
              "    </tr>\n",
              "  </tbody>\n",
              "</table>\n",
              "</div>"
            ],
            "text/plain": [
              "                                             content  ... index\n",
              "0  গাজীপুরের কালিয়াকৈর উপজেলার তেলিরচালা এলাকায়...  ...     0\n",
              "1  এবারের উইম্বলডনটা স্মরণীয় করে রাখার মিশনেই যে...  ...     1\n",
              "2  জাতীয় সংসদে বিএনপি চেয়ারপারসন ও বিরোধীদলীয় ...  ...     2\n",
              "3  সহজ পাসওয়ার্ডের কারণে অনলাইন অ্যাকাউন্ট সহজেই...  ...     3\n",
              "4  কম্পিউটার মাউসের উদ্ভাবক ডগলাস অ্যাঙ্গেলবার্ট ...  ...     4\n",
              "\n",
              "[5 rows x 4 columns]"
            ]
          },
          "metadata": {
            "tags": []
          },
          "execution_count": 11
        }
      ]
    },
    {
      "cell_type": "code",
      "metadata": {
        "colab": {
          "base_uri": "https://localhost:8080/"
        },
        "id": "6tb0fvfV4VPT",
        "outputId": "e916ffd9-acf9-4411-9696-1c55ef17158a"
      },
      "source": [
        "!git clone https://github.com/banglakit/bengali-stemmer"
      ],
      "execution_count": null,
      "outputs": [
        {
          "output_type": "stream",
          "text": [
            "Cloning into 'bengali-stemmer'...\n",
            "remote: Enumerating objects: 25, done.\u001b[K\n",
            "remote: Counting objects: 100% (25/25), done.\u001b[K\n",
            "remote: Compressing objects: 100% (17/17), done.\u001b[K\n",
            "remote: Total 94 (delta 5), reused 16 (delta 4), pack-reused 69\u001b[K\n",
            "Unpacking objects: 100% (94/94), done.\n"
          ],
          "name": "stdout"
        }
      ]
    },
    {
      "cell_type": "code",
      "metadata": {
        "id": "1NYLFbTXPx-1"
      },
      "source": [
        "!mv /content/bengali-stemmer /content/bengali"
      ],
      "execution_count": null,
      "outputs": []
    },
    {
      "cell_type": "code",
      "metadata": {
        "id": "oJoKIcsrP08s"
      },
      "source": [
        "from bengali.bengali_stemmer.rafikamal2014 import RafiStemmer\n",
        "stemmer=RafiStemmer()"
      ],
      "execution_count": null,
      "outputs": []
    },
    {
      "cell_type": "code",
      "metadata": {
        "colab": {
          "base_uri": "https://localhost:8080/"
        },
        "id": "LRny8RaRP391",
        "outputId": "28335c5a-f704-4583-b920-be0f71817254"
      },
      "source": [
        "print(stemmer.stem_word('অনেকেই'))"
      ],
      "execution_count": null,
      "outputs": [
        {
          "output_type": "stream",
          "text": [
            "অন\n"
          ],
          "name": "stdout"
        }
      ]
    },
    {
      "cell_type": "code",
      "metadata": {
        "colab": {
          "base_uri": "https://localhost:8080/"
        },
        "id": "pt2khJTxP57m",
        "outputId": "2663080c-169f-433f-b4e2-355028f0d50b"
      },
      "source": [
        "!wget https://raw.githubusercontent.com/stopwords-iso/stopwords-bn/master/raw/ranksnl-bengali.txt"
      ],
      "execution_count": null,
      "outputs": [
        {
          "output_type": "stream",
          "text": [
            "--2021-03-15 00:37:18--  https://raw.githubusercontent.com/stopwords-iso/stopwords-bn/master/raw/ranksnl-bengali.txt\n",
            "Resolving raw.githubusercontent.com (raw.githubusercontent.com)... 185.199.108.133, 185.199.109.133, 185.199.110.133, ...\n",
            "Connecting to raw.githubusercontent.com (raw.githubusercontent.com)|185.199.108.133|:443... connected.\n",
            "HTTP request sent, awaiting response... 200 OK\n",
            "Length: 4991 (4.9K) [text/plain]\n",
            "Saving to: ‘ranksnl-bengali.txt.1’\n",
            "\n",
            "ranksnl-bengali.txt 100%[===================>]   4.87K  --.-KB/s    in 0s      \n",
            "\n",
            "2021-03-15 00:37:18 (48.9 MB/s) - ‘ranksnl-bengali.txt.1’ saved [4991/4991]\n",
            "\n"
          ],
          "name": "stdout"
        }
      ]
    },
    {
      "cell_type": "code",
      "metadata": {
        "colab": {
          "base_uri": "https://localhost:8080/"
        },
        "id": "p3HZ3OYfQDar",
        "outputId": "a50164f4-ec1e-4781-bc21-c6976a6160a0"
      },
      "source": [
        "bn_stopwords=pd.read_csv('/content/ranksnl-bengali.txt',header=None)[0]\n",
        "bn_stopwords"
      ],
      "execution_count": null,
      "outputs": [
        {
          "output_type": "execute_result",
          "data": {
            "text/plain": [
              "0       অবশ্য\n",
              "1        অনেক\n",
              "2       অনেকে\n",
              "3      অনেকেই\n",
              "4       অন্তত\n",
              "        ...  \n",
              "358      চায়\n",
              "359     চেয়ে\n",
              "360       মোট\n",
              "361    যথেষ্ট\n",
              "362        টি\n",
              "Name: 0, Length: 363, dtype: object"
            ]
          },
          "metadata": {
            "tags": []
          },
          "execution_count": 17
        }
      ]
    },
    {
      "cell_type": "code",
      "metadata": {
        "id": "4YYWYGTnZI8R"
      },
      "source": [
        "def executionTime(func):\n",
        "  import time\n",
        "  def wrapper(*args,**kwargs):\n",
        "      start_time = time.time()\n",
        "      result=func(*args,**kwargs)\n",
        "      print(\"Execution time %s ms \" % ((time.time() - start_time)*1000))\n",
        "      return result\n",
        "  return wrapper"
      ],
      "execution_count": null,
      "outputs": []
    },
    {
      "cell_type": "code",
      "metadata": {
        "id": "fCwX1SuxQHJ_"
      },
      "source": [
        "bangla_stop_words_map={}\n",
        "for w in bn_stopwords:\n",
        "  bangla_stop_words_map[w]=True\n",
        "\n",
        "\n",
        "def process_text(text):\n",
        "  # filtered_sequence=[stem_verb(w) for w in word_tokens]\n",
        "  emoji_pattern = re.compile(\"[\"\n",
        "                           u\"\\U0001F600-\\U0001F64F\"  # emoticons\n",
        "                           u\"\\U0001F300-\\U0001F5FF\"  # symbols & pictographs\n",
        "                           u\"\\U0001F680-\\U0001F6FF\"  # transport & map symbols\n",
        "                           u\"\\U0001F1E0-\\U0001F1FF\"  # flags (iOS)\n",
        "                           u\"\\U00002702-\\U000027B0\"\n",
        "                           u\"\\U000024C2-\\U0001F251\"\n",
        "                           \"]+\", flags=re.UNICODE)\n",
        "  english_pattern=re.compile('[a-zA-Z0-9]+', flags=re.I)\n",
        "  begali_digits=re.compile(u'[\\u09E6-\\u09EF]+',flags=re.UNICODE)\n",
        "  puntuation=re.compile(u'[.,!?\\\\-\\u0964]',flags=re.UNICODE)\n",
        "  text=puntuation.sub(r'',text)\n",
        "  text=begali_digits.sub(r'',text)\n",
        "  text=emoji_pattern.sub(r'', text)\n",
        "  text=english_pattern.sub(r'', text)\n",
        "  text=re.sub(r'\\s+', ' ', text)\n",
        "  word_tokens=word_tokenize(text)\n",
        "  filtered_sequence_without_stopwords=[w  for w in word_tokens if not bangla_stop_words_map.get(w,False)]\n",
        "  filtered_sequence=[stemmer.stem_word(w) for w in filtered_sequence_without_stopwords]\n",
        "  text=' '.join(filtered_sequence)\n",
        "  return text"
      ],
      "execution_count": null,
      "outputs": []
    },
    {
      "cell_type": "code",
      "metadata": {
        "colab": {
          "base_uri": "https://localhost:8080/"
        },
        "id": "LCzS5J3kQJev",
        "outputId": "ad2d89db-9d55-4fec-9475-4a26dd36e323"
      },
      "source": [
        "sentence='অক্সফোর্ড বিশ্ববিদ্যালয় ও অ্যাস্ট্রাজেনেকার উদ্ভাবিত করোনভাইরাসের (কোভিড-১৯) jdsfsf টিকা নেওয়ার সঙ্গে মানবদেহে রক্ত জমাট বাঁধার কোনো যোগসূত্র সেই। বিশ্ব স্বাস্থ্য সংস্থা আজ শুক্রবার এ কথা জানিয়েছে। একই সঙ্গে এই টিকাদান কর্মসূচি চালিয়ে যাওয়ার জন্য সব দেশের প্রতি আহ্বান জানিয়েছে সংস্থাটি।  ব্রিটিশ সংবাদমাধ্যম ইনডিপেনডেন্ট-এর প্রতিবেদনে এ কথা  বলা হয়েছে। বিশ্ব স্বাস্থ্য সংস্থা বলছে, কয়েক দিন ধরে এমন কথা শোনা যাচ্ছে যে অক্সফোর্ডের টিকা গ্রহণ করার পর কারও কারও শরীরে রক্ত জমা বাঁধছে।  কিন্তু অক্সফোর্ডের টিকা নিলে মানুষের শরীরের রক্ত জমা বাঁধবে—এমন কোনো আভাস মেলেনি। ডেনমার্ক, নরওয়ে ও আইসল্যান্ডসহ কয়েকটি দেশ চলতি সপ্তাহে অক্সফোর্ডের টিকার ব্যবহার স্থগিত করে দেয়। টিকা নেওয়ার পর কিছু মানুষের ক্ষেত্রে রক্ত জমাট বাঁধার ঘটনা ঘটে বলেও জানানো হয়।'\n",
        "print(process_text(sentence))"
      ],
      "execution_count": null,
      "outputs": [
        {
          "output_type": "stream",
          "text": [
            "অক্সফোর্ড বিশ্ববিদ্যাল অ্যাস্ট্রাজেনেক উদ্ভাবিত করোনভাইরাস ( কোভিড ) টিকা নেওয় মানবদেহ রক্ত জমাট বাঁধ যোগসূত্র বিশ্ব স্বাস্থ্য সংস্থা শুক্রব কথা জানি টিকাদান কর্মসূচি চালি যাওয় দেশ আহ্বান জানি সংস্থা ব্রিটিশ সংবাদমাধ্যম ইনডিপেনডেন্টএর প্রতিবেদন কথা হ বিশ্ব স্বাস্থ্য সংস্থা বল কয়েক দিন কথা শোনা অক্সফোর্ড টিকা গ্রহণ শরীর রক্ত জমা বাঁধ অক্সফোর্ড টিকা নিল মানুষ শরীর রক্ত জমা বাঁধবে—এমন আভাস মেলেনি ডেনমার্ক নরও আইসল্যান্ডসহ কয়েক দেশ চলতি সপ্তাহ অক্সফোর্ড টিক স্থগিত দে টিকা নেওয় মানুষ রক্ত জমাট বাঁধ ঘটনা ঘট বল হ\n"
          ],
          "name": "stdout"
        }
      ]
    },
    {
      "cell_type": "code",
      "metadata": {
        "id": "dces-gLxQMSf"
      },
      "source": [
        "data['Text_parsed']=data['content'].apply(process_text) "
      ],
      "execution_count": null,
      "outputs": []
    },
    {
      "cell_type": "code",
      "metadata": {
        "id": "CPBJtjqi2XyM"
      },
      "source": [
        "data.to_csv('/content/political_post_data_parsed.csv')"
      ],
      "execution_count": null,
      "outputs": []
    },
    {
      "cell_type": "code",
      "metadata": {
        "colab": {
          "base_uri": "https://localhost:8080/",
          "height": 1000
        },
        "id": "ea33nJaIQaqU",
        "outputId": "b1f103f7-3bcd-42db-ebc3-24c884109fd5"
      },
      "source": [
        "data.head(50)"
      ],
      "execution_count": null,
      "outputs": [
        {
          "output_type": "execute_result",
          "data": {
            "text/html": [
              "<div>\n",
              "<style scoped>\n",
              "    .dataframe tbody tr th:only-of-type {\n",
              "        vertical-align: middle;\n",
              "    }\n",
              "\n",
              "    .dataframe tbody tr th {\n",
              "        vertical-align: top;\n",
              "    }\n",
              "\n",
              "    .dataframe thead th {\n",
              "        text-align: right;\n",
              "    }\n",
              "</style>\n",
              "<table border=\"1\" class=\"dataframe\">\n",
              "  <thead>\n",
              "    <tr style=\"text-align: right;\">\n",
              "      <th></th>\n",
              "      <th>content</th>\n",
              "      <th>political</th>\n",
              "      <th>category_target</th>\n",
              "      <th>index</th>\n",
              "      <th>Text_parsed</th>\n",
              "    </tr>\n",
              "  </thead>\n",
              "  <tbody>\n",
              "    <tr>\n",
              "      <th>0</th>\n",
              "      <td>গাজীপুরের কালিয়াকৈর উপজেলার তেলিরচালা এলাকায়...</td>\n",
              "      <td>False</td>\n",
              "      <td>0.0</td>\n",
              "      <td>0</td>\n",
              "      <td>গাজীপুর কালিয়াকৈর উপজেল তেলিরচালা এলাকায় বৃহ...</td>\n",
              "    </tr>\n",
              "    <tr>\n",
              "      <th>1</th>\n",
              "      <td>এবারের উইম্বলডনটা স্মরণীয় করে রাখার মিশনেই যে...</td>\n",
              "      <td>False</td>\n",
              "      <td>0.0</td>\n",
              "      <td>1</td>\n",
              "      <td>এবার উইম্বলডন স্মরণীয় রাখ মিশন নেম সাবিনা লিস...</td>\n",
              "    </tr>\n",
              "    <tr>\n",
              "      <th>2</th>\n",
              "      <td>জাতীয় সংসদে বিএনপি চেয়ারপারসন ও বিরোধীদলীয় ...</td>\n",
              "      <td>True</td>\n",
              "      <td>1.0</td>\n",
              "      <td>2</td>\n",
              "      <td>জাতীয় সংসদ বিএনপি চেয়ারপারসন বিরোধীদলীয় নেত...</td>\n",
              "    </tr>\n",
              "    <tr>\n",
              "      <th>3</th>\n",
              "      <td>সহজ পাসওয়ার্ডের কারণে অনলাইন অ্যাকাউন্ট সহজেই...</td>\n",
              "      <td>False</td>\n",
              "      <td>0.0</td>\n",
              "      <td>3</td>\n",
              "      <td>সহজ পাসওয়ার্ড কারণ অনলাইন অ্যাকাউন্ট সহজ হ্যা...</td>\n",
              "    </tr>\n",
              "    <tr>\n",
              "      <th>4</th>\n",
              "      <td>কম্পিউটার মাউসের উদ্ভাবক ডগলাস অ্যাঙ্গেলবার্ট ...</td>\n",
              "      <td>False</td>\n",
              "      <td>0.0</td>\n",
              "      <td>4</td>\n",
              "      <td>কম্পিউট মাউস উদ্ভাবক ডগলাস অ্যাঙ্গেলবার্ট জুলা...</td>\n",
              "    </tr>\n",
              "    <tr>\n",
              "      <th>5</th>\n",
              "      <td>গুগলের মোবাইল অপারেটিং সিস্টেম অ্যান্ড্রয়েডের...</td>\n",
              "      <td>False</td>\n",
              "      <td>0.0</td>\n",
              "      <td>5</td>\n",
              "      <td>গুগল মোবাইল অপারেটিং সিস্টেম অ্যান্ড্রয়েড বড়...</td>\n",
              "    </tr>\n",
              "    <tr>\n",
              "      <th>6</th>\n",
              "      <td>যুক্তরাষ্ট্রের বাজারে জিএসপি-সুবিধা বন্ধ হওয়া...</td>\n",
              "      <td>True</td>\n",
              "      <td>1.0</td>\n",
              "      <td>6</td>\n",
              "      <td>যুক্তরাষ্ট্র বাজার জিএসপিসুবিধা বন্ধ প্রসঙ্গ স...</td>\n",
              "    </tr>\n",
              "    <tr>\n",
              "      <th>7</th>\n",
              "      <td>১১টি বিমা কোম্পানিকে লাইসেন্সের অনুমোদন দিয়েছ...</td>\n",
              "      <td>False</td>\n",
              "      <td>0.0</td>\n",
              "      <td>7</td>\n",
              "      <td>বিমা কোম্পানি লাইসেন্স অনুমোদন বিমা উন্নয়ন নি...</td>\n",
              "    </tr>\n",
              "    <tr>\n",
              "      <th>8</th>\n",
              "      <td>ম্যাজিস্ট্রেটের মাধ্যমে সিলেটে সিএনজি স্টেশনের...</td>\n",
              "      <td>False</td>\n",
              "      <td>0.0</td>\n",
              "      <td>8</td>\n",
              "      <td>ম্যাজিস্ট্রেট সিলেট সিএনজি স্টেশন এক মালিক লাঞ...</td>\n",
              "    </tr>\n",
              "    <tr>\n",
              "      <th>9</th>\n",
              "      <td>একক-মিশ্র অ্যালবামে অনেক গানই করেছেন বাপ্পা মজ...</td>\n",
              "      <td>False</td>\n",
              "      <td>0.0</td>\n",
              "      <td>9</td>\n",
              "      <td>এককমিশ্র অ্যালবাম গান বাপ্পা মজুমদ মমতাজ পাশাপ...</td>\n",
              "    </tr>\n",
              "    <tr>\n",
              "      <th>10</th>\n",
              "      <td>বিচ্ছেদের এক বছর পরও কেটি হোমসকে ভুলতে পারছেন ...</td>\n",
              "      <td>False</td>\n",
              "      <td>0.0</td>\n",
              "      <td>10</td>\n",
              "      <td>বিচ্ছে এক বছর পর কে হোমস ভুল পারছ ‘ মিশন ইমপসি...</td>\n",
              "    </tr>\n",
              "    <tr>\n",
              "      <th>11</th>\n",
              "      <td>বিগহার্ট লাভার বয়’ সালমান খানের টানে নিজ দেশ ...</td>\n",
              "      <td>False</td>\n",
              "      <td>0.0</td>\n",
              "      <td>11</td>\n",
              "      <td>বিগহার্ট লাভ বয় ’ সালমান খান টান নিজ দেশ ছেড়...</td>\n",
              "    </tr>\n",
              "    <tr>\n",
              "      <th>12</th>\n",
              "      <td>দুর্ঘটনায় আহত হলেন ছোটপর্দার জনপ্রিয় অভিনেতা...</td>\n",
              "      <td>False</td>\n",
              "      <td>0.0</td>\n",
              "      <td>12</td>\n",
              "      <td>দুর্ঘটনায় আহত হ ছোটপর্দ জনপ্রিয় অভিনেতা সাঈদ...</td>\n",
              "    </tr>\n",
              "    <tr>\n",
              "      <th>13</th>\n",
              "      <td>নেইমার, নেইমার, নেইমার। এই মুহূর্তে এই ধ্বনিতে...</td>\n",
              "      <td>False</td>\n",
              "      <td>0.0</td>\n",
              "      <td>13</td>\n",
              "      <td>নেইম নেইম নেইম মুহূর্ ধ্বনি উচ্চকিত ফুটবল বিশ্...</td>\n",
              "    </tr>\n",
              "    <tr>\n",
              "      <th>14</th>\n",
              "      <td>ম্যাজিস্ট্রেটের মাধ্যমে সিলেটে সিএনজি স্টেশনের...</td>\n",
              "      <td>False</td>\n",
              "      <td>0.0</td>\n",
              "      <td>14</td>\n",
              "      <td>ম্যাজিস্ট্রেট সিলেট সিএনজি স্টেশন এক মালিক লাঞ...</td>\n",
              "    </tr>\n",
              "    <tr>\n",
              "      <th>15</th>\n",
              "      <td>মাধ্যমিক ও উচ্চশিক্ষা অধিদপ্তরের অধীন কর্মচারী...</td>\n",
              "      <td>False</td>\n",
              "      <td>0.0</td>\n",
              "      <td>15</td>\n",
              "      <td>মাধ্যমিক উচ্চশিক্ষা অধিদপ্তর অধীন কর্মচারী নিয...</td>\n",
              "    </tr>\n",
              "    <tr>\n",
              "      <th>16</th>\n",
              "      <td>গাজীপুর সিটি করপোরেশন নির্বাচনের ফল নিজেদের পক...</td>\n",
              "      <td>True</td>\n",
              "      <td>1.0</td>\n",
              "      <td>16</td>\n",
              "      <td>গাজীপুর সি করপোরেশন নির্বাচন ফল সরক ‘ ভয়াবহ ’...</td>\n",
              "    </tr>\n",
              "    <tr>\n",
              "      <th>17</th>\n",
              "      <td>গাজীপুর সিটি করপোরেশন নির্বাচনে বিএনপির সেনা ম...</td>\n",
              "      <td>False</td>\n",
              "      <td>0.0</td>\n",
              "      <td>17</td>\n",
              "      <td>গাজীপুর সি করপোরেশন নির্বাচন বিএনপির সেনা মোতা...</td>\n",
              "    </tr>\n",
              "    <tr>\n",
              "      <th>18</th>\n",
              "      <td>থাইল্যান্ডের ফুকেটের কাছে আন্দামান সাগরে এমএইচ...</td>\n",
              "      <td>False</td>\n",
              "      <td>0.0</td>\n",
              "      <td>18</td>\n",
              "      <td>থাইল্যান্ড ফুকেট আন্দামান সাগর এমএইচ হোপ নাম ব...</td>\n",
              "    </tr>\n",
              "    <tr>\n",
              "      <th>19</th>\n",
              "      <td>ভিকারুননিসা নূন স্কুল অ্যান্ড কলেজের (বসুন্ধরা...</td>\n",
              "      <td>False</td>\n",
              "      <td>0.0</td>\n",
              "      <td>19</td>\n",
              "      <td>ভিকারুননিসা নূন স্কুল অ্যান্ড কলেজ ( বসুন্ধ শা...</td>\n",
              "    </tr>\n",
              "    <tr>\n",
              "      <th>20</th>\n",
              "      <td>কনফেডারেশনস কাপের শিরোপা জয়টা নতুন করে স্বপ্ন...</td>\n",
              "      <td>False</td>\n",
              "      <td>0.0</td>\n",
              "      <td>20</td>\n",
              "      <td>কনফেডারেশনস কাপ শিরোপা জয় নতুন স্বপ্ন দেখা ব্...</td>\n",
              "    </tr>\n",
              "    <tr>\n",
              "      <th>21</th>\n",
              "      <td>আইনশৃঙ্খলা পরিস্থিতি নিয়ন্ত্রণে রাখতে অন্যবার...</td>\n",
              "      <td>False</td>\n",
              "      <td>0.0</td>\n",
              "      <td>21</td>\n",
              "      <td>আইনশৃঙ্খলা পরিস্থিতি নিয়ন্ত্রণ রাখ অন্যবার এব...</td>\n",
              "    </tr>\n",
              "    <tr>\n",
              "      <th>22</th>\n",
              "      <td>সাড়ে চার ঘণ্টা পর ঢাকা-চট্টগ্রাম, চট্টগ্রাম-স...</td>\n",
              "      <td>False</td>\n",
              "      <td>0.0</td>\n",
              "      <td>22</td>\n",
              "      <td>সাড় চ ঘণ্ ঢাকাচট্টগ্রাম চট্টগ্রামসিলেট ঢাকানো...</td>\n",
              "    </tr>\n",
              "    <tr>\n",
              "      <th>23</th>\n",
              "      <td>বাংলাদেশ প্রকৌশল বিশ্ববিদ্যালয়ের (বুয়েট) ছাত...</td>\n",
              "      <td>False</td>\n",
              "      <td>0.0</td>\n",
              "      <td>23</td>\n",
              "      <td>বাংলাদেশ প্রকৌশল বিশ্ববিদ্যালয় ( বুয়েট ) ছাত...</td>\n",
              "    </tr>\n",
              "    <tr>\n",
              "      <th>24</th>\n",
              "      <td>দক্ষিণ আফ্রিকার বর্ণবাদবিরোধী নেতা নেলসন ম্যান...</td>\n",
              "      <td>False</td>\n",
              "      <td>0.0</td>\n",
              "      <td>24</td>\n",
              "      <td>দক্ষিণ আফ্রিক বর্ণবাদবিরোধী নেতা নেলসন ম্যান্ড...</td>\n",
              "    </tr>\n",
              "    <tr>\n",
              "      <th>25</th>\n",
              "      <td>ভারতের ছত্তিশগড় ও ঝাড়খন্ড রাজ্যে মাওবাদীরা ন...</td>\n",
              "      <td>False</td>\n",
              "      <td>0.0</td>\n",
              "      <td>25</td>\n",
              "      <td>ভারত ছত্তিশগড় ঝাড়খন্ড রাজ্য মাওবাদী নতুন সংগ...</td>\n",
              "    </tr>\n",
              "    <tr>\n",
              "      <th>26</th>\n",
              "      <td>সাম্প্রতিক বছরগুলোতে ফুটবল-বিশ্ব শাসন করেছেন দ...</td>\n",
              "      <td>False</td>\n",
              "      <td>0.0</td>\n",
              "      <td>26</td>\n",
              "      <td>সাম্প্রতিক বছর ফুটবলবিশ্ব শাসন দুজন—লিওন মেসি ...</td>\n",
              "    </tr>\n",
              "    <tr>\n",
              "      <th>27</th>\n",
              "      <td>চুয়াডাঙ্গায় মাদকদ্রব্যসহ এক নারীকে আটক করেছে...</td>\n",
              "      <td>False</td>\n",
              "      <td>0.0</td>\n",
              "      <td>27</td>\n",
              "      <td>চুয়াডাঙ্গায় মাদকদ্রব্যসহ এক নারী আটক বর্ড গা...</td>\n",
              "    </tr>\n",
              "    <tr>\n",
              "      <th>28</th>\n",
              "      <td>জল ও স্থলে চরে যে, সে-ই উভচর। উদ্ভাবকেরা উভচর ...</td>\n",
              "      <td>False</td>\n",
              "      <td>0.0</td>\n",
              "      <td>28</td>\n",
              "      <td>জল স্থল চর উভচর উদ্ভাবক উভচর উদ্ভাবন দীর্ঘদিন ...</td>\n",
              "    </tr>\n",
              "    <tr>\n",
              "      <th>29</th>\n",
              "      <td>সপ্তাহের শেষ কার্যদিবসে আজ বৃহস্পতিবার প্রধান ...</td>\n",
              "      <td>False</td>\n",
              "      <td>0.0</td>\n",
              "      <td>29</td>\n",
              "      <td>সপ্তাহ শেষ কার্যদিবস বৃহস্পতিব প্রধান শেয়ারবা...</td>\n",
              "    </tr>\n",
              "    <tr>\n",
              "      <th>30</th>\n",
              "      <td>গাজীপুর সিটি করপোরেশন নির্বাচনে মহাজোট-সমর্থিত...</td>\n",
              "      <td>True</td>\n",
              "      <td>1.0</td>\n",
              "      <td>30</td>\n",
              "      <td>গাজীপুর সি করপোরেশন নির্বাচন মহাজোটসমর্থিত মেয...</td>\n",
              "    </tr>\n",
              "    <tr>\n",
              "      <th>31</th>\n",
              "      <td>কিশোরগঞ্জের উপনির্বাচনে ভোট ডাকাতির মহড়া হয়ে...</td>\n",
              "      <td>True</td>\n",
              "      <td>1.0</td>\n",
              "      <td>31</td>\n",
              "      <td>কিশোরগঞ্জ উপনির্বাচন ভোট ডাকাতির মহড়া অভিযোগ ...</td>\n",
              "    </tr>\n",
              "    <tr>\n",
              "      <th>32</th>\n",
              "      <td>গ্যাস সাশ্রয়ের লক্ষ্যে রমজান মাসে সারা দেশে ব...</td>\n",
              "      <td>False</td>\n",
              "      <td>0.0</td>\n",
              "      <td>32</td>\n",
              "      <td>গ্যাস সাশ্রয় লক্ষ্য রমজান মাস সা দেশ বেলা তিন...</td>\n",
              "    </tr>\n",
              "    <tr>\n",
              "      <th>33</th>\n",
              "      <td>নির্বাচিত হলে নগরে পানি জমবে না, জলাবদ্ধতা সৃষ...</td>\n",
              "      <td>False</td>\n",
              "      <td>0.0</td>\n",
              "      <td>33</td>\n",
              "      <td>নির্বাচিত নগর পানি জমব জলাবদ্ধতা সৃষ্ না—এসব অ...</td>\n",
              "    </tr>\n",
              "    <tr>\n",
              "      <th>34</th>\n",
              "      <td>কারস্টেন ফ্লিপকেনসের বেঁচে থাকা নিয়েই নাকি সং...</td>\n",
              "      <td>False</td>\n",
              "      <td>0.0</td>\n",
              "      <td>34</td>\n",
              "      <td>কারস্ট ফ্লিপকেনস বেঁচ নিয় সংশয় দিয় দু পায় ...</td>\n",
              "    </tr>\n",
              "    <tr>\n",
              "      <th>35</th>\n",
              "      <td>কুমিল্লার আদর্শ সদর উপজেলার রসুলপুর এলাকায় আজ...</td>\n",
              "      <td>False</td>\n",
              "      <td>0.0</td>\n",
              "      <td>35</td>\n",
              "      <td>কুমিল্ল আদর্শ সদর উপজেল রসুলপুর এলাকায় বৃহস্প...</td>\n",
              "    </tr>\n",
              "    <tr>\n",
              "      <th>36</th>\n",
              "      <td>সামরিক হস্তক্ষেপের মাধ্যমে মিসরের প্রেসিডেন্ট ...</td>\n",
              "      <td>False</td>\n",
              "      <td>0.0</td>\n",
              "      <td>36</td>\n",
              "      <td>সামরিক হস্তক্ষেপ মিসর প্রেসিডেন্ট মোহাম্মদ মুর...</td>\n",
              "    </tr>\n",
              "    <tr>\n",
              "      <th>37</th>\n",
              "      <td>মিসরের রাজধানী কায়রোর তাহরির স্কয়ারে ২০১১ সা...</td>\n",
              "      <td>False</td>\n",
              "      <td>0.0</td>\n",
              "      <td>37</td>\n",
              "      <td>মিসর রাজধানী কায়রোর তাহরির স্কয়ার সাল ফেব্রু...</td>\n",
              "    </tr>\n",
              "    <tr>\n",
              "      <th>38</th>\n",
              "      <td>যুক্তরাজ্য ও পূর্ব ইউরোপীয় প্রজাতন্ত্র বেলারু...</td>\n",
              "      <td>True</td>\n",
              "      <td>1.0</td>\n",
              "      <td>38</td>\n",
              "      <td>যুক্তরাজ্য পূর্ব ইউরোপীয় প্রজাতন্ত্র বেলারুশ ...</td>\n",
              "    </tr>\n",
              "    <tr>\n",
              "      <th>39</th>\n",
              "      <td>ঢাকার নৌপথে যাত্রী পরিবহনের লক্ষ্যে আবার ওয়াট...</td>\n",
              "      <td>False</td>\n",
              "      <td>0.0</td>\n",
              "      <td>39</td>\n",
              "      <td>ঢাক নৌপথ যাত্রী পরিবহন লক্ষ্য ওয়াট বাস সার্ভ ...</td>\n",
              "    </tr>\n",
              "    <tr>\n",
              "      <th>40</th>\n",
              "      <td>দেশের মাটিতে আন্তর্জাতিক ক্রিকেট নেই। ক্রিকেটা...</td>\n",
              "      <td>False</td>\n",
              "      <td>0.0</td>\n",
              "      <td>40</td>\n",
              "      <td>দেশ মা আন্তর্জাতিক ক্রিকেট ক্রিকে সাম্প্রতিক ফ...</td>\n",
              "    </tr>\n",
              "    <tr>\n",
              "      <th>41</th>\n",
              "      <td>মিসরে সামরিক হস্তক্ষেপের মধ্য দিয়ে প্রেসিডেন্...</td>\n",
              "      <td>False</td>\n",
              "      <td>0.0</td>\n",
              "      <td>41</td>\n",
              "      <td>মিসর সামরিক হস্তক্ষেপ মধ্য প্রেসিডেন্ট মোহাম্ম...</td>\n",
              "    </tr>\n",
              "    <tr>\n",
              "      <th>42</th>\n",
              "      <td>ভারচুয়াল জগতের কোনো বস্তুকে যখন টাচস্ক্রিনের ...</td>\n",
              "      <td>False</td>\n",
              "      <td>0.0</td>\n",
              "      <td>42</td>\n",
              "      <td>ভারচুয়াল জগত বস্তু টাচস্ক্রিন স্পর্শ বস্তু অন...</td>\n",
              "    </tr>\n",
              "    <tr>\n",
              "      <th>43</th>\n",
              "      <td>ক্ষমতাচ্যুত করার পর মিসরের প্রেসিডেন্ট মোহাম্ম...</td>\n",
              "      <td>False</td>\n",
              "      <td>0.0</td>\n",
              "      <td>43</td>\n",
              "      <td>ক্ষমতাচ্যুত মিসর প্রেসিডেন্ট মোহাম্মদ মুরসি সে...</td>\n",
              "    </tr>\n",
              "    <tr>\n",
              "      <th>44</th>\n",
              "      <td>খাগড়াছড়ি জেলার পানছড়ি উপজেলার ফূজগাঙ এলাকায...</td>\n",
              "      <td>False</td>\n",
              "      <td>0.0</td>\n",
              "      <td>44</td>\n",
              "      <td>খাগড়াছড়ি জেল পানছড়ি উপজেল ফূজগাঙ এলাকায় বৃ...</td>\n",
              "    </tr>\n",
              "    <tr>\n",
              "      <th>45</th>\n",
              "      <td>তিন মাস যেতে না যেতেই আবারও নিষেধাজ্ঞায় পড়তে...</td>\n",
              "      <td>False</td>\n",
              "      <td>0.0</td>\n",
              "      <td>45</td>\n",
              "      <td>তিন মাস য আব নিষেধাজ্ঞায় পড় ইরাক বিশ্ব ফুটবল...</td>\n",
              "    </tr>\n",
              "    <tr>\n",
              "      <th>46</th>\n",
              "      <td>২০১১ থেকে ২০১৩। মাত্র দুই বছরের ব্যবধান। এবার ...</td>\n",
              "      <td>False</td>\n",
              "      <td>0.0</td>\n",
              "      <td>46</td>\n",
              "      <td>দু বছর ব্যবধান মোহাম্মদ মুরসির পদত্যাগ দা উত্ত...</td>\n",
              "    </tr>\n",
              "    <tr>\n",
              "      <th>47</th>\n",
              "      <td>খাদ্যে ক্ষতিকর মাত্রায় রাসায়নিকের ব্যবহার নি...</td>\n",
              "      <td>False</td>\n",
              "      <td>0.0</td>\n",
              "      <td>47</td>\n",
              "      <td>খাদ্য ক্ষতিকর মাত্রায় রাসায়নিক নিয়ন্ত্রণ আই...</td>\n",
              "    </tr>\n",
              "    <tr>\n",
              "      <th>48</th>\n",
              "      <td>পুরান ঢাকার বাদামতলিতে ঢাকা মহানগর ফল আমদানি ও...</td>\n",
              "      <td>False</td>\n",
              "      <td>0.0</td>\n",
              "      <td>48</td>\n",
              "      <td>পুরান ঢাক বাদামত ঢাকা মহানগর ফল আমদানি আড়তদ ব...</td>\n",
              "    </tr>\n",
              "    <tr>\n",
              "      <th>49</th>\n",
              "      <td>গাজীপুর সিটি করপোরেশন নির্বাচনের শুরু থেকেই বি...</td>\n",
              "      <td>False</td>\n",
              "      <td>0.0</td>\n",
              "      <td>49</td>\n",
              "      <td>গাজীপুর সি করপোরেশন নির্বাচন শুরু বিএনপিসমর্থি...</td>\n",
              "    </tr>\n",
              "  </tbody>\n",
              "</table>\n",
              "</div>"
            ],
            "text/plain": [
              "                                              content  ...                                        Text_parsed\n",
              "0   গাজীপুরের কালিয়াকৈর উপজেলার তেলিরচালা এলাকায়...  ...  গাজীপুর কালিয়াকৈর উপজেল তেলিরচালা এলাকায় বৃহ...\n",
              "1   এবারের উইম্বলডনটা স্মরণীয় করে রাখার মিশনেই যে...  ...  এবার উইম্বলডন স্মরণীয় রাখ মিশন নেম সাবিনা লিস...\n",
              "2   জাতীয় সংসদে বিএনপি চেয়ারপারসন ও বিরোধীদলীয় ...  ...  জাতীয় সংসদ বিএনপি চেয়ারপারসন বিরোধীদলীয় নেত...\n",
              "3   সহজ পাসওয়ার্ডের কারণে অনলাইন অ্যাকাউন্ট সহজেই...  ...  সহজ পাসওয়ার্ড কারণ অনলাইন অ্যাকাউন্ট সহজ হ্যা...\n",
              "4   কম্পিউটার মাউসের উদ্ভাবক ডগলাস অ্যাঙ্গেলবার্ট ...  ...  কম্পিউট মাউস উদ্ভাবক ডগলাস অ্যাঙ্গেলবার্ট জুলা...\n",
              "5   গুগলের মোবাইল অপারেটিং সিস্টেম অ্যান্ড্রয়েডের...  ...  গুগল মোবাইল অপারেটিং সিস্টেম অ্যান্ড্রয়েড বড়...\n",
              "6   যুক্তরাষ্ট্রের বাজারে জিএসপি-সুবিধা বন্ধ হওয়া...  ...  যুক্তরাষ্ট্র বাজার জিএসপিসুবিধা বন্ধ প্রসঙ্গ স...\n",
              "7   ১১টি বিমা কোম্পানিকে লাইসেন্সের অনুমোদন দিয়েছ...  ...  বিমা কোম্পানি লাইসেন্স অনুমোদন বিমা উন্নয়ন নি...\n",
              "8   ম্যাজিস্ট্রেটের মাধ্যমে সিলেটে সিএনজি স্টেশনের...  ...  ম্যাজিস্ট্রেট সিলেট সিএনজি স্টেশন এক মালিক লাঞ...\n",
              "9   একক-মিশ্র অ্যালবামে অনেক গানই করেছেন বাপ্পা মজ...  ...  এককমিশ্র অ্যালবাম গান বাপ্পা মজুমদ মমতাজ পাশাপ...\n",
              "10  বিচ্ছেদের এক বছর পরও কেটি হোমসকে ভুলতে পারছেন ...  ...  বিচ্ছে এক বছর পর কে হোমস ভুল পারছ ‘ মিশন ইমপসি...\n",
              "11  বিগহার্ট লাভার বয়’ সালমান খানের টানে নিজ দেশ ...  ...  বিগহার্ট লাভ বয় ’ সালমান খান টান নিজ দেশ ছেড়...\n",
              "12  দুর্ঘটনায় আহত হলেন ছোটপর্দার জনপ্রিয় অভিনেতা...  ...  দুর্ঘটনায় আহত হ ছোটপর্দ জনপ্রিয় অভিনেতা সাঈদ...\n",
              "13  নেইমার, নেইমার, নেইমার। এই মুহূর্তে এই ধ্বনিতে...  ...  নেইম নেইম নেইম মুহূর্ ধ্বনি উচ্চকিত ফুটবল বিশ্...\n",
              "14  ম্যাজিস্ট্রেটের মাধ্যমে সিলেটে সিএনজি স্টেশনের...  ...  ম্যাজিস্ট্রেট সিলেট সিএনজি স্টেশন এক মালিক লাঞ...\n",
              "15  মাধ্যমিক ও উচ্চশিক্ষা অধিদপ্তরের অধীন কর্মচারী...  ...  মাধ্যমিক উচ্চশিক্ষা অধিদপ্তর অধীন কর্মচারী নিয...\n",
              "16  গাজীপুর সিটি করপোরেশন নির্বাচনের ফল নিজেদের পক...  ...  গাজীপুর সি করপোরেশন নির্বাচন ফল সরক ‘ ভয়াবহ ’...\n",
              "17  গাজীপুর সিটি করপোরেশন নির্বাচনে বিএনপির সেনা ম...  ...  গাজীপুর সি করপোরেশন নির্বাচন বিএনপির সেনা মোতা...\n",
              "18  থাইল্যান্ডের ফুকেটের কাছে আন্দামান সাগরে এমএইচ...  ...  থাইল্যান্ড ফুকেট আন্দামান সাগর এমএইচ হোপ নাম ব...\n",
              "19  ভিকারুননিসা নূন স্কুল অ্যান্ড কলেজের (বসুন্ধরা...  ...  ভিকারুননিসা নূন স্কুল অ্যান্ড কলেজ ( বসুন্ধ শা...\n",
              "20  কনফেডারেশনস কাপের শিরোপা জয়টা নতুন করে স্বপ্ন...  ...  কনফেডারেশনস কাপ শিরোপা জয় নতুন স্বপ্ন দেখা ব্...\n",
              "21  আইনশৃঙ্খলা পরিস্থিতি নিয়ন্ত্রণে রাখতে অন্যবার...  ...  আইনশৃঙ্খলা পরিস্থিতি নিয়ন্ত্রণ রাখ অন্যবার এব...\n",
              "22  সাড়ে চার ঘণ্টা পর ঢাকা-চট্টগ্রাম, চট্টগ্রাম-স...  ...  সাড় চ ঘণ্ ঢাকাচট্টগ্রাম চট্টগ্রামসিলেট ঢাকানো...\n",
              "23  বাংলাদেশ প্রকৌশল বিশ্ববিদ্যালয়ের (বুয়েট) ছাত...  ...  বাংলাদেশ প্রকৌশল বিশ্ববিদ্যালয় ( বুয়েট ) ছাত...\n",
              "24  দক্ষিণ আফ্রিকার বর্ণবাদবিরোধী নেতা নেলসন ম্যান...  ...  দক্ষিণ আফ্রিক বর্ণবাদবিরোধী নেতা নেলসন ম্যান্ড...\n",
              "25  ভারতের ছত্তিশগড় ও ঝাড়খন্ড রাজ্যে মাওবাদীরা ন...  ...  ভারত ছত্তিশগড় ঝাড়খন্ড রাজ্য মাওবাদী নতুন সংগ...\n",
              "26  সাম্প্রতিক বছরগুলোতে ফুটবল-বিশ্ব শাসন করেছেন দ...  ...  সাম্প্রতিক বছর ফুটবলবিশ্ব শাসন দুজন—লিওন মেসি ...\n",
              "27  চুয়াডাঙ্গায় মাদকদ্রব্যসহ এক নারীকে আটক করেছে...  ...  চুয়াডাঙ্গায় মাদকদ্রব্যসহ এক নারী আটক বর্ড গা...\n",
              "28  জল ও স্থলে চরে যে, সে-ই উভচর। উদ্ভাবকেরা উভচর ...  ...  জল স্থল চর উভচর উদ্ভাবক উভচর উদ্ভাবন দীর্ঘদিন ...\n",
              "29  সপ্তাহের শেষ কার্যদিবসে আজ বৃহস্পতিবার প্রধান ...  ...  সপ্তাহ শেষ কার্যদিবস বৃহস্পতিব প্রধান শেয়ারবা...\n",
              "30  গাজীপুর সিটি করপোরেশন নির্বাচনে মহাজোট-সমর্থিত...  ...  গাজীপুর সি করপোরেশন নির্বাচন মহাজোটসমর্থিত মেয...\n",
              "31  কিশোরগঞ্জের উপনির্বাচনে ভোট ডাকাতির মহড়া হয়ে...  ...  কিশোরগঞ্জ উপনির্বাচন ভোট ডাকাতির মহড়া অভিযোগ ...\n",
              "32  গ্যাস সাশ্রয়ের লক্ষ্যে রমজান মাসে সারা দেশে ব...  ...  গ্যাস সাশ্রয় লক্ষ্য রমজান মাস সা দেশ বেলা তিন...\n",
              "33  নির্বাচিত হলে নগরে পানি জমবে না, জলাবদ্ধতা সৃষ...  ...  নির্বাচিত নগর পানি জমব জলাবদ্ধতা সৃষ্ না—এসব অ...\n",
              "34  কারস্টেন ফ্লিপকেনসের বেঁচে থাকা নিয়েই নাকি সং...  ...  কারস্ট ফ্লিপকেনস বেঁচ নিয় সংশয় দিয় দু পায় ...\n",
              "35  কুমিল্লার আদর্শ সদর উপজেলার রসুলপুর এলাকায় আজ...  ...  কুমিল্ল আদর্শ সদর উপজেল রসুলপুর এলাকায় বৃহস্প...\n",
              "36  সামরিক হস্তক্ষেপের মাধ্যমে মিসরের প্রেসিডেন্ট ...  ...  সামরিক হস্তক্ষেপ মিসর প্রেসিডেন্ট মোহাম্মদ মুর...\n",
              "37  মিসরের রাজধানী কায়রোর তাহরির স্কয়ারে ২০১১ সা...  ...  মিসর রাজধানী কায়রোর তাহরির স্কয়ার সাল ফেব্রু...\n",
              "38  যুক্তরাজ্য ও পূর্ব ইউরোপীয় প্রজাতন্ত্র বেলারু...  ...  যুক্তরাজ্য পূর্ব ইউরোপীয় প্রজাতন্ত্র বেলারুশ ...\n",
              "39  ঢাকার নৌপথে যাত্রী পরিবহনের লক্ষ্যে আবার ওয়াট...  ...  ঢাক নৌপথ যাত্রী পরিবহন লক্ষ্য ওয়াট বাস সার্ভ ...\n",
              "40  দেশের মাটিতে আন্তর্জাতিক ক্রিকেট নেই। ক্রিকেটা...  ...  দেশ মা আন্তর্জাতিক ক্রিকেট ক্রিকে সাম্প্রতিক ফ...\n",
              "41  মিসরে সামরিক হস্তক্ষেপের মধ্য দিয়ে প্রেসিডেন্...  ...  মিসর সামরিক হস্তক্ষেপ মধ্য প্রেসিডেন্ট মোহাম্ম...\n",
              "42  ভারচুয়াল জগতের কোনো বস্তুকে যখন টাচস্ক্রিনের ...  ...  ভারচুয়াল জগত বস্তু টাচস্ক্রিন স্পর্শ বস্তু অন...\n",
              "43  ক্ষমতাচ্যুত করার পর মিসরের প্রেসিডেন্ট মোহাম্ম...  ...  ক্ষমতাচ্যুত মিসর প্রেসিডেন্ট মোহাম্মদ মুরসি সে...\n",
              "44  খাগড়াছড়ি জেলার পানছড়ি উপজেলার ফূজগাঙ এলাকায...  ...  খাগড়াছড়ি জেল পানছড়ি উপজেল ফূজগাঙ এলাকায় বৃ...\n",
              "45  তিন মাস যেতে না যেতেই আবারও নিষেধাজ্ঞায় পড়তে...  ...  তিন মাস য আব নিষেধাজ্ঞায় পড় ইরাক বিশ্ব ফুটবল...\n",
              "46  ২০১১ থেকে ২০১৩। মাত্র দুই বছরের ব্যবধান। এবার ...  ...  দু বছর ব্যবধান মোহাম্মদ মুরসির পদত্যাগ দা উত্ত...\n",
              "47  খাদ্যে ক্ষতিকর মাত্রায় রাসায়নিকের ব্যবহার নি...  ...  খাদ্য ক্ষতিকর মাত্রায় রাসায়নিক নিয়ন্ত্রণ আই...\n",
              "48  পুরান ঢাকার বাদামতলিতে ঢাকা মহানগর ফল আমদানি ও...  ...  পুরান ঢাক বাদামত ঢাকা মহানগর ফল আমদানি আড়তদ ব...\n",
              "49  গাজীপুর সিটি করপোরেশন নির্বাচনের শুরু থেকেই বি...  ...  গাজীপুর সি করপোরেশন নির্বাচন শুরু বিএনপিসমর্থি...\n",
              "\n",
              "[50 rows x 5 columns]"
            ]
          },
          "metadata": {
            "tags": []
          },
          "execution_count": 23
        }
      ]
    },
    {
      "cell_type": "code",
      "metadata": {
        "id": "q7vRu1eB3D5B"
      },
      "source": [
        "X_train,X_test,Y_train,Y_test=train_test_split(data['Text_parsed'],\n",
        "                                               data['category_target'],\n",
        "                                               test_size=.2)"
      ],
      "execution_count": null,
      "outputs": []
    },
    {
      "cell_type": "code",
      "metadata": {
        "colab": {
          "base_uri": "https://localhost:8080/"
        },
        "id": "YiqQE_5f1v7C",
        "outputId": "a2cd0979-f406-48d7-e17d-8f31c3b2e4ef"
      },
      "source": [
        "X_train[0:5]"
      ],
      "execution_count": null,
      "outputs": [
        {
          "output_type": "execute_result",
          "data": {
            "text/plain": [
              "13686    বাঁশির সুর তোল প্রতিজ্ঞায় বড়সড় ধাক্কা ত পার...\n",
              "2945     ব্রায়ান লা প্রায় রাত ঘুম কেড় নিত অস্ট্রেলিয...\n",
              "26489    তথ্য বিনোদনগিট নেভ লাইজসাজ্জাদ আরেফিন গিট গাইড...\n",
              "2535     ট্রেন আগ সময়সূচি পুনর্বহাল দা গত শনিব কুড়িগ্...\n",
              "27009    পাকিস্তান নারীশিক্ষা অধিকারকর্মী মালালা ইউসুফজ...\n",
              "Name: Text_parsed, dtype: object"
            ]
          },
          "metadata": {
            "tags": []
          },
          "execution_count": 25
        }
      ]
    },
    {
      "cell_type": "code",
      "metadata": {
        "colab": {
          "base_uri": "https://localhost:8080/"
        },
        "id": "_8dq81luGXxM",
        "outputId": "ce04c580-0380-4877-8b69-ae485de7c7ad"
      },
      "source": [
        "print(f'Train size: {X_train.shape}')\n",
        "print(f'Test size: {X_test.shape}')"
      ],
      "execution_count": null,
      "outputs": [
        {
          "output_type": "stream",
          "text": [
            "Train size: (23992,)\n",
            "Test size: (5999,)\n"
          ],
          "name": "stdout"
        }
      ]
    },
    {
      "cell_type": "code",
      "metadata": {
        "id": "iddUMjhTu7JN"
      },
      "source": [
        "import pickle\n",
        "import time "
      ],
      "execution_count": null,
      "outputs": []
    },
    {
      "cell_type": "code",
      "metadata": {
        "id": "Q3AqNk-DGlq1"
      },
      "source": [
        "ngram_range=(1,3)\n",
        "min_df=10\n",
        "max_df=1.00\n",
        "max_features=200"
      ],
      "execution_count": null,
      "outputs": []
    },
    {
      "cell_type": "code",
      "metadata": {
        "id": "IkeEs0PQGoOs"
      },
      "source": [
        "tfidf=TfidfVectorizer(encoding='utf-8',\n",
        "                      ngram_range=ngram_range,\n",
        "                      stop_words=None,\n",
        "                      lowercase=False,\n",
        "                      max_df=max_df,\n",
        "                      min_df=min_df,\n",
        "                      max_features=max_features,\n",
        "                      norm='l2',\n",
        "                      sublinear_tf=True)"
      ],
      "execution_count": null,
      "outputs": []
    },
    {
      "cell_type": "code",
      "metadata": {
        "colab": {
          "base_uri": "https://localhost:8080/"
        },
        "id": "FDRy4oh6GprW",
        "outputId": "44c1329c-8469-4f09-e47f-4bed6d6a08ee"
      },
      "source": [
        "tfidf.fit(X_train)"
      ],
      "execution_count": null,
      "outputs": [
        {
          "output_type": "execute_result",
          "data": {
            "text/plain": [
              "TfidfVectorizer(lowercase=False, max_features=200, min_df=10,\n",
              "                ngram_range=(1, 3), sublinear_tf=True)"
            ]
          },
          "metadata": {
            "tags": []
          },
          "execution_count": 84
        }
      ]
    },
    {
      "cell_type": "code",
      "metadata": {
        "id": "lEErj9rPHUHn"
      },
      "source": [
        "features_train=tfidf.transform(X_train).toarray()\n",
        "labels_train=Y_train"
      ],
      "execution_count": null,
      "outputs": []
    },
    {
      "cell_type": "code",
      "metadata": {
        "id": "nOj2pd3mGsVE"
      },
      "source": [
        "features_test=tfidf.transform(X_test).toarray()\n",
        "labels_test=Y_test"
      ],
      "execution_count": null,
      "outputs": []
    },
    {
      "cell_type": "code",
      "metadata": {
        "id": "ayaHn3OixjYg"
      },
      "source": [
        "pickle.dump(tfidf, open(\"/content/drive/MyDrive/AI/tfidf_pickle.pkl\", \"wb\"))"
      ],
      "execution_count": null,
      "outputs": []
    },
    {
      "cell_type": "code",
      "metadata": {
        "colab": {
          "base_uri": "https://localhost:8080/"
        },
        "id": "rmEsPdUAx5XH",
        "outputId": "43438c24-cf6e-4519-9844-b6e2bb03a338"
      },
      "source": [
        "start_time = time.time()\n",
        "tf_file = pickle.load(open(\"/content/drive/MyDrive/AI/tfidf_pickle.pkl\", 'rb'))\n",
        "\n",
        "tfidf_new=TfidfVectorizer(encoding='utf-8',\n",
        "                ngram_range=ngram_range,\n",
        "                stop_words=None,\n",
        "                lowercase=False,\n",
        "                max_df=max_df,\n",
        "                min_df=min_df,\n",
        "                max_features=max_features,\n",
        "                norm='l2',\n",
        "                vocabulary = tf_file.vocabulary_,\n",
        "                sublinear_tf=True)\n",
        "print(\"Execution time %s ms \" % ((time.time() - start_time)*1000))"
      ],
      "execution_count": null,
      "outputs": [
        {
          "output_type": "stream",
          "text": [
            "Execution time 1392.2944068908691 ms \n"
          ],
          "name": "stdout"
        }
      ]
    },
    {
      "cell_type": "code",
      "metadata": {
        "colab": {
          "base_uri": "https://localhost:8080/"
        },
        "id": "il7FujFzHIwc",
        "outputId": "3f33c5df-81c3-44cc-ecf7-f733be02e2ea"
      },
      "source": [
        "print(f'Train size: {features_train.shape}')"
      ],
      "execution_count": null,
      "outputs": [
        {
          "output_type": "stream",
          "text": [
            "Train size: (23992, 200)\n"
          ],
          "name": "stdout"
        }
      ]
    },
    {
      "cell_type": "code",
      "metadata": {
        "colab": {
          "base_uri": "https://localhost:8080/"
        },
        "id": "wBYhgS9Nn-h1",
        "outputId": "767efcdc-c44f-463d-9c4c-00414977f668"
      },
      "source": [
        "print(f'Train size: {labels_train.shape}')"
      ],
      "execution_count": null,
      "outputs": [
        {
          "output_type": "stream",
          "text": [
            "Train size: (23992,)\n"
          ],
          "name": "stdout"
        }
      ]
    },
    {
      "cell_type": "code",
      "metadata": {
        "id": "K8K8hTRicL40"
      },
      "source": [
        "from sklearn.metrics import confusion_matrix"
      ],
      "execution_count": null,
      "outputs": []
    },
    {
      "cell_type": "code",
      "metadata": {
        "id": "_e-1eepedCFK"
      },
      "source": [
        "def plot_confusion_matrix(model,model_predictions):\n",
        "  model_name = type(model).__name__\n",
        "  matrix=confusion_matrix(labels_test,model_predictions)\n",
        "  df_cm = pd.DataFrame(matrix,range(2),range(2) )\n",
        "  sns.set(font_scale=1.4) # for label size\n",
        "  sns.heatmap(df_cm, annot=True, annot_kws={\"size\": 16},fmt='g',cmap='Reds') # font size\n",
        "  plt.gcf().set_size_inches(3,3)\n",
        "  plt.title(model_name)\n",
        "  plt.xlabel('Predicted Label')\n",
        "  plt.ylabel('True Label')\n",
        "  TP=matrix[0][0]\n",
        "  TN=matrix[1][1]\n",
        "  FP=matrix[1][0]\n",
        "  FN=matrix[0][1]\n",
        "  TN, FP, FN, TP =matrix.ravel()\n",
        "  TPR=TP/(TP+FN)\n",
        "  TNR=TN/(FP+TN)\n",
        "  FPR=FP/(FP+TN)\n",
        "  FNR=FN/(TP+FN)\n",
        "  format=lambda x:float(\"{:.2f}\".format(x))\n",
        "  plt.text(3.5,.5, (\"TPR= TP/Total_Postive= \"+str(format(TPR))+\"       \" + \"TFR=TN/Total_Negative= \"+str(format(TNR))), ha='left', rotation=0, wrap=True)\n",
        "  plt.text(3.5,1, (\"FPR=FP/Total_Positive= \"+str(format(FPR))+\"       \" + \"FNR=FN/Total_Negative= \"+str(format(FNR))), ha='left', rotation=0, wrap=True)\n",
        "  plt.show()\n"
      ],
      "execution_count": null,
      "outputs": []
    },
    {
      "cell_type": "code",
      "metadata": {
        "id": "Cn1ukYKNN9y-"
      },
      "source": [
        "from sklearn.metrics import accuracy_score,classification_report"
      ],
      "execution_count": null,
      "outputs": []
    },
    {
      "cell_type": "code",
      "metadata": {
        "colab": {
          "base_uri": "https://localhost:8080/"
        },
        "id": "qz0HpTqKHLQV",
        "outputId": "414d4c8c-6bc9-4c2e-c52e-5526e0c69dd2"
      },
      "source": [
        "from sklearn.ensemble import RandomForestClassifier\n",
        "model_random_forest=RandomForestClassifier()\n",
        "model_random_forest.fit(features_train,labels_train)\n",
        "model_random_forest_predictions=model_random_forest.predict(features_test)\n",
        "print('Accuracy',accuracy_score(labels_test,model_random_forest_predictions))\n",
        "print(classification_report(labels_test,model_random_forest_predictions))"
      ],
      "execution_count": null,
      "outputs": [
        {
          "output_type": "stream",
          "text": [
            "Accuracy 0.9391565260876813\n",
            "              precision    recall  f1-score   support\n",
            "\n",
            "         0.0       0.94      0.99      0.97      5493\n",
            "         1.0       0.80      0.37      0.51       506\n",
            "\n",
            "    accuracy                           0.94      5999\n",
            "   macro avg       0.87      0.68      0.74      5999\n",
            "weighted avg       0.93      0.94      0.93      5999\n",
            "\n"
          ],
          "name": "stdout"
        }
      ]
    },
    {
      "cell_type": "code",
      "metadata": {
        "colab": {
          "base_uri": "https://localhost:8080/"
        },
        "id": "twWlpLO-HcIH",
        "outputId": "ed5f3362-5ccc-4eaf-8da5-850640e0d5da"
      },
      "source": [
        "from sklearn.linear_model import LogisticRegression\n",
        "model_logistic_regression=LogisticRegression()\n",
        "model_logistic_regression.fit(features_train,labels_train)\n",
        "model_logistic_regression_predictions=model_logistic_regression.predict(features_test)\n",
        "print('Accuracy',accuracy_score(labels_test,model_logistic_regression_predictions))\n",
        "print(classification_report(labels_test,model_logistic_regression_predictions))"
      ],
      "execution_count": null,
      "outputs": [
        {
          "output_type": "stream",
          "text": [
            "Accuracy 0.9414902483747292\n",
            "              precision    recall  f1-score   support\n",
            "\n",
            "         0.0       0.96      0.98      0.97      5493\n",
            "         1.0       0.71      0.51      0.60       506\n",
            "\n",
            "    accuracy                           0.94      5999\n",
            "   macro avg       0.84      0.75      0.78      5999\n",
            "weighted avg       0.94      0.94      0.94      5999\n",
            "\n"
          ],
          "name": "stdout"
        }
      ]
    },
    {
      "cell_type": "code",
      "metadata": {
        "colab": {
          "base_uri": "https://localhost:8080/"
        },
        "id": "-J_xHSu2HiL5",
        "outputId": "4ff23fcc-8c47-4410-c161-a8ecf710b7ea"
      },
      "source": [
        "from sklearn.neighbors import KNeighborsClassifier\n",
        "model_knn=KNeighborsClassifier()\n",
        "model_knn.fit(features_train,labels_train)\n",
        "model_knn_predictions=model_knn.predict(features_test)\n",
        "print('Accuracy',accuracy_score(labels_test,model_knn_predictions))\n",
        "print(classification_report(labels_test,model_knn_predictions))"
      ],
      "execution_count": null,
      "outputs": [
        {
          "output_type": "stream",
          "text": [
            "Accuracy 0.9424904150691782\n",
            "              precision    recall  f1-score   support\n",
            "\n",
            "         0.0       0.97      0.97      0.97      5493\n",
            "         1.0       0.67      0.63      0.65       506\n",
            "\n",
            "    accuracy                           0.94      5999\n",
            "   macro avg       0.82      0.80      0.81      5999\n",
            "weighted avg       0.94      0.94      0.94      5999\n",
            "\n"
          ],
          "name": "stdout"
        }
      ]
    },
    {
      "cell_type": "code",
      "metadata": {
        "colab": {
          "base_uri": "https://localhost:8080/"
        },
        "id": "uHnBA7bJHlmN",
        "outputId": "9b671e39-5314-45f5-8b4b-66a56e4394a8"
      },
      "source": [
        "from sklearn.tree import DecisionTreeClassifier\n",
        "model_decision_tree=DecisionTreeClassifier()\n",
        "model_decision_tree.fit(features_train,labels_train)\n",
        "model_decision_tree_predictions=model_decision_tree.predict(features_test)\n",
        "print('Accuracy',accuracy_score(labels_test,model_decision_tree_predictions))\n",
        "print(classification_report(labels_test,model_decision_tree_predictions))"
      ],
      "execution_count": null,
      "outputs": [
        {
          "output_type": "stream",
          "text": [
            "Accuracy 0.9126521086847807\n",
            "              precision    recall  f1-score   support\n",
            "\n",
            "         0.0       0.95      0.95      0.95      5493\n",
            "         1.0       0.48      0.48      0.48       506\n",
            "\n",
            "    accuracy                           0.91      5999\n",
            "   macro avg       0.72      0.72      0.72      5999\n",
            "weighted avg       0.91      0.91      0.91      5999\n",
            "\n"
          ],
          "name": "stdout"
        }
      ]
    },
    {
      "cell_type": "code",
      "metadata": {
        "colab": {
          "base_uri": "https://localhost:8080/"
        },
        "id": "h7qepdD7IFBq",
        "outputId": "4f5ddfd4-3169-4748-a74d-7aa5436fea93"
      },
      "source": [
        "from sklearn.naive_bayes import GaussianNB\n",
        "model_gaussian_nb=GaussianNB()\n",
        "model_gaussian_nb.fit(features_train,labels_train)\n",
        "model_gaussian_nb_predictions=model_gaussian_nb.predict(features_test)\n",
        "print('Accuracy',accuracy_score(labels_test,model_gaussian_nb_predictions))\n",
        "print(classification_report(labels_test,model_gaussian_nb_predictions))"
      ],
      "execution_count": null,
      "outputs": [
        {
          "output_type": "stream",
          "text": [
            "Accuracy 0.8514752458743123\n",
            "              precision    recall  f1-score   support\n",
            "\n",
            "         0.0       0.98      0.85      0.91      5493\n",
            "         1.0       0.34      0.83      0.49       506\n",
            "\n",
            "    accuracy                           0.85      5999\n",
            "   macro avg       0.66      0.84      0.70      5999\n",
            "weighted avg       0.93      0.85      0.88      5999\n",
            "\n"
          ],
          "name": "stdout"
        }
      ]
    },
    {
      "cell_type": "code",
      "metadata": {
        "colab": {
          "base_uri": "https://localhost:8080/",
          "height": 260
        },
        "id": "AtjCzSMzk8ik",
        "outputId": "2403f9c8-2a15-467e-92b4-89c5d945b383"
      },
      "source": [
        "plot_confusion_matrix(model_gaussian_nb,model_gaussian_nb_predictions)"
      ],
      "execution_count": null,
      "outputs": [
        {
          "output_type": "display_data",
          "data": {
            "image/png": "[encoded data removed]",
            "text/plain": [
              "<Figure size 216x216 with 2 Axes>"
            ]
          },
          "metadata": {
            "tags": []
          }
        }
      ]
    },
    {
      "cell_type": "code",
      "metadata": {
        "id": "Dwb67VoSu9SV"
      },
      "source": [
        "pickle.dump(model_gaussian_nb, open('gaussian_naive_bias.pickle', 'wb'))"
      ],
      "execution_count": null,
      "outputs": []
    },
    {
      "cell_type": "code",
      "metadata": {
        "colab": {
          "base_uri": "https://localhost:8080/"
        },
        "id": "ZxWS9u7AiSMV",
        "outputId": "97f91a3e-ff56-4310-fd10-8444ccfc76ac"
      },
      "source": [
        "from sklearn.naive_bayes import MultinomialNB\n",
        "model_multinomial_nb=MultinomialNB()\n",
        "model_multinomial_nb.fit(features_train,labels_train)\n",
        "model_multinomial_nb_predictions=model_multinomial_nb.predict(features_test)\n",
        "print('Accuracy',accuracy_score(labels_test,model_multinomial_nb_predictions))\n",
        "print(classification_report(labels_test,model_multinomial_nb_predictions))"
      ],
      "execution_count": null,
      "outputs": [
        {
          "output_type": "stream",
          "text": [
            "Accuracy 0.9281546924487415\n",
            "              precision    recall  f1-score   support\n",
            "\n",
            "         0.0       0.93      1.00      0.96      5493\n",
            "         1.0       0.90      0.17      0.28       506\n",
            "\n",
            "    accuracy                           0.93      5999\n",
            "   macro avg       0.92      0.58      0.62      5999\n",
            "weighted avg       0.93      0.93      0.90      5999\n",
            "\n"
          ],
          "name": "stdout"
        }
      ]
    },
    {
      "cell_type": "code",
      "metadata": {
        "colab": {
          "background_save": true
        },
        "id": "2JfkbUR0QEvr",
        "outputId": "f8213bc6-563e-4dfb-ee02-12fd95387f41"
      },
      "source": [
        "from sklearn.svm import SVC\n",
        "model_svm=SVC(kernel='sigmoid',probability=True)\n",
        "model_svm.fit(features_train,labels_train)\n",
        "model_svm_predictions=model_svm.predict(features_test)\n",
        "print('Accuracy',accuracy_score(labels_test,model_svm_predictions))\n",
        "print(classification_report(labels_test,model_svm_predictions))"
      ],
      "execution_count": null,
      "outputs": [
        {
          "output_type": "stream",
          "text": [
            "Accuracy 0.9248208034672445\n",
            "              precision    recall  f1-score   support\n",
            "\n",
            "         0.0       0.95      0.97      0.96      5493\n",
            "         1.0       0.57      0.45      0.50       506\n",
            "\n",
            "    accuracy                           0.92      5999\n",
            "   macro avg       0.76      0.71      0.73      5999\n",
            "weighted avg       0.92      0.92      0.92      5999\n",
            "\n"
          ],
          "name": "stdout"
        }
      ]
    },
    {
      "cell_type": "code",
      "metadata": {
        "colab": {
          "background_save": true
        },
        "id": "pgh9gCEDkSum",
        "outputId": "1026ea2f-7195-4014-8f72-325fcbda4659"
      },
      "source": [
        "plot_confusion_matrix(model_random_forest,model_random_forest_predictions)\n",
        "plot_confusion_matrix(model_logistic_regression,model_logistic_regression_predictions)\n",
        "plot_confusion_matrix(model_knn,model_knn_predictions)\n",
        "plot_confusion_matrix(model_decision_tree,model_decision_tree_predictions)\n",
        "plot_confusion_matrix(model_gaussian_nb,model_gaussian_nb_predictions)\n",
        "plot_confusion_matrix(model_multinomial_nb,model_multinomial_nb_predictions)\n",
        "plot_confusion_matrix(model_svm,model_svm_predictions)"
      ],
      "execution_count": null,
      "outputs": [
        {
          "output_type": "display_data",
          "data": {
            "image/png": "[encoded data removed]",
            "text/plain": [
              "<Figure size 216x216 with 2 Axes>"
            ]
          },
          "metadata": {
            "tags": []
          }
        },
        {
          "output_type": "display_data",
          "data": {
            "image/png": "[encoded data removed]",
            "text/plain": [
              "<Figure size 216x216 with 2 Axes>"
            ]
          },
          "metadata": {
            "tags": []
          }
        },
        {
          "output_type": "display_data",
          "data": {
            "image/png": "[encoded data removed]",
            "text/plain": [
              "<Figure size 216x216 with 2 Axes>"
            ]
          },
          "metadata": {
            "tags": []
          }
        },
        {
          "output_type": "display_data",
          "data": {
            "image/png": "[encoded data removed]",
            "text/plain": [
              "<Figure size 216x216 with 2 Axes>"
            ]
          },
          "metadata": {
            "tags": []
          }
        },
        {
          "output_type": "display_data",
          "data": {
            "image/png": "[encoded data removed]",
            "text/plain": [
              "<Figure size 216x216 with 2 Axes>"
            ]
          },
          "metadata": {
            "tags": []
          }
        },
        {
          "output_type": "display_data",
          "data": {
            "image/png": "[encoded data removed]",
            "text/plain": [
              "<Figure size 216x216 with 2 Axes>"
            ]
          },
          "metadata": {
            "tags": []
          }
        },
        {
          "output_type": "display_data",
          "data": {
            "image/png": "[encoded data removed]",
            "text/plain": [
              "<Figure size 216x216 with 2 Axes>"
            ]
          },
          "metadata": {
            "tags": []
          }
        }
      ]
    },
    {
      "cell_type": "markdown",
      "metadata": {
        "id": "RCaoE0ZdRUrC"
      },
      "source": [
        "# Applying Deep Learning "
      ]
    },
    {
      "cell_type": "code",
      "metadata": {
        "colab": {
          "background_save": true
        },
        "id": "Rhvs2RESRK0f"
      },
      "source": [
        "# import numpy as np\n",
        "# from tensorflow.keras.preprocessing.text import one_hot\n",
        "# from tensorflow.keras.preprocessing.sequence import pad_sequences\n",
        "# from tensorflow.keras.utils import to_categorical\n",
        "# vocabulary_size=10000\n",
        "# one_hot_representation=[one_hot(words,vocabulary_size) for words in data['Text_parsed']]\n",
        "# sentence_length=100\n",
        "# embedded_docs = pad_sequences(one_hot_representation,padding='pre',maxlen=sentence_length)\n",
        "# X_final=np.array(embedded_docs)\n",
        "# Y_final=data['category_target']"
      ],
      "execution_count": null,
      "outputs": []
    },
    {
      "cell_type": "code",
      "metadata": {
        "colab": {
          "background_save": true
        },
        "id": "Ul31l67lRgVB"
      },
      "source": [
        "# total_text='';\n",
        "# for text in data['Text_parsed']:\n",
        "#   total_text+=text"
      ],
      "execution_count": null,
      "outputs": []
    },
    {
      "cell_type": "code",
      "metadata": {
        "colab": {
          "background_save": true
        },
        "id": "spsV8ygMRlK6"
      },
      "source": [
        "# from sklearn.preprocessing import LabelEncoder\n",
        "# lb=LabelEncoder()\n",
        "# print(lb.fit( word_tokenize(total_text)))\n",
        "# print(lb.transform(word_tokenize(data['Text_parsed'][0])))"
      ],
      "execution_count": null,
      "outputs": []
    },
    {
      "cell_type": "code",
      "metadata": {
        "colab": {
          "background_save": true
        },
        "id": "0BkT94MGRqYZ"
      },
      "source": [
        "# X_train_nn,X_test_nn,Y_train_nn,Y_test_nn=train_test_split(X_final,Y_final,test_size=.25,random_state=32)"
      ],
      "execution_count": null,
      "outputs": []
    },
    {
      "cell_type": "code",
      "metadata": {
        "colab": {
          "background_save": true
        },
        "id": "9GGr0jqjRtaB"
      },
      "source": [
        "# (X_train_nn.shape,Y_train_nn.shape)"
      ],
      "execution_count": null,
      "outputs": []
    },
    {
      "cell_type": "code",
      "metadata": {
        "colab": {
          "background_save": true
        },
        "id": "lSTFqpIfRxWt"
      },
      "source": [
        "# from tensorflow.keras.layers import Embedding\n",
        "# from tensorflow.keras.models import Sequential\n",
        "# from tensorflow.keras.layers import LSTM\n",
        "# from tensorflow.keras.layers import Dense\n",
        "# from tensorflow.keras.layers import Dropout"
      ],
      "execution_count": null,
      "outputs": []
    },
    {
      "cell_type": "code",
      "metadata": {
        "colab": {
          "background_save": true
        },
        "id": "Awt_Bja0R16X"
      },
      "source": [
        "# features_dimentions=100"
      ],
      "execution_count": null,
      "outputs": []
    },
    {
      "cell_type": "code",
      "metadata": {
        "colab": {
          "background_save": true
        },
        "id": "-6yAFmg_R48I"
      },
      "source": [
        "# model=Sequential()\n",
        "# model.add(Embedding(vocabulary_size,features_dimentions,input_length=sentence_length))\n",
        "# model.add(Dropout(.9))\n",
        "# model.add(LSTM(60))\n",
        "# model.add(Dropout(.9))\n",
        "# model.add(Dense(1,activation='sigmoid'))"
      ],
      "execution_count": null,
      "outputs": []
    },
    {
      "cell_type": "code",
      "metadata": {
        "colab": {
          "background_save": true
        },
        "id": "j4fRuATAR_AB"
      },
      "source": [
        "# model.summary()"
      ],
      "execution_count": null,
      "outputs": []
    },
    {
      "cell_type": "code",
      "metadata": {
        "colab": {
          "background_save": true
        },
        "id": "YWIoTLycSFqR"
      },
      "source": [
        "# from tensorflow.keras.utils import plot_model\n",
        "# plot_model(model,show_shapes=True)"
      ],
      "execution_count": null,
      "outputs": []
    },
    {
      "cell_type": "code",
      "metadata": {
        "colab": {
          "background_save": true
        },
        "id": "6WjyFnPnSLhQ"
      },
      "source": [
        "# from tensorflow.keras.callbacks import Callback\n",
        "\n",
        "# class BanglaNewsClassificationCallaback(Callback):\n",
        "#     def on_epoch_end(self, epoch, logs={}):\n",
        "#         if(logs.get('accuracy') is not None and logs.get('accuracy')>0.97):\n",
        "#             print(\"\\nReached 97.0% accuracy so cancelling training!\")\n",
        "#             self.model.stop_training = True"
      ],
      "execution_count": null,
      "outputs": []
    },
    {
      "cell_type": "code",
      "metadata": {
        "colab": {
          "background_save": true
        },
        "id": "wGLxcOUGSOm4"
      },
      "source": [
        "# from tensorflow.keras.losses import BinaryCrossentropy\n",
        "# from tensorflow.keras.optimizers import Adam\n",
        "# from tensorflow.keras.callbacks import ModelCheckpoint\n",
        "# from tensorflow.keras.callbacks import LearningRateScheduler\n",
        "# checkpoint_path = \"/content/drive/MyDrive/AI/training_2/political_post_detection.ckpt\"\n",
        "# try:\n",
        "#   model.load_weights(checkpoint_path)\n",
        "# except:\n",
        "#   pass\n",
        "# batch_size=64\n",
        "\n",
        "# cp_callback =ModelCheckpoint(\n",
        "#     filepath=checkpoint_path, \n",
        "#     verbose=0, \n",
        "#     save_weights_only=True,\n",
        "#     save_freq=235,\n",
        "#     )\n",
        "# initial_learning_rate = 0.001\n",
        "# epochs = 5\n",
        "# decay = initial_learning_rate / epochs\n",
        "# def lr_time_based_decay(epoch, lr):\n",
        "#     return lr * 1 / (1 + decay * epoch)\n",
        "\n",
        "# model.compile(\n",
        "#      loss=BinaryCrossentropy(from_logits=False),\n",
        "#       optimizer=Adam(learning_rate=initial_learning_rate,epsilon=1e-27), \n",
        "#       metrics=['accuracy']\n",
        "#       )\n",
        "\n",
        "\n",
        "# history=model.fit(\n",
        "#     x=X_train_nn,\n",
        "#     y=Y_train_nn,\n",
        "#     batch_size=batch_size,\n",
        "#     validation_data=(X_test_nn,Y_test_nn),\n",
        "#     callbacks=[LearningRateScheduler(lr_time_based_decay, verbose=1),BanglaNewsClassificationCallaback(),cp_callback],\n",
        "#     epochs=10,\n",
        "#     verbose=1\n",
        "#     )"
      ],
      "execution_count": null,
      "outputs": []
    },
    {
      "cell_type": "code",
      "metadata": {
        "id": "eWh11TVWSs-Y"
      },
      "source": [
        "# train_loss,train_acc=model.evaluate(X_train_nn,Y_train_nn)\n",
        "# val_loss, val_acc = model.evaluate(X_test_nn, Y_test_nn)"
      ],
      "execution_count": null,
      "outputs": []
    },
    {
      "cell_type": "code",
      "metadata": {
        "id": "whQ-z6L9Sx_r"
      },
      "source": [
        "# print(\"Training Loss : \",train_loss)\n",
        "# print(\"Training Acc : \",train_acc)\n",
        "# print(\"Validation Loss : \",val_loss)\n",
        "# print(\"Validation Accuracy : \",val_acc) \n",
        "# print(history.history.keys())\n",
        "# plt.rcParams['figure.figsize'] = [15, 7]\n",
        "# fig,axs=plt.subplots(1,2)\n",
        "# axs[0].plot(history.history['accuracy'])\n",
        "# axs[0].plot(history.history['val_accuracy'])\n",
        "# axs[0].set_title('model accuracy')\n",
        "# axs[0].set(xlabel='epoch', ylabel='loss')\n",
        "# axs[0].legend(['train', 'test'], loc='upper left')\n",
        "# # summarize history for loss\n",
        "# axs[1].plot(history.history['loss'])\n",
        "# axs[1].plot(history.history['val_loss'])\n",
        "# axs[1].set_title('model loss')\n",
        "# axs[1].set(xlabel='epoch', ylabel='loss')\n",
        "# axs[1].legend(['train', 'test'], loc='upper left')"
      ],
      "execution_count": null,
      "outputs": []
    },
    {
      "cell_type": "code",
      "metadata": {
        "id": "LRhK5JZrVxb0"
      },
      "source": [
        "# model.save('bengali_news_classifier.h5')"
      ],
      "execution_count": null,
      "outputs": []
    },
    {
      "cell_type": "code",
      "metadata": {
        "id": "56BHgWvlXHYU"
      },
      "source": [
        "# lstm_pred=model.predict(X_test_nn, batch_size=32, max_queue_size=10,workers=1, use_multiprocessing=True)"
      ],
      "execution_count": null,
      "outputs": []
    },
    {
      "cell_type": "markdown",
      "metadata": {
        "id": "YMqEJhqoV4Fy"
      },
      "source": [
        "# Confusion Matrix Analysis For LSTMS"
      ]
    },
    {
      "cell_type": "code",
      "metadata": {
        "id": "D7j4gIjiV3p9"
      },
      "source": [
        "# from tensorflow.math import confusion_matrix\n",
        "# confusion_matrix(Y_test_nn,lstm_pred,num_classes=2)"
      ],
      "execution_count": null,
      "outputs": []
    },
    {
      "cell_type": "markdown",
      "metadata": {
        "id": "ZXl09fo4SAS0"
      },
      "source": [
        "# Prediction Model Output From Input Text"
      ]
    },
    {
      "cell_type": "code",
      "metadata": {
        "id": "dUb1M99uJJzl"
      },
      "source": [
        "import time"
      ],
      "execution_count": null,
      "outputs": []
    },
    {
      "cell_type": "code",
      "metadata": {
        "id": "HXyHkBkx43Ih",
        "colab": {
          "base_uri": "https://localhost:8080/"
        },
        "outputId": "28932d0b-7b17-4af8-d96b-5b9eda147daf"
      },
      "source": [
        "start_time = time.time()\n",
        "text = \"\\u09B8\\u09B0\\u0995\\u09BE\\u09B0\\u09C7\\u09B0 \\u0989\\u09A8\\u09CD\\u09A8\\u09DF\\u09A8 \\u09AD\\u09C7\\u0999\\u09C7 \\u09AA\\u09DC\\u09C7\\u099B\\u09C7 \\u09AC\\u09B2\\u09C7 \\u09AE\\u09A8\\u09CD\\u09A4\\u09AC\\u09CD\\u09AF \\u0995\\u09B0\\u09C7\\u099B\\u09C7\\u09A8 \\u09AC\\u09BF\\u098F\\u09A8\\u09AA\\u09BF \\u09AE\\u09B9\\u09BE\\u09B8\\u099A\\u09BF\\u09AC \\u09AE\\u09BF\\u09B0\\u09CD\\u099C\\u09BE \\u09AB\\u0996\\u09B0\\u09C1\\u09B2 \\u0987\\u09B8\\u09B2\\u09BE\\u09AE \\u0986\\u09B2\\u09AE\\u0997\\u09C0\\u09B0\\u0964 \\u09AC\\u09BF\\u09AE\\u09BE\\u09A8\\u09AC\\u09A8\\u09CD\\u09A6\\u09B0\\u09C7\\u09B0 \\u0995\\u09BE\\u099B\\u09C7 \\u09A8\\u09BF\\u09B0\\u09CD\\u09AE\\u09BE\\u09A3\\u09BE\\u09A7\\u09C0\\u09A8 \\u09AC\\u09BE\\u09B8 \\u09B0\\u200D\\u09CD\\u09AF\\u09BE\\u09AA\\u09BF\\u09A1 \\u099F\\u09CD\\u09B0\\u09BE\\u09A8\\u099C\\u09BF\\u099F (\\u09AC\\u09BF\\u0986\\u09B0\\u099F\\u09BF) \\u09AA\\u09CD\\u09B0\\u0995\\u09B2\\u09CD\\u09AA\\u09C7\\u09B0 \\u0997\\u09BE\\u09B0\\u09CD\\u09A1\\u09BE\\u09B0 \\u09AA\\u09DC\\u09C7 \\u09AF\\u09BE\\u0993\\u09DF\\u09BE\\u09B0 \\u0998\\u099F\\u09A8\\u09BE\\u09B0 \\u0989\\u09A6\\u09BE\\u09B9\\u09B0\\u09A3 \\u09A6\\u09BF\\u09DF\\u09C7 \\u09A4\\u09BF\\u09A8\\u09BF \\u09AC\\u09B2\\u09C7\\u099B\\u09C7\\u09A8, \\u2018\\u099C\\u09A8\\u0997\\u09A3\\u09C7\\u09B0 \\u099F\\u09BE\\u0995\\u09BE \\u09A8\\u09BF\\u09DF\\u09C7 \\u09AF\\u09C7\\u09B8\\u09AC \\u09A8\\u09BF\\u09B0\\u09CD\\u09AE\\u09BE\\u09A3 \\u0995\\u09B0\\u09BE \\u09B9\\u099A\\u09CD\\u099B\\u09C7, \\u09B8\\u09C7\\u099F\\u09BE \\u09B9\\u09A0\\u09BE\\u09CE \\u09AD\\u09C7\\u0999\\u09C7 \\u09AA\\u09DC\\u099B\\u09C7\\u0964 \\u09A4\\u09BE\\u09B0 \\u09AE\\u09BE\\u09A8\\u09C7 \\u0995\\u09C0 \\u09B9\\u099A\\u09CD\\u099B\\u09C7?\\u2019  \\u0986\\u099C \\u09B0\\u09CB\\u09AC\\u09AC\\u09BE\\u09B0 \\u099C\\u09BE\\u09A4\\u09C0\\u09DF \\u09AA\\u09CD\\u09B0\\u09C7\\u09B8\\u0995\\u09CD\\u09B2\\u09BE\\u09AC\\u09C7 \\u09B8\\u09C8\\u09DF\\u09A6 \\u09AE\\u09CB\\u09DF\\u09BE\\u099C\\u09CD\\u099C\\u09C7\\u09AE \\u09B9\\u09CB\\u09B8\\u09C7\\u09A8 \\u0986\\u09B2\\u09BE\\u09B2 \\u09B0\\u099A\\u09BF\\u09A4 \\u2018\\u0995\\u09C1\\u09AA\\u09BF \\u09AC\\u09BE\\u09A4\\u09BF\\u09B0 \\u0997\\u09A3\\u09A4\\u09A8\\u09CD\\u09A4\\u09CD\\u09B0\\u2019 \\u09AC\\u0987\\u09DF\\u09C7\\u09B0 \\u09AE\\u09CB\\u09DC\\u0995 \\u0989\\u09A8\\u09CD\\u09AE\\u09CB\\u099A\\u09A8 \\u0985\\u09A8\\u09C1\\u09B7\\u09CD\\u09A0\\u09BE\\u09A8\\u09C7 \\u09AE\\u09BF\\u09B0\\u09CD\\u099C\\u09BE \\u09AB\\u0996\\u09B0\\u09C1\\u09B2 \\u098F\\u09B8\\u09AC \\u0995\\u09A5\\u09BE \\u09AC\\u09B2\\u09C7\\u09A8\\u0964\" #@param {type:\"string\"}\n",
        "# text=process_text(text)\n",
        "text_for_pred=tfidf_new.fit_transform([text]).toarray()\n",
        "model_gaussian_nb_predictions=model_gaussian_nb.predict_proba(text_for_pred)\n",
        "class_probability=model_gaussian_nb_predictions.flatten()\n",
        "print(class_probability)\n",
        "post_type= lambda x: \"Not Political\" if x[0]>x[1]  else  \"Political\"\n",
        "text=text.replace('\\u0964','\\u0964 \\n')\n",
        "print(text)\n",
        "print(post_type(class_probability))\n",
        "print(\"\\n\")\n",
        "print(\"Execution time %s ms \" % ((time.time() - start_time)*1000))"
      ],
      "execution_count": null,
      "outputs": [
        {
          "output_type": "stream",
          "text": [
            "[2.51324665e-07 9.99999749e-01]\n",
            "সরকারের উন্নয়ন ভেঙে পড়েছে বলে মন্তব্য করেছেন বিএনপি মহাসচিব মির্জা ফখরুল ইসলাম আলমগীর। \n",
            " বিমানবন্দরের কাছে নির্মাণাধীন বাস র‍্যাপিড ট্রানজিট (বিআরটি) প্রকল্পের গার্ডার পড়ে যাওয়ার ঘটনার উদাহরণ দিয়ে তিনি বলেছেন, ‘জনগণের টাকা নিয়ে যেসব নির্মাণ করা হচ্ছে, সেটা হঠাৎ ভেঙে পড়ছে। \n",
            " তার মানে কী হচ্ছে?’  আজ রোববার জাতীয় প্রেসক্লাবে সৈয়দ মোয়াজ্জেম হোসেন আলাল রচিত ‘কুপি বাতির গণতন্ত্র’ বইয়ের মোড়ক উন্মোচন অনুষ্ঠানে মির্জা ফখরুল এসব কথা বলেন। \n",
            "\n",
            "Political\n",
            "\n",
            "\n",
            "Execution time 3.2024383544921875 ms \n"
          ],
          "name": "stdout"
        }
      ]
    },
    {
      "cell_type": "code",
      "metadata": {
        "id": "-CVvrRnIy92D",
        "colab": {
          "base_uri": "https://localhost:8080/"
        },
        "outputId": "d4fbb9a4-16aa-4861-bdd9-04d72d04f621"
      },
      "source": [
        "!ls -l -sh /content/"
      ],
      "execution_count": null,
      "outputs": [
        {
          "output_type": "stream",
          "text": [
            "total 3.1G\n",
            "1.1G -rw-r--r-- 1 root root 1.1G Mar 15 00:32 bangla-newspaper-dataset.zip\n",
            "4.0K drwxr-xr-x 9 root root 4.0K Mar 15 00:37 bengali\n",
            "4.0K drwxr-xr-x 2 root root 4.0K Mar 15 00:32 data\n",
            "4.0K drwxr-xr-x 2 root root 4.0K Mar 15 00:33 data_v2\n",
            "4.0K drwx------ 5 root root 4.0K Mar 15 00:32 drive\n",
            "8.0K -rw-r--r-- 1 root root 6.9K Mar 15 00:46 gaussian_naive_bias.pickle\n",
            "1.9G -rw-r--r-- 1 root root 1.9G Mar 15 00:35 political_post_data.csv\n",
            "222M -rw-r--r-- 1 root root 222M Mar 15 00:38 political_post_data_parsed.csv\n",
            "8.0K -rw-r--r-- 1 root root 4.9K Mar 15 00:35 ranksnl-bengali.txt\n",
            "8.0K -rw-r--r-- 1 root root 4.9K Mar 15 00:37 ranksnl-bengali.txt.1\n",
            "4.0K drwxr-xr-x 1 root root 4.0K Mar  5 14:37 sample_data\n"
          ],
          "name": "stdout"
        }
      ]
    },
    {
      "cell_type": "code",
      "metadata": {
        "id": "lR6un-hJzhiS",
        "colab": {
          "base_uri": "https://localhost:8080/"
        },
        "outputId": "5b8c875b-6b7b-461d-f5ae-babc42884c7a"
      },
      "source": [
        "!pip freeze"
      ],
      "execution_count": null,
      "outputs": [
        {
          "output_type": "stream",
          "text": [
            "absl-py==0.10.0\n",
            "alabaster==0.7.12\n",
            "albumentations==0.1.12\n",
            "altair==4.1.0\n",
            "appdirs==1.4.4\n",
            "argon2-cffi==20.1.0\n",
            "asgiref==3.3.1\n",
            "astor==0.8.1\n",
            "astropy==4.2\n",
            "astunparse==1.6.3\n",
            "async-generator==1.10\n",
            "atari-py==0.2.6\n",
            "atomicwrites==1.4.0\n",
            "attrs==20.3.0\n",
            "audioread==2.1.9\n",
            "autograd==1.3\n",
            "Babel==2.9.0\n",
            "backcall==0.2.0\n",
            "beautifulsoup4==4.6.3\n",
            "bleach==3.3.0\n",
            "blis==0.4.1\n",
            "bokeh==2.1.1\n",
            "Bottleneck==1.3.2\n",
            "branca==0.4.2\n",
            "bs4==0.0.1\n",
            "CacheControl==0.12.6\n",
            "cachetools==4.2.1\n",
            "catalogue==1.0.0\n",
            "certifi==2020.12.5\n",
            "cffi==1.14.5\n",
            "chainer==7.4.0\n",
            "chardet==3.0.4\n",
            "click==7.1.2\n",
            "cloudpickle==1.3.0\n",
            "cmake==3.12.0\n",
            "cmdstanpy==0.9.5\n",
            "colorlover==0.3.0\n",
            "community==1.0.0b1\n",
            "contextlib2==0.5.5\n",
            "convertdate==2.3.1\n",
            "coverage==3.7.1\n",
            "coveralls==0.5\n",
            "crcmod==1.7\n",
            "cufflinks==0.17.3\n",
            "cvxopt==1.2.6\n",
            "cvxpy==1.0.31\n",
            "cycler==0.10.0\n",
            "cymem==2.0.5\n",
            "Cython==0.29.22\n",
            "daft==0.0.4\n",
            "dask==2.12.0\n",
            "datascience==0.10.6\n",
            "debugpy==1.0.0\n",
            "decorator==4.4.2\n",
            "defusedxml==0.7.0\n",
            "descartes==1.1.0\n",
            "dill==0.3.3\n",
            "distributed==1.25.3\n",
            "Django==3.1.7\n",
            "dlib==19.18.0\n",
            "dm-tree==0.1.5\n",
            "docopt==0.6.2\n",
            "docutils==0.16\n",
            "dopamine-rl==1.0.5\n",
            "earthengine-api==0.1.254\n",
            "easydict==1.9\n",
            "ecos==2.0.7.post1\n",
            "editdistance==0.5.3\n",
            "en-core-web-sm==2.2.5\n",
            "entrypoints==0.3\n",
            "ephem==3.7.7.1\n",
            "et-xmlfile==1.0.1\n",
            "fa2==0.3.5\n",
            "fancyimpute==0.4.3\n",
            "fastai==1.0.61\n",
            "fastdtw==0.3.4\n",
            "fastprogress==1.0.0\n",
            "fastrlock==0.5\n",
            "fbprophet==0.7.1\n",
            "feather-format==0.4.1\n",
            "filelock==3.0.12\n",
            "firebase-admin==4.4.0\n",
            "fix-yahoo-finance==0.0.22\n",
            "Flask==1.1.2\n",
            "flatbuffers==1.12\n",
            "folium==0.8.3\n",
            "future==0.16.0\n",
            "gast==0.3.3\n",
            "GDAL==2.2.2\n",
            "gdown==3.6.4\n",
            "gensim==3.6.0\n",
            "geographiclib==1.50\n",
            "geopy==1.17.0\n",
            "gin-config==0.4.0\n",
            "glob2==0.7\n",
            "google==2.0.3\n",
            "google-api-core==1.26.1\n",
            "google-api-python-client==1.12.8\n",
            "google-auth==1.27.1\n",
            "google-auth-httplib2==0.0.4\n",
            "google-auth-oauthlib==0.4.3\n",
            "google-cloud-bigquery==1.21.0\n",
            "google-cloud-bigquery-storage==1.1.0\n",
            "google-cloud-core==1.0.3\n",
            "google-cloud-datastore==1.8.0\n",
            "google-cloud-firestore==1.7.0\n",
            "google-cloud-language==1.2.0\n",
            "google-cloud-storage==1.18.1\n",
            "google-cloud-translate==1.5.0\n",
            "google-colab==1.0.0\n",
            "google-pasta==0.2.0\n",
            "google-resumable-media==0.4.1\n",
            "googleapis-common-protos==1.53.0\n",
            "googledrivedownloader==0.4\n",
            "graphviz==0.10.1\n",
            "grpcio==1.32.0\n",
            "gspread==3.0.1\n",
            "gspread-dataframe==3.0.8\n",
            "gym==0.17.3\n",
            "h5py==2.10.0\n",
            "HeapDict==1.0.1\n",
            "hijri-converter==2.1.1\n",
            "holidays==0.10.5.2\n",
            "holoviews==1.13.5\n",
            "html5lib==1.0.1\n",
            "httpimport==0.5.18\n",
            "httplib2==0.17.4\n",
            "httplib2shim==0.0.3\n",
            "humanize==0.5.1\n",
            "hyperopt==0.1.2\n",
            "ideep4py==2.0.0.post3\n",
            "idna==2.10\n",
            "image==1.5.33\n",
            "imageio==2.4.1\n",
            "imagesize==1.2.0\n",
            "imbalanced-learn==0.4.3\n",
            "imblearn==0.0\n",
            "imgaug==0.2.9\n",
            "importlib-metadata==3.7.0\n",
            "importlib-resources==5.1.2\n",
            "imutils==0.5.4\n",
            "inflect==2.1.0\n",
            "iniconfig==1.1.1\n",
            "intel-openmp==2021.1.2\n",
            "intervaltree==2.1.0\n",
            "ipykernel==4.10.1\n",
            "ipython==5.5.0\n",
            "ipython-genutils==0.2.0\n",
            "ipython-sql==0.3.9\n",
            "ipywidgets==7.6.3\n",
            "itsdangerous==1.1.0\n",
            "jax==0.2.9\n",
            "jaxlib==0.1.60+cuda110\n",
            "jdcal==1.4.1\n",
            "jedi==0.18.0\n",
            "jieba==0.42.1\n",
            "Jinja2==2.11.3\n",
            "joblib==1.0.1\n",
            "jpeg4py==0.1.4\n",
            "jsonschema==2.6.0\n",
            "jupyter==1.0.0\n",
            "jupyter-client==5.3.5\n",
            "jupyter-console==5.2.0\n",
            "jupyter-core==4.7.1\n",
            "jupyterlab-pygments==0.1.2\n",
            "jupyterlab-widgets==1.0.0\n",
            "kaggle==1.5.10\n",
            "kapre==0.1.3.1\n",
            "Keras==2.4.3\n",
            "Keras-Preprocessing==1.1.2\n",
            "keras-vis==0.4.1\n",
            "kiwisolver==1.3.1\n",
            "knnimpute==0.1.0\n",
            "korean-lunar-calendar==0.2.1\n",
            "librosa==0.8.0\n",
            "lightgbm==2.2.3\n",
            "llvmlite==0.34.0\n",
            "lmdb==0.99\n",
            "lucid==0.3.8\n",
            "LunarCalendar==0.0.9\n",
            "lxml==4.2.6\n",
            "Markdown==3.3.4\n",
            "MarkupSafe==1.1.1\n",
            "matplotlib==3.2.2\n",
            "matplotlib-venn==0.11.6\n",
            "missingno==0.4.2\n",
            "mistune==0.8.4\n",
            "mizani==0.6.0\n",
            "mkl==2019.0\n",
            "mlxtend==0.14.0\n",
            "more-itertools==8.7.0\n",
            "moviepy==0.2.3.5\n",
            "mpmath==1.2.1\n",
            "msgpack==1.0.2\n",
            "multiprocess==0.70.11.1\n",
            "multitasking==0.0.9\n",
            "murmurhash==1.0.5\n",
            "music21==5.5.0\n",
            "natsort==5.5.0\n",
            "nbclient==0.5.3\n",
            "nbconvert==5.6.1\n",
            "nbformat==5.1.2\n",
            "nest-asyncio==1.5.1\n",
            "networkx==2.5\n",
            "nibabel==3.0.2\n",
            "nltk==3.2.5\n",
            "notebook==5.3.1\n",
            "np-utils==0.5.12.1\n",
            "numba==0.51.2\n",
            "numexpr==2.7.3\n",
            "numpy==1.19.5\n",
            "nvidia-ml-py3==7.352.0\n",
            "oauth2client==4.1.3\n",
            "oauthlib==3.1.0\n",
            "okgrade==0.4.3\n",
            "opencv-contrib-python==4.1.2.30\n",
            "opencv-python==4.1.2.30\n",
            "openpyxl==2.5.9\n",
            "opt-einsum==3.3.0\n",
            "osqp==0.6.2.post0\n",
            "packaging==20.9\n",
            "palettable==3.3.0\n",
            "pandas==1.1.5\n",
            "pandas-datareader==0.9.0\n",
            "pandas-gbq==0.13.3\n",
            "pandas-profiling==1.4.1\n",
            "pandocfilters==1.4.3\n",
            "panel==0.9.7\n",
            "param==1.10.1\n",
            "parso==0.8.1\n",
            "pathlib==1.0.1\n",
            "patsy==0.5.1\n",
            "pexpect==4.8.0\n",
            "pickle5==0.0.11\n",
            "pickleshare==0.7.5\n",
            "Pillow==7.0.0\n",
            "pip-tools==4.5.1\n",
            "plac==1.1.3\n",
            "plotly==4.4.1\n",
            "plotnine==0.6.0\n",
            "pluggy==0.7.1\n",
            "pooch==1.3.0\n",
            "portpicker==1.3.1\n",
            "prefetch-generator==1.0.1\n",
            "preshed==3.0.5\n",
            "prettytable==2.1.0\n",
            "progressbar2==3.38.0\n",
            "prometheus-client==0.9.0\n",
            "promise==2.3\n",
            "prompt-toolkit==1.0.18\n",
            "protobuf==3.12.4\n",
            "psutil==5.4.8\n",
            "psycopg2==2.7.6.1\n",
            "ptyprocess==0.7.0\n",
            "py==1.10.0\n",
            "pyarrow==3.0.0\n",
            "pyasn1==0.4.8\n",
            "pyasn1-modules==0.2.8\n",
            "pycocotools==2.0.2\n",
            "pycparser==2.20\n",
            "pyct==0.4.8\n",
            "pydata-google-auth==1.1.0\n",
            "pydot==1.3.0\n",
            "pydot-ng==2.0.0\n",
            "pydotplus==2.0.2\n",
            "PyDrive==1.3.1\n",
            "pyemd==0.5.1\n",
            "pyerfa==1.7.2\n",
            "pyglet==1.5.0\n",
            "Pygments==2.6.1\n",
            "pygobject==3.26.1\n",
            "pymc3==3.7\n",
            "PyMeeus==0.5.2\n",
            "pymongo==3.11.3\n",
            "pymystem3==0.2.0\n",
            "pynndescent==0.5.2\n",
            "PyOpenGL==3.1.5\n",
            "pyparsing==2.4.7\n",
            "pyrsistent==0.17.3\n",
            "pysndfile==1.3.8\n",
            "PySocks==1.7.1\n",
            "pystan==2.19.1.1\n",
            "pytest==3.6.4\n",
            "python-apt==0.0.0\n",
            "python-chess==0.23.11\n",
            "python-dateutil==2.8.1\n",
            "python-louvain==0.15\n",
            "python-slugify==4.0.1\n",
            "python-utils==2.5.6\n",
            "pytz==2018.9\n",
            "pyviz-comms==2.0.1\n",
            "PyWavelets==1.1.1\n",
            "PyYAML==3.13\n",
            "pyzmq==22.0.3\n",
            "qdldl==0.1.5.post0\n",
            "qtconsole==5.0.2\n",
            "QtPy==1.9.0\n",
            "regex==2019.12.20\n",
            "requests==2.23.0\n",
            "requests-oauthlib==1.3.0\n",
            "resampy==0.2.2\n",
            "retrying==1.3.3\n",
            "rpy2==3.4.2\n",
            "rsa==4.7.2\n",
            "scikit-image==0.16.2\n",
            "scikit-learn==0.24.1\n",
            "scipy==1.4.1\n",
            "screen-resolution-extra==0.0.0\n",
            "scs==2.1.2\n",
            "seaborn==0.11.1\n",
            "Send2Trash==1.5.0\n",
            "setuptools-git==1.2\n",
            "Shapely==1.7.1\n",
            "simplegeneric==0.8.1\n",
            "six==1.15.0\n",
            "sklearn==0.0\n",
            "sklearn-pandas==1.8.0\n",
            "smart-open==4.2.0\n",
            "snowballstemmer==2.1.0\n",
            "sortedcontainers==2.3.0\n",
            "SoundFile==0.10.3.post1\n",
            "spacy==2.2.4\n",
            "Sphinx==1.8.5\n",
            "sphinxcontrib-serializinghtml==1.1.4\n",
            "sphinxcontrib-websupport==1.2.4\n",
            "SQLAlchemy==1.3.23\n",
            "sqlparse==0.4.1\n",
            "srsly==1.0.5\n",
            "statsmodels==0.10.2\n",
            "sympy==1.7.1\n",
            "tables==3.4.4\n",
            "tabulate==0.8.9\n",
            "tblib==1.7.0\n",
            "tensorboard==2.4.1\n",
            "tensorboard-plugin-wit==1.8.0\n",
            "tensorflow==2.4.1\n",
            "tensorflow-datasets==4.0.1\n",
            "tensorflow-estimator==2.4.0\n",
            "tensorflow-gcs-config==2.4.0\n",
            "tensorflow-hub==0.11.0\n",
            "tensorflow-metadata==0.28.0\n",
            "tensorflow-probability==0.12.1\n",
            "termcolor==1.1.0\n",
            "terminado==0.9.2\n",
            "testpath==0.4.4\n",
            "text-unidecode==1.3\n",
            "textblob==0.15.3\n",
            "textgenrnn==1.4.1\n",
            "Theano==1.0.5\n",
            "thinc==7.4.0\n",
            "threadpoolctl==2.1.0\n",
            "tifffile==2021.3.4\n",
            "toml==0.10.2\n",
            "toolz==0.11.1\n",
            "torch==1.8.0+cu101\n",
            "torchsummary==1.5.1\n",
            "torchtext==0.9.0\n",
            "torchvision==0.9.0+cu101\n",
            "tornado==5.1.1\n",
            "tqdm==4.41.1\n",
            "traitlets==5.0.5\n",
            "tweepy==3.10.0\n",
            "typeguard==2.7.1\n",
            "typing-extensions==3.7.4.3\n",
            "tzlocal==1.5.1\n",
            "umap-learn==0.5.1\n",
            "uritemplate==3.0.1\n",
            "urllib3==1.24.3\n",
            "vega-datasets==0.9.0\n",
            "wasabi==0.8.2\n",
            "wcwidth==0.2.5\n",
            "webencodings==0.5.1\n",
            "Werkzeug==1.0.1\n",
            "widgetsnbextension==3.5.1\n",
            "wordcloud==1.5.0\n",
            "wrapt==1.12.1\n",
            "xarray==0.15.1\n",
            "xgboost==0.90\n",
            "xkit==0.0.0\n",
            "xlrd==1.1.0\n",
            "xlwt==1.3.0\n",
            "yellowbrick==0.9.1\n",
            "zict==2.0.0\n",
            "zipp==3.4.1\n"
          ],
          "name": "stdout"
        }
      ]
    }
  ]
}