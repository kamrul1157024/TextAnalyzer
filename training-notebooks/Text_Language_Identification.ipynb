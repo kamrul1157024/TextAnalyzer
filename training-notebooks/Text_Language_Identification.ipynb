{
  "nbformat": 4,
  "nbformat_minor": 0,
  "metadata": {
    "colab": {
      "name": "Text Language Identification",
      "provenance": [],
      "collapsed_sections": [],
      "toc_visible": true
    },
    "kernelspec": {
      "display_name": "Python 3",
      "name": "python3"
    }
  },
  "cells": [
    {
      "cell_type": "code",
      "metadata": {
        "colab": {
          "base_uri": "https://localhost:8080/"
        },
        "id": "jVqa4GVuznDf",
        "outputId": "e2d6631f-784d-4d57-dcb5-757bf538eb79"
      },
      "source": [
        "from google.colab import drive\n",
        "drive.mount('/content/drive')"
      ],
      "execution_count": null,
      "outputs": [
        {
          "output_type": "stream",
          "text": [
            "Drive already mounted at /content/drive; to attempt to forcibly remount, call drive.mount(\"/content/drive\", force_remount=True).\n"
          ],
          "name": "stdout"
        }
      ]
    },
    {
      "cell_type": "code",
      "metadata": {
        "colab": {
          "base_uri": "https://localhost:8080/"
        },
        "id": "DC098I1Y7zEs",
        "outputId": "26b04e6f-6355-452a-cba5-90510bb91341"
      },
      "source": [
        "!wget https://raw.githubusercontent.com/omicronlab/JAvroPhonetic/json/src/com/omicronlab/avro/phonetic/phonetic.json"
      ],
      "execution_count": null,
      "outputs": [
        {
          "output_type": "stream",
          "text": [
            "--2021-03-15 05:07:17--  https://raw.githubusercontent.com/omicronlab/JAvroPhonetic/json/src/com/omicronlab/avro/phonetic/phonetic.json\n",
            "Resolving raw.githubusercontent.com (raw.githubusercontent.com)... 185.199.108.133, 185.199.109.133, 185.199.110.133, ...\n",
            "Connecting to raw.githubusercontent.com (raw.githubusercontent.com)|185.199.108.133|:443... connected.\n",
            "HTTP request sent, awaiting response... 200 OK\n",
            "Length: 60654 (59K) [text/plain]\n",
            "Saving to: ‘phonetic.json.2’\n",
            "\n",
            "\rphonetic.json.2       0%[                    ]       0  --.-KB/s               \rphonetic.json.2     100%[===================>]  59.23K  --.-KB/s    in 0.008s  \n",
            "\n",
            "2021-03-15 05:07:17 (7.41 MB/s) - ‘phonetic.json.2’ saved [60654/60654]\n",
            "\n"
          ],
          "name": "stdout"
        }
      ]
    },
    {
      "cell_type": "code",
      "metadata": {
        "colab": {
          "base_uri": "https://localhost:8080/"
        },
        "id": "ZB08nm6nxnA-",
        "outputId": "a780a7d0-7ab3-498f-9179-366bffd09917"
      },
      "source": [
        "!pip install -U scikit-learn\n",
        "!pip install -U pickle5"
      ],
      "execution_count": null,
      "outputs": [
        {
          "output_type": "stream",
          "text": [
            "Collecting scikit-learn\n",
            "\u001b[?25l  Downloading https://files.pythonhosted.org/packages/f3/74/eb899f41d55f957e2591cde5528e75871f817d9fb46d4732423ecaca736d/scikit_learn-0.24.1-cp37-cp37m-manylinux2010_x86_64.whl (22.3MB)\n",
            "\u001b[K     |████████████████████████████████| 22.3MB 2.0MB/s \n",
            "\u001b[?25hCollecting threadpoolctl>=2.0.0\n",
            "  Downloading https://files.pythonhosted.org/packages/f7/12/ec3f2e203afa394a149911729357aa48affc59c20e2c1c8297a60f33f133/threadpoolctl-2.1.0-py3-none-any.whl\n",
            "Requirement already satisfied, skipping upgrade: joblib>=0.11 in /usr/local/lib/python3.7/dist-packages (from scikit-learn) (1.0.1)\n",
            "Requirement already satisfied, skipping upgrade: numpy>=1.13.3 in /usr/local/lib/python3.7/dist-packages (from scikit-learn) (1.19.5)\n",
            "Requirement already satisfied, skipping upgrade: scipy>=0.19.1 in /usr/local/lib/python3.7/dist-packages (from scikit-learn) (1.4.1)\n",
            "Installing collected packages: threadpoolctl, scikit-learn\n",
            "  Found existing installation: scikit-learn 0.22.2.post1\n",
            "    Uninstalling scikit-learn-0.22.2.post1:\n",
            "      Successfully uninstalled scikit-learn-0.22.2.post1\n",
            "Successfully installed scikit-learn-0.24.1 threadpoolctl-2.1.0\n",
            "Collecting pickle5\n",
            "\u001b[?25l  Downloading https://files.pythonhosted.org/packages/f7/4c/5c4dd0462c8d3a6bc4af500a6af240763c2ebd1efdc736fc2c946d44b70a/pickle5-0.0.11.tar.gz (132kB)\n",
            "\u001b[K     |████████████████████████████████| 133kB 4.6MB/s \n",
            "\u001b[?25hBuilding wheels for collected packages: pickle5\n",
            "  Building wheel for pickle5 (setup.py) ... \u001b[?25l\u001b[?25hdone\n",
            "  Created wheel for pickle5: filename=pickle5-0.0.11-cp37-cp37m-linux_x86_64.whl size=219229 sha256=93d5acdf129553957ddfb0e5e112e28775de721e9b4678f193a2db5a2773a795\n",
            "  Stored in directory: /root/.cache/pip/wheels/a6/90/95/f889ca4aa8b0e0c7f21c8470b6f5d6032f0390a3a141a9a3bd\n",
            "Successfully built pickle5\n",
            "Installing collected packages: pickle5\n",
            "Successfully installed pickle5-0.0.11\n"
          ],
          "name": "stdout"
        }
      ]
    },
    {
      "cell_type": "code",
      "metadata": {
        "colab": {
          "base_uri": "https://localhost:8080/"
        },
        "id": "ZWNzdCEXMRtE",
        "outputId": "df713fda-5b68-4c7d-a952-2e7305f2d1ab"
      },
      "source": [
        "import os\n",
        "os.environ['KAGGLE_USERNAME'] = 'kamrul1157024' \n",
        "os.environ['KAGGLE_KEY'] = '821a18913f0da269df38b9f9609ad422'\n",
        "!kaggle competitions download -c learn-ai-bbc"
      ],
      "execution_count": null,
      "outputs": [
        {
          "output_type": "stream",
          "text": [
            "Warning: Looks like you're using an outdated API Version, please consider updating (server 1.5.10 / client 1.5.4)\n",
            "BBC%20News%20Train.csv.zip: Skipping, found more recently modified local copy (use --force to force download)\n",
            "BBC%20News%20Test.csv.zip: Skipping, found more recently modified local copy (use --force to force download)\n",
            "BBC%20News%20Sample%20Solution.csv: Skipping, found more recently modified local copy (use --force to force download)\n"
          ],
          "name": "stdout"
        }
      ]
    },
    {
      "cell_type": "code",
      "metadata": {
        "colab": {
          "base_uri": "https://localhost:8080/"
        },
        "id": "KzH6NHbVOQ-3",
        "outputId": "f8e41555-d5b0-4637-de73-cce5d42cede2"
      },
      "source": [
        "!unzip /content/BBC%20News%20Test.csv.zip\n",
        "!unzip /content/BBC%20News%20Train.csv.zip"
      ],
      "execution_count": null,
      "outputs": [
        {
          "output_type": "stream",
          "text": [
            "Archive:  /content/BBC%20News%20Test.csv.zip\n",
            "replace BBC News Test.csv? [y]es, [n]o, [A]ll, [N]one, [r]ename: n\n",
            "Archive:  /content/BBC%20News%20Train.csv.zip\n",
            "replace BBC News Train.csv? [y]es, [n]o, [A]ll, [N]one, [r]ename: n\n"
          ],
          "name": "stdout"
        }
      ]
    },
    {
      "cell_type": "code",
      "metadata": {
        "colab": {
          "base_uri": "https://localhost:8080/"
        },
        "id": "nOPLbluQM7HH",
        "outputId": "d49a6def-cb88-45e4-d150-d177c407d218"
      },
      "source": [
        "import pandas as pd\n",
        "import seaborn as sns\n",
        "import matplotlib.pyplot as plt\n",
        "from wordcloud import WordCloud\n",
        "from sklearn import preprocessing\n",
        "from sklearn.model_selection import train_test_split\n",
        "from sklearn.feature_extraction.text import TfidfVectorizer\n",
        "import pickle\n",
        "import numpy as np\n",
        "import re\n",
        "import nltk \n",
        "nltk.download('stopwords')\n",
        "nltk.download('punkt')\n",
        "from nltk.corpus import stopwords\n",
        "from nltk.tokenize import word_tokenize"
      ],
      "execution_count": null,
      "outputs": [
        {
          "output_type": "stream",
          "text": [
            "[nltk_data] Downloading package stopwords to /root/nltk_data...\n",
            "[nltk_data]   Package stopwords is already up-to-date!\n",
            "[nltk_data] Downloading package punkt to /root/nltk_data...\n",
            "[nltk_data]   Package punkt is already up-to-date!\n"
          ],
          "name": "stdout"
        }
      ]
    },
    {
      "cell_type": "code",
      "metadata": {
        "id": "kehfMAU0Nf8W"
      },
      "source": [
        "data_english=pd.read_csv('/content/BBC News Train.csv')"
      ],
      "execution_count": null,
      "outputs": []
    },
    {
      "cell_type": "code",
      "metadata": {
        "colab": {
          "base_uri": "https://localhost:8080/",
          "height": 198
        },
        "id": "Yu1a0_7YNoXJ",
        "outputId": "78c6372f-69ed-4d59-9c74-895a4e71ad21"
      },
      "source": [
        "data_english.head()"
      ],
      "execution_count": null,
      "outputs": [
        {
          "output_type": "execute_result",
          "data": {
            "text/html": [
              "<div>\n",
              "<style scoped>\n",
              "    .dataframe tbody tr th:only-of-type {\n",
              "        vertical-align: middle;\n",
              "    }\n",
              "\n",
              "    .dataframe tbody tr th {\n",
              "        vertical-align: top;\n",
              "    }\n",
              "\n",
              "    .dataframe thead th {\n",
              "        text-align: right;\n",
              "    }\n",
              "</style>\n",
              "<table border=\"1\" class=\"dataframe\">\n",
              "  <thead>\n",
              "    <tr style=\"text-align: right;\">\n",
              "      <th></th>\n",
              "      <th>ArticleId</th>\n",
              "      <th>Text</th>\n",
              "      <th>Category</th>\n",
              "    </tr>\n",
              "  </thead>\n",
              "  <tbody>\n",
              "    <tr>\n",
              "      <th>0</th>\n",
              "      <td>1833</td>\n",
              "      <td>worldcom ex-boss launches defence lawyers defe...</td>\n",
              "      <td>business</td>\n",
              "    </tr>\n",
              "    <tr>\n",
              "      <th>1</th>\n",
              "      <td>154</td>\n",
              "      <td>german business confidence slides german busin...</td>\n",
              "      <td>business</td>\n",
              "    </tr>\n",
              "    <tr>\n",
              "      <th>2</th>\n",
              "      <td>1101</td>\n",
              "      <td>bbc poll indicates economic gloom citizens in ...</td>\n",
              "      <td>business</td>\n",
              "    </tr>\n",
              "    <tr>\n",
              "      <th>3</th>\n",
              "      <td>1976</td>\n",
              "      <td>lifestyle  governs mobile choice  faster  bett...</td>\n",
              "      <td>tech</td>\n",
              "    </tr>\n",
              "    <tr>\n",
              "      <th>4</th>\n",
              "      <td>917</td>\n",
              "      <td>enron bosses in $168m payout eighteen former e...</td>\n",
              "      <td>business</td>\n",
              "    </tr>\n",
              "  </tbody>\n",
              "</table>\n",
              "</div>"
            ],
            "text/plain": [
              "   ArticleId                                               Text  Category\n",
              "0       1833  worldcom ex-boss launches defence lawyers defe...  business\n",
              "1        154  german business confidence slides german busin...  business\n",
              "2       1101  bbc poll indicates economic gloom citizens in ...  business\n",
              "3       1976  lifestyle  governs mobile choice  faster  bett...      tech\n",
              "4        917  enron bosses in $168m payout eighteen former e...  business"
            ]
          },
          "metadata": {
            "tags": []
          },
          "execution_count": 156
        }
      ]
    },
    {
      "cell_type": "code",
      "metadata": {
        "id": "G6gDQSdi-PdF"
      },
      "source": [
        "data_bangla=pd.read_csv('/content/drive/MyDrive/AI/bangla_text.csv')[:2250]"
      ],
      "execution_count": null,
      "outputs": []
    },
    {
      "cell_type": "code",
      "metadata": {
        "colab": {
          "base_uri": "https://localhost:8080/",
          "height": 198
        },
        "id": "8EZkx9GS_IcE",
        "outputId": "b1de8bb5-d264-44d4-efba-cda3f8e7ef43"
      },
      "source": [
        "data_bangla.head()"
      ],
      "execution_count": null,
      "outputs": [
        {
          "output_type": "execute_result",
          "data": {
            "text/html": [
              "<div>\n",
              "<style scoped>\n",
              "    .dataframe tbody tr th:only-of-type {\n",
              "        vertical-align: middle;\n",
              "    }\n",
              "\n",
              "    .dataframe tbody tr th {\n",
              "        vertical-align: top;\n",
              "    }\n",
              "\n",
              "    .dataframe thead th {\n",
              "        text-align: right;\n",
              "    }\n",
              "</style>\n",
              "<table border=\"1\" class=\"dataframe\">\n",
              "  <thead>\n",
              "    <tr style=\"text-align: right;\">\n",
              "      <th></th>\n",
              "      <th>Unnamed: 0</th>\n",
              "      <th>content</th>\n",
              "    </tr>\n",
              "  </thead>\n",
              "  <tbody>\n",
              "    <tr>\n",
              "      <th>0</th>\n",
              "      <td>0</td>\n",
              "      <td>গাজীপুরের কালিয়াকৈর উপজেলার তেলিরচালা এলাকায়...</td>\n",
              "    </tr>\n",
              "    <tr>\n",
              "      <th>1</th>\n",
              "      <td>1</td>\n",
              "      <td>এবারের উইম্বলডনটা স্মরণীয় করে রাখার মিশনেই যে...</td>\n",
              "    </tr>\n",
              "    <tr>\n",
              "      <th>2</th>\n",
              "      <td>2</td>\n",
              "      <td>জাতীয় সংসদে বিএনপি চেয়ারপারসন ও বিরোধীদলীয় ...</td>\n",
              "    </tr>\n",
              "    <tr>\n",
              "      <th>3</th>\n",
              "      <td>3</td>\n",
              "      <td>সহজ পাসওয়ার্ডের কারণে অনলাইন অ্যাকাউন্ট সহজেই...</td>\n",
              "    </tr>\n",
              "    <tr>\n",
              "      <th>4</th>\n",
              "      <td>4</td>\n",
              "      <td>কম্পিউটার মাউসের উদ্ভাবক ডগলাস অ্যাঙ্গেলবার্ট ...</td>\n",
              "    </tr>\n",
              "  </tbody>\n",
              "</table>\n",
              "</div>"
            ],
            "text/plain": [
              "   Unnamed: 0                                            content\n",
              "0           0  গাজীপুরের কালিয়াকৈর উপজেলার তেলিরচালা এলাকায়...\n",
              "1           1  এবারের উইম্বলডনটা স্মরণীয় করে রাখার মিশনেই যে...\n",
              "2           2  জাতীয় সংসদে বিএনপি চেয়ারপারসন ও বিরোধীদলীয় ...\n",
              "3           3  সহজ পাসওয়ার্ডের কারণে অনলাইন অ্যাকাউন্ট সহজেই...\n",
              "4           4  কম্পিউটার মাউসের উদ্ভাবক ডগলাস অ্যাঙ্গেলবার্ট ..."
            ]
          },
          "metadata": {
            "tags": []
          },
          "execution_count": 158
        }
      ]
    },
    {
      "cell_type": "code",
      "metadata": {
        "colab": {
          "base_uri": "https://localhost:8080/"
        },
        "id": "QeO4tskLOKYu",
        "outputId": "48488417-ac44-47c8-ce13-e52111c35044"
      },
      "source": [
        "print(f'data_english{data_english.shape} | data_bangla{data_bangla.shape}')"
      ],
      "execution_count": null,
      "outputs": [
        {
          "output_type": "stream",
          "text": [
            "data_english(1490, 3) | data_bangla(2250, 2)\n"
          ],
          "name": "stdout"
        }
      ]
    },
    {
      "cell_type": "code",
      "metadata": {
        "colab": {
          "base_uri": "https://localhost:8080/"
        },
        "id": "xDztzq04wH92",
        "outputId": "4eb71fe9-e9ae-4a35-d87e-45c085c46564"
      },
      "source": [
        "data_bangla=data_bangla.dropna()\n",
        "data_bangla['content'].isnull().any()\n",
        "data_bangla['total_words'] = data_bangla['content'].apply(lambda text:len(word_tokenize(text)))\n",
        "data_english['total_words'] = data_english['Text'].apply(lambda text:len(word_tokenize(text)))\n",
        "total_bangla_words= data_bangla['total_words'].sum()\n",
        "total_english_words= data_english['total_words'].sum()\n",
        "print(f'Bangla Words {total_bangla_words} | English Words {total_english_words}')"
      ],
      "execution_count": null,
      "outputs": [
        {
          "output_type": "stream",
          "text": [
            "Bangla Words 605970 | English Words 605960\n"
          ],
          "name": "stdout"
        }
      ]
    },
    {
      "cell_type": "code",
      "metadata": {
        "id": "w6LwH4Pc_83I"
      },
      "source": [
        "import json\n",
        "phoneticJson=''\n",
        "with open('/content/phonetic.json','r',encoding='utf-8') as f:\n",
        "  phoneticJson=json.load(f)\n"
      ],
      "execution_count": null,
      "outputs": []
    },
    {
      "cell_type": "code",
      "metadata": {
        "id": "i7BPFZ2wA-VF"
      },
      "source": [
        "inversePhoneticMap={}\n",
        "for pattern in phoneticJson['patterns']:\n",
        "  if pattern['replace'] not in inversePhoneticMap.keys():\n",
        "    inversePhoneticMap[pattern['replace']]=pattern['find']\n",
        "\n",
        "  for rules in pattern['rules']:\n",
        "    if rules['replace'] not in inversePhoneticMap.keys():\n",
        "      inversePhoneticMap[rules['replace']]=pattern['find']"
      ],
      "execution_count": null,
      "outputs": []
    },
    {
      "cell_type": "code",
      "metadata": {
        "id": "oX1dwowaoj7s"
      },
      "source": [
        "inversePhoneticMapList={}\n",
        "for pattern in phoneticJson['patterns']:\n",
        "  if pattern['replace'] not in inversePhoneticMapList: \n",
        "    inversePhoneticMapList[pattern['replace']]=[]\n",
        "  inversePhoneticMapList[pattern['replace']].append(pattern['find'])\n",
        "  for rules in pattern['rules']:\n",
        "    if rules['replace'] not in inversePhoneticMapList: \n",
        "      inversePhoneticMapList[rules['replace']]=[]\n",
        "    inversePhoneticMapList[rules['replace']].append(pattern['find'])"
      ],
      "execution_count": null,
      "outputs": []
    },
    {
      "cell_type": "markdown",
      "metadata": {
        "id": "zdLrsyCer4GD"
      },
      "source": [
        "অনেক গুলা রিপ্লেসমেন্ট থাকলে ছোট টা নিচ্ছি কারন মানুষ বেশির ভাগ সময় ছোট টাই টাইপ করে "
      ]
    },
    {
      "cell_type": "code",
      "metadata": {
        "colab": {
          "base_uri": "https://localhost:8080/"
        },
        "id": "hqcUoTWAo8hR",
        "outputId": "2ab851aa-572d-47f6-bb83-a5e0ea2d9abd"
      },
      "source": [
        "for key in inversePhoneticMapList.keys():\n",
        "  if len(inversePhoneticMapList[key])>=2:\n",
        "    inversePhoneticMapList[key].sort(key=lambda key: key.upper())\n",
        "    print(inversePhoneticMapList[key])\n",
        "    inversePhoneticMap[key]=inversePhoneticMapList[key][0]\n"
      ],
      "execution_count": null,
      "outputs": [
        {
          "output_type": "stream",
          "text": [
            "['bhl', 'vl']\n",
            "['bh', 'v']\n",
            "['dbh', 'dv']\n",
            "['ghn', 'Ghn']\n",
            "['gdh', 'Gdh']\n",
            "['gN', 'GN']\n",
            "['gn', 'Gn']\n",
            "['gm', 'Gm']\n",
            "['gl', 'Gl']\n",
            "['gg', 'GG', 'Gg', 'gG', 'jNG']\n",
            "['gh', 'Gh']\n",
            "['g', 'G']\n",
            "['j', 'J']\n",
            "['kkhN', 'kShN', 'kxN']\n",
            "['kkhm', 'kShm', 'kxm']\n",
            "['kkh', 'kSh', 'kx']\n",
            "['ks', 'x']\n",
            "['k', 'q']\n",
            "['lbh', 'lv']\n",
            "['mf', 'mph']\n",
            "['mbh', 'mv']\n",
            "['Ngkkh', 'NgkSh', 'Ngkx']\n",
            "['nch', 'NGch']\n",
            "['Nggh', 'ngh']\n",
            "['Ngkh', 'nkh']\n",
            "['NGjh', 'njh']\n",
            "['nc', 'NGc']\n",
            "['Ngk', 'nk']\n",
            "['Ngg', 'ngo']\n",
            "['NGj', 'nj']\n",
            "['OI', 'OI`']\n",
            "['OU', 'OU`']\n",
            "['O', 'O`']\n",
            "['OI', 'OI']\n",
            "['OU', 'OU']\n",
            "['O', 'O', 'o', 'w']\n",
            "['fl', 'phl']\n",
            "['f', 'ph']\n",
            "['rri', 'rri`']\n",
            "['rri', 'rri']\n",
            "['rry', 'rrZ']\n",
            "['ry', 'rZ']\n",
            "['ry', 'rZ']\n",
            "['Sch', 'shch']\n",
            "['Shf', 'Shph']\n",
            "['sf', 'sph']\n",
            "['Sc', 'Sc', 'shc']\n",
            "['sht', 'St']\n",
            "['shn', 'Sn']\n",
            "['shm', 'Sm']\n",
            "['shl', 'Sl']\n",
            "['S', 'sh']\n",
            "['oo', 'oo`', 'u', 'u`']\n",
            "['oo', 'oo', 'u', 'u']\n",
            "['o', 'o`', '`']\n",
            "['o', 'o']\n",
            "['aZ', 'AZ']\n",
            "['a', 'a`', 'A`']\n",
            "['a', 'a']\n",
            "['i', 'i`']\n",
            "['i', 'i']\n",
            "['ee', 'ee`', 'I', 'I`']\n",
            "['ee', 'ee', 'I', 'I']\n",
            "['U', 'U`']\n",
            "['U', 'U']\n",
            "['e', 'e`']\n",
            "['e', 'e']\n",
            "['y', 'Z']\n",
            "['y', 'Y']\n"
          ],
          "name": "stdout"
        }
      ]
    },
    {
      "cell_type": "code",
      "metadata": {
        "id": "3WF8f2NwITkZ"
      },
      "source": [
        "assert 'a'==inversePhoneticMap['আ']"
      ],
      "execution_count": null,
      "outputs": []
    },
    {
      "cell_type": "code",
      "metadata": {
        "id": "p2HD2CJ6DeeY"
      },
      "source": [
        "def inversePhonetic(text):\n",
        "  curr_cursor=0\n",
        "  phonetic=''\n",
        "  while curr_cursor<len(text):\n",
        "    matched=False\n",
        "    for seg_len in range(5,0,-1):\n",
        "      seg=text[curr_cursor:curr_cursor+seg_len]\n",
        "      if seg in inversePhoneticMap.keys():\n",
        "        phonetic=phonetic+ inversePhoneticMap[seg]\n",
        "        curr_cursor=curr_cursor+seg_len\n",
        "        matched=True\n",
        "        break\n",
        "    if not matched:\n",
        "      phonetic=phonetic+text[curr_cursor] \n",
        "      curr_cursor=curr_cursor+1;\n",
        "  return phonetic"
      ],
      "execution_count": null,
      "outputs": []
    },
    {
      "cell_type": "code",
      "metadata": {
        "id": "6JP-Kc8iELEr",
        "colab": {
          "base_uri": "https://localhost:8080/",
          "height": 35
        },
        "outputId": "7053f2e9-0dd0-4533-c939-031e71a4bb1a"
      },
      "source": [
        "inversePhonetic(\"আমার ভাইয়ের রক্তে রাঙ্গানো ২১ শে ফেব্রুয়ারি আমি কি তোমায় ভূলিতে পারি\")"
      ],
      "execution_count": null,
      "outputs": [
        {
          "output_type": "execute_result",
          "data": {
            "application/vnd.google.colaboratory.intrinsic+json": {
              "type": "string"
            },
            "text/plain": [
              "'amar bhayer rkte ranganO 21 Se febrooz়ari ami ki tOmay bhUlite pari'"
            ]
          },
          "metadata": {
            "tags": []
          },
          "execution_count": 167
        }
      ]
    },
    {
      "cell_type": "code",
      "metadata": {
        "colab": {
          "base_uri": "https://localhost:8080/"
        },
        "id": "l1D3ptEPJjPp",
        "outputId": "904cfe03-896c-4157-fb42-03e7b5202547"
      },
      "source": [
        "!wget https://raw.githubusercontent.com/OpenBangla/riti/master/data/autocorrect.json"
      ],
      "execution_count": null,
      "outputs": [
        {
          "output_type": "stream",
          "text": [
            "--2021-03-15 05:07:43--  https://raw.githubusercontent.com/OpenBangla/riti/master/data/autocorrect.json\n",
            "Resolving raw.githubusercontent.com (raw.githubusercontent.com)... 185.199.108.133, 185.199.109.133, 185.199.110.133, ...\n",
            "Connecting to raw.githubusercontent.com (raw.githubusercontent.com)|185.199.108.133|:443... connected.\n",
            "HTTP request sent, awaiting response... 200 OK\n",
            "Length: 51407 (50K) [text/plain]\n",
            "Saving to: ‘autocorrect.json.1’\n",
            "\n",
            "autocorrect.json.1  100%[===================>]  50.20K  --.-KB/s    in 0.007s  \n",
            "\n",
            "2021-03-15 05:07:43 (6.96 MB/s) - ‘autocorrect.json.1’ saved [51407/51407]\n",
            "\n"
          ],
          "name": "stdout"
        }
      ]
    },
    {
      "cell_type": "code",
      "metadata": {
        "id": "kaT8u4xMJ9el"
      },
      "source": [
        "autoCorrectJson=''\n",
        "with open('/content/autocorrect.json','r',encoding='utf-8') as f:\n",
        "  autoCorrectJson= json.load(f)"
      ],
      "execution_count": null,
      "outputs": []
    },
    {
      "cell_type": "code",
      "metadata": {
        "id": "fvq4faegMBZQ"
      },
      "source": [
        "reverseAutoCorrectMap={}\n",
        "for key in autoCorrectJson.keys():\n",
        "  reverseAutoCorrectMap[autoCorrectJson[key]]=key"
      ],
      "execution_count": null,
      "outputs": []
    },
    {
      "cell_type": "code",
      "metadata": {
        "id": "o7PKIrtUMeOq"
      },
      "source": [
        "assert 'add'==reverseAutoCorrectMap['oZaD']"
      ],
      "execution_count": null,
      "outputs": []
    },
    {
      "cell_type": "code",
      "metadata": {
        "id": "VT_I8peXM2EQ"
      },
      "source": [
        "def reverseAutoCorrect(text):\n",
        "  text=text+' '\n",
        "  word=''\n",
        "  reverseAutoCorrected=''\n",
        "  for i in range(len(text)):\n",
        "    if not str.isalpha(text[i]):\n",
        "      matches=None\n",
        "      len_matches=0\n",
        "      for sub_len in range(len(word)):\n",
        "        if word[:sub_len] in reverseAutoCorrectMap.keys():\n",
        "          matches=word[:sub_len]\n",
        "          len_matches=sub_len\n",
        "        \n",
        "      if not matches == None:\n",
        "        reverseAutoCorrected+= reverseAutoCorrectMap[matches]\n",
        "        \n",
        "        if not word==matches:\n",
        "          reverseAutoCorrected+=word[len_matches:]\n",
        "\n",
        "      else :\n",
        "        reverseAutoCorrected+= word\n",
        "      reverseAutoCorrected+=text[i]\n",
        "      word=''\n",
        "    else :\n",
        "      word+=text[i]\n",
        "  return  reverseAutoCorrected.lower()"
      ],
      "execution_count": null,
      "outputs": []
    },
    {
      "cell_type": "code",
      "metadata": {
        "colab": {
          "base_uri": "https://localhost:8080/",
          "height": 35
        },
        "id": "ZFJ2OCfzPiKc",
        "outputId": "f8de7b7d-3ef0-4eb9-f3a3-5350a799c77e"
      },
      "source": [
        "reverseAutoCorrect('amar bhayer rkte ranganO 21 Se febrooz়ari ami ki tOmaY bhUlite pari')"
      ],
      "execution_count": null,
      "outputs": [
        {
          "output_type": "execute_result",
          "data": {
            "application/vnd.google.colaboratory.intrinsic+json": {
              "type": "string"
            },
            "text/plain": [
              "'amar bhayer rkte rangano 21 se febrooz়ari ami ki tomay bhulite pari '"
            ]
          },
          "metadata": {
            "tags": []
          },
          "execution_count": 173
        }
      ]
    },
    {
      "cell_type": "code",
      "metadata": {
        "id": "oxh3v8zoQ3yw"
      },
      "source": [
        "def reverseBangla(text):\n",
        "  return reverseAutoCorrect(inversePhonetic(text))"
      ],
      "execution_count": null,
      "outputs": []
    },
    {
      "cell_type": "code",
      "metadata": {
        "colab": {
          "base_uri": "https://localhost:8080/",
          "height": 35
        },
        "id": "7vjUdnNRRBoh",
        "outputId": "58c98b1c-78ff-458c-8606-859088bdfd64"
      },
      "source": [
        "reverseBangla(\"আইফোনের অনেক দাম \")"
      ],
      "execution_count": null,
      "outputs": [
        {
          "output_type": "execute_result",
          "data": {
            "application/vnd.google.colaboratory.intrinsic+json": {
              "type": "string"
            },
            "text/plain": [
              "'iphoneer onek dam  '"
            ]
          },
          "metadata": {
            "tags": []
          },
          "execution_count": 175
        }
      ]
    },
    {
      "cell_type": "code",
      "metadata": {
        "colab": {
          "base_uri": "https://localhost:8080/",
          "height": 108
        },
        "id": "hqXDxpspjyGp",
        "outputId": "d2b4ba4c-fedc-4796-912b-93107cbf2f6e"
      },
      "source": [
        "reverseBangla(\"ষ্টিয়ার ভেড়ামারায় জাতীয় জরুরি সেবা নম্বর ৯৯৯-এ ফোন করে পুলিশের সহযোগিতা চাওয়ার পর সন্ত্রাসীদের হামলার শিকার যুবক মামলা করেছেন। সন্ত্রাসীদের কাছে তথ্য জানিয়ে দেওয়ার অভিযোগে ভেড়ামারা থানার কুচিয়ামোড়া পুলিশ ক্যাম্পের উপপরিদর্শক (এসআই) জাহাঙ্গীর হোসেনকে প্রত্যাহার করে পুলিশ লাইনে সংযুক্ত করা হয়েছে।গত শুক্রবার সকালে ভেড়ামারা উপজেলার জুনিয়াদহ ইউনিয়নের ফয়জুল্লাপুর গ্রামে আসাদুল হক (২৮) নামের এক যুবকের ওপর হামলা চালিয়ে জখম করা হয়। আসাদুলের অভিযোগ, শুক্রবার সকাল নয়টার দিকে জুনিয়াদহ এলাকায় তাঁর বাড়ির পাশে পদ্মা নদীতে হঠাৎ তিনটি গুলির শব্দ শুনতে পান। এরপর তিনি দ্রুত জাতীয় জরুরি সেবা ৯৯৯-এ ফোন দিয়ে বিষয়টি জানান। তবে এ ঘটনায় ব্যবস্থা না নিয়ে কুচিয়ামোড়া পুলিশ ক্যাম্পের এসআই অভিযোগ করার তথ্য সন্ত্রাসীদের জানিয়ে দেন। পরে সন্ত্রাসীরা হামলা চালিয়ে আসাদুলকে কুপিয়ে জখম করে।\")"
      ],
      "execution_count": null,
      "outputs": [
        {
          "output_type": "execute_result",
          "data": {
            "application/vnd.google.colaboratory.intrinsic+json": {
              "type": "string"
            },
            "text/plain": [
              "'shtiar bheramaray jateey jroori seba nmbr 999-e fon kre pooliser shzogita cawar pr sntraseeder hamlar sikar zoobk mamla krechen. sntraseeder kache tthy janiye dewar obhizoge bheramara thanar koociamora poolis kyamper ooppridrrsk (esai) jahangir hosenke prtyahar kre poolis linee sngzookt kra hyeche.gt sookrbar skale bheramara oopjelar jooniadh iooniyner fyjoollapoor grame asadool hk (28) namer ek zoobker &pr hamla caliye jkhm kra hy. asadooler obhizog, sookrbar skal nytar dike jooniadh elakay ta^r barir pase pdma ndeete hthat`` tinti goolir sbd soonte pan. erpr tini droot jateey jroori seba 999-e fon diye bishyti janan. tbe e ghtnay bybstha na niye koociamora poolis kyamper esai obhizog krar tthy sntraseeder janiye den. pre sntraseera hamla caliye asadoolke koopiye jkhm kre. '"
            ]
          },
          "metadata": {
            "tags": []
          },
          "execution_count": 176
        }
      ]
    },
    {
      "cell_type": "code",
      "metadata": {
        "colab": {
          "base_uri": "https://localhost:8080/",
          "height": 348
        },
        "id": "73UdJY-7vRSE",
        "outputId": "9c64d271-6bf1-4ea7-bc3e-a7cbe2571548"
      },
      "source": [
        "data_bangla.head(10)"
      ],
      "execution_count": null,
      "outputs": [
        {
          "output_type": "execute_result",
          "data": {
            "text/html": [
              "<div>\n",
              "<style scoped>\n",
              "    .dataframe tbody tr th:only-of-type {\n",
              "        vertical-align: middle;\n",
              "    }\n",
              "\n",
              "    .dataframe tbody tr th {\n",
              "        vertical-align: top;\n",
              "    }\n",
              "\n",
              "    .dataframe thead th {\n",
              "        text-align: right;\n",
              "    }\n",
              "</style>\n",
              "<table border=\"1\" class=\"dataframe\">\n",
              "  <thead>\n",
              "    <tr style=\"text-align: right;\">\n",
              "      <th></th>\n",
              "      <th>Unnamed: 0</th>\n",
              "      <th>content</th>\n",
              "      <th>total_words</th>\n",
              "    </tr>\n",
              "  </thead>\n",
              "  <tbody>\n",
              "    <tr>\n",
              "      <th>0</th>\n",
              "      <td>0</td>\n",
              "      <td>গাজীপুরের কালিয়াকৈর উপজেলার তেলিরচালা এলাকায়...</td>\n",
              "      <td>272</td>\n",
              "    </tr>\n",
              "    <tr>\n",
              "      <th>1</th>\n",
              "      <td>1</td>\n",
              "      <td>এবারের উইম্বলডনটা স্মরণীয় করে রাখার মিশনেই যে...</td>\n",
              "      <td>168</td>\n",
              "    </tr>\n",
              "    <tr>\n",
              "      <th>2</th>\n",
              "      <td>2</td>\n",
              "      <td>জাতীয় সংসদে বিএনপি চেয়ারপারসন ও বিরোধীদলীয় ...</td>\n",
              "      <td>359</td>\n",
              "    </tr>\n",
              "    <tr>\n",
              "      <th>3</th>\n",
              "      <td>3</td>\n",
              "      <td>সহজ পাসওয়ার্ডের কারণে অনলাইন অ্যাকাউন্ট সহজেই...</td>\n",
              "      <td>1025</td>\n",
              "    </tr>\n",
              "    <tr>\n",
              "      <th>4</th>\n",
              "      <td>4</td>\n",
              "      <td>কম্পিউটার মাউসের উদ্ভাবক ডগলাস অ্যাঙ্গেলবার্ট ...</td>\n",
              "      <td>118</td>\n",
              "    </tr>\n",
              "    <tr>\n",
              "      <th>5</th>\n",
              "      <td>5</td>\n",
              "      <td>গুগলের মোবাইল অপারেটিং সিস্টেম অ্যান্ড্রয়েডের...</td>\n",
              "      <td>120</td>\n",
              "    </tr>\n",
              "    <tr>\n",
              "      <th>6</th>\n",
              "      <td>6</td>\n",
              "      <td>যুক্তরাষ্ট্রের বাজারে জিএসপি-সুবিধা বন্ধ হওয়া...</td>\n",
              "      <td>224</td>\n",
              "    </tr>\n",
              "    <tr>\n",
              "      <th>7</th>\n",
              "      <td>7</td>\n",
              "      <td>১১টি বিমা কোম্পানিকে লাইসেন্সের অনুমোদন দিয়েছ...</td>\n",
              "      <td>84</td>\n",
              "    </tr>\n",
              "    <tr>\n",
              "      <th>8</th>\n",
              "      <td>8</td>\n",
              "      <td>ম্যাজিস্ট্রেটের মাধ্যমে সিলেটে সিএনজি স্টেশনের...</td>\n",
              "      <td>87</td>\n",
              "    </tr>\n",
              "    <tr>\n",
              "      <th>9</th>\n",
              "      <td>9</td>\n",
              "      <td>একক-মিশ্র অ্যালবামে অনেক গানই করেছেন বাপ্পা মজ...</td>\n",
              "      <td>380</td>\n",
              "    </tr>\n",
              "  </tbody>\n",
              "</table>\n",
              "</div>"
            ],
            "text/plain": [
              "   Unnamed: 0                                            content  total_words\n",
              "0           0  গাজীপুরের কালিয়াকৈর উপজেলার তেলিরচালা এলাকায়...          272\n",
              "1           1  এবারের উইম্বলডনটা স্মরণীয় করে রাখার মিশনেই যে...          168\n",
              "2           2  জাতীয় সংসদে বিএনপি চেয়ারপারসন ও বিরোধীদলীয় ...          359\n",
              "3           3  সহজ পাসওয়ার্ডের কারণে অনলাইন অ্যাকাউন্ট সহজেই...         1025\n",
              "4           4  কম্পিউটার মাউসের উদ্ভাবক ডগলাস অ্যাঙ্গেলবার্ট ...          118\n",
              "5           5  গুগলের মোবাইল অপারেটিং সিস্টেম অ্যান্ড্রয়েডের...          120\n",
              "6           6  যুক্তরাষ্ট্রের বাজারে জিএসপি-সুবিধা বন্ধ হওয়া...          224\n",
              "7           7  ১১টি বিমা কোম্পানিকে লাইসেন্সের অনুমোদন দিয়েছ...           84\n",
              "8           8  ম্যাজিস্ট্রেটের মাধ্যমে সিলেটে সিএনজি স্টেশনের...           87\n",
              "9           9  একক-মিশ্র অ্যালবামে অনেক গানই করেছেন বাপ্পা মজ...          380"
            ]
          },
          "metadata": {
            "tags": []
          },
          "execution_count": 177
        }
      ]
    },
    {
      "cell_type": "markdown",
      "metadata": {
        "id": "6Til5zlXO777"
      },
      "source": [
        "Features of the data"
      ]
    },
    {
      "cell_type": "code",
      "metadata": {
        "id": "KropRy7Bzfsp"
      },
      "source": [
        "data_bangla['phonetic'] = data_bangla['content'].apply(lambda text : reverseBangla(text))"
      ],
      "execution_count": null,
      "outputs": []
    },
    {
      "cell_type": "code",
      "metadata": {
        "colab": {
          "base_uri": "https://localhost:8080/",
          "height": 348
        },
        "id": "jQf7hv3MzzfP",
        "outputId": "eeb51439-82f9-4d29-ffcf-255778e130f3"
      },
      "source": [
        "data_bangla.head(10)"
      ],
      "execution_count": null,
      "outputs": [
        {
          "output_type": "execute_result",
          "data": {
            "text/html": [
              "<div>\n",
              "<style scoped>\n",
              "    .dataframe tbody tr th:only-of-type {\n",
              "        vertical-align: middle;\n",
              "    }\n",
              "\n",
              "    .dataframe tbody tr th {\n",
              "        vertical-align: top;\n",
              "    }\n",
              "\n",
              "    .dataframe thead th {\n",
              "        text-align: right;\n",
              "    }\n",
              "</style>\n",
              "<table border=\"1\" class=\"dataframe\">\n",
              "  <thead>\n",
              "    <tr style=\"text-align: right;\">\n",
              "      <th></th>\n",
              "      <th>Unnamed: 0</th>\n",
              "      <th>content</th>\n",
              "      <th>total_words</th>\n",
              "      <th>phonetic</th>\n",
              "    </tr>\n",
              "  </thead>\n",
              "  <tbody>\n",
              "    <tr>\n",
              "      <th>0</th>\n",
              "      <td>0</td>\n",
              "      <td>গাজীপুরের কালিয়াকৈর উপজেলার তেলিরচালা এলাকায়...</td>\n",
              "      <td>272</td>\n",
              "      <td>gajeepoorer kaliz়akoir oopjelar telircala ela...</td>\n",
              "    </tr>\n",
              "    <tr>\n",
              "      <th>1</th>\n",
              "      <td>1</td>\n",
              "      <td>এবারের উইম্বলডনটা স্মরণীয় করে রাখার মিশনেই যে...</td>\n",
              "      <td>168</td>\n",
              "      <td>ebarer ooimbldnta smrneez় kre rakhar misnei j...</td>\n",
              "    </tr>\n",
              "    <tr>\n",
              "      <th>2</th>\n",
              "      <td>2</td>\n",
              "      <td>জাতীয় সংসদে বিএনপি চেয়ারপারসন ও বিরোধীদলীয় ...</td>\n",
              "      <td>359</td>\n",
              "      <td>jateez় sngsde bienpi cez়arparsn o birodheedl...</td>\n",
              "    </tr>\n",
              "    <tr>\n",
              "      <th>3</th>\n",
              "      <td>3</td>\n",
              "      <td>সহজ পাসওয়ার্ডের কারণে অনলাইন অ্যাকাউন্ট সহজেই...</td>\n",
              "      <td>1025</td>\n",
              "      <td>shj pasoz়arrder karne onlain azkaoont shjei h...</td>\n",
              "    </tr>\n",
              "    <tr>\n",
              "      <th>4</th>\n",
              "      <td>4</td>\n",
              "      <td>কম্পিউটার মাউসের উদ্ভাবক ডগলাস অ্যাঙ্গেলবার্ট ...</td>\n",
              "      <td>118</td>\n",
              "      <td>kmpiootar maooser oodbhabk dglas azngelbarrt 2...</td>\n",
              "    </tr>\n",
              "    <tr>\n",
              "      <th>5</th>\n",
              "      <td>5</td>\n",
              "      <td>গুগলের মোবাইল অপারেটিং সিস্টেম অ্যান্ড্রয়েডের...</td>\n",
              "      <td>120</td>\n",
              "      <td>googler mobail opareting sistem azndrz়eder bd...</td>\n",
              "    </tr>\n",
              "    <tr>\n",
              "      <th>6</th>\n",
              "      <td>6</td>\n",
              "      <td>যুক্তরাষ্ট্রের বাজারে জিএসপি-সুবিধা বন্ধ হওয়া...</td>\n",
              "      <td>224</td>\n",
              "      <td>zooktrashtrer buzzare jiespi-soobidha bndh hoz...</td>\n",
              "    </tr>\n",
              "    <tr>\n",
              "      <th>7</th>\n",
              "      <td>7</td>\n",
              "      <td>১১টি বিমা কোম্পানিকে লাইসেন্সের অনুমোদন দিয়েছ...</td>\n",
              "      <td>84</td>\n",
              "      <td>11ti bima kompanike laisenser onoomodn diz়ech...</td>\n",
              "    </tr>\n",
              "    <tr>\n",
              "      <th>8</th>\n",
              "      <td>8</td>\n",
              "      <td>ম্যাজিস্ট্রেটের মাধ্যমে সিলেটে সিএনজি স্টেশনের...</td>\n",
              "      <td>87</td>\n",
              "      <td>magistrateer madhyme silete sienji stesner ek ...</td>\n",
              "    </tr>\n",
              "    <tr>\n",
              "      <th>9</th>\n",
              "      <td>9</td>\n",
              "      <td>একক-মিশ্র অ্যালবামে অনেক গানই করেছেন বাপ্পা মজ...</td>\n",
              "      <td>380</td>\n",
              "      <td>ekk-misr azlbame onek gani krechen bappa mjoom...</td>\n",
              "    </tr>\n",
              "  </tbody>\n",
              "</table>\n",
              "</div>"
            ],
            "text/plain": [
              "   Unnamed: 0  ...                                           phonetic\n",
              "0           0  ...  gajeepoorer kaliz়akoir oopjelar telircala ela...\n",
              "1           1  ...  ebarer ooimbldnta smrneez় kre rakhar misnei j...\n",
              "2           2  ...  jateez় sngsde bienpi cez়arparsn o birodheedl...\n",
              "3           3  ...  shj pasoz়arrder karne onlain azkaoont shjei h...\n",
              "4           4  ...  kmpiootar maooser oodbhabk dglas azngelbarrt 2...\n",
              "5           5  ...  googler mobail opareting sistem azndrz়eder bd...\n",
              "6           6  ...  zooktrashtrer buzzare jiespi-soobidha bndh hoz...\n",
              "7           7  ...  11ti bima kompanike laisenser onoomodn diz়ech...\n",
              "8           8  ...  magistrateer madhyme silete sienji stesner ek ...\n",
              "9           9  ...  ekk-misr azlbame onek gani krechen bappa mjoom...\n",
              "\n",
              "[10 rows x 4 columns]"
            ]
          },
          "metadata": {
            "tags": []
          },
          "execution_count": 179
        }
      ]
    },
    {
      "cell_type": "code",
      "metadata": {
        "id": "68WeY4qg0McU"
      },
      "source": [
        "data_bangla['total_phonetic_words']=data_bangla['phonetic'].apply(lambda text: len(word_tokenize(text)))"
      ],
      "execution_count": null,
      "outputs": []
    },
    {
      "cell_type": "code",
      "metadata": {
        "id": "WQEJEhY70h1w"
      },
      "source": [
        "total_banglish_words=data_bangla['total_phonetic_words'].sum()"
      ],
      "execution_count": null,
      "outputs": []
    },
    {
      "cell_type": "code",
      "metadata": {
        "colab": {
          "base_uri": "https://localhost:8080/",
          "height": 455
        },
        "id": "lOsgq1YV0rlT",
        "outputId": "af412d8a-067d-4092-a207-02e54cc09f95"
      },
      "source": [
        "map={'english':total_english_words,'bangla':total_bangla_words,'banglish':total_banglish_words}\n",
        "plt.figure(figsize=(7,7))\n",
        "plt.bar(map.keys(),map.values())\n",
        "plt.ylabel(\"Total Words\",fontsize=18)"
      ],
      "execution_count": null,
      "outputs": [
        {
          "output_type": "execute_result",
          "data": {
            "text/plain": [
              "Text(0, 0.5, 'Total Words')"
            ]
          },
          "metadata": {
            "tags": []
          },
          "execution_count": 182
        },
        {
          "output_type": "display_data",
          "data": {
            "image/png": "[encoded data removed]",
            "text/plain": [
              "<Figure size 504x504 with 1 Axes>"
            ]
          },
          "metadata": {
            "tags": []
          }
        }
      ]
    },
    {
      "cell_type": "code",
      "metadata": {
        "id": "kg3LMqcz2qwU"
      },
      "source": [
        "data=pd.DataFrame(columns=['text','lang'])"
      ],
      "execution_count": null,
      "outputs": []
    },
    {
      "cell_type": "code",
      "metadata": {
        "colab": {
          "base_uri": "https://localhost:8080/",
          "height": 48
        },
        "id": "Kz0x3HYA3LjE",
        "outputId": "f6b31966-103f-4d0e-a7b5-5510f5f51756"
      },
      "source": [
        "data.head()"
      ],
      "execution_count": null,
      "outputs": [
        {
          "output_type": "execute_result",
          "data": {
            "text/html": [
              "<div>\n",
              "<style scoped>\n",
              "    .dataframe tbody tr th:only-of-type {\n",
              "        vertical-align: middle;\n",
              "    }\n",
              "\n",
              "    .dataframe tbody tr th {\n",
              "        vertical-align: top;\n",
              "    }\n",
              "\n",
              "    .dataframe thead th {\n",
              "        text-align: right;\n",
              "    }\n",
              "</style>\n",
              "<table border=\"1\" class=\"dataframe\">\n",
              "  <thead>\n",
              "    <tr style=\"text-align: right;\">\n",
              "      <th></th>\n",
              "      <th>text</th>\n",
              "      <th>lang</th>\n",
              "    </tr>\n",
              "  </thead>\n",
              "  <tbody>\n",
              "  </tbody>\n",
              "</table>\n",
              "</div>"
            ],
            "text/plain": [
              "Empty DataFrame\n",
              "Columns: [text, lang]\n",
              "Index: []"
            ]
          },
          "metadata": {
            "tags": []
          },
          "execution_count": 184
        }
      ]
    },
    {
      "cell_type": "code",
      "metadata": {
        "id": "rOV5rIxY-hWf"
      },
      "source": [
        "texts=[]\n",
        "langs=[]\n",
        "\n",
        "for text in data_bangla.content:\n",
        "  texts.append(text)\n",
        "  langs.append('bangla')\n",
        "\n",
        "for text in data_english.Text:\n",
        "  texts.append(text)\n",
        "  langs.append('english')\n",
        "\n",
        "for text in data_bangla.phonetic:\n",
        "  texts.append(text)\n",
        "  langs.append('banglish')\n",
        "\n",
        "\n",
        "data=pd.DataFrame({'text':texts,'lang':langs}).head(-1)"
      ],
      "execution_count": null,
      "outputs": []
    },
    {
      "cell_type": "code",
      "metadata": {
        "colab": {
          "base_uri": "https://localhost:8080/",
          "height": 348
        },
        "id": "0rleSCISBudQ",
        "outputId": "1bbc158b-14c1-400d-b48e-75564ca41c05"
      },
      "source": [
        "data.head(10)"
      ],
      "execution_count": null,
      "outputs": [
        {
          "output_type": "execute_result",
          "data": {
            "text/html": [
              "<div>\n",
              "<style scoped>\n",
              "    .dataframe tbody tr th:only-of-type {\n",
              "        vertical-align: middle;\n",
              "    }\n",
              "\n",
              "    .dataframe tbody tr th {\n",
              "        vertical-align: top;\n",
              "    }\n",
              "\n",
              "    .dataframe thead th {\n",
              "        text-align: right;\n",
              "    }\n",
              "</style>\n",
              "<table border=\"1\" class=\"dataframe\">\n",
              "  <thead>\n",
              "    <tr style=\"text-align: right;\">\n",
              "      <th></th>\n",
              "      <th>text</th>\n",
              "      <th>lang</th>\n",
              "    </tr>\n",
              "  </thead>\n",
              "  <tbody>\n",
              "    <tr>\n",
              "      <th>0</th>\n",
              "      <td>গাজীপুরের কালিয়াকৈর উপজেলার তেলিরচালা এলাকায়...</td>\n",
              "      <td>bangla</td>\n",
              "    </tr>\n",
              "    <tr>\n",
              "      <th>1</th>\n",
              "      <td>এবারের উইম্বলডনটা স্মরণীয় করে রাখার মিশনেই যে...</td>\n",
              "      <td>bangla</td>\n",
              "    </tr>\n",
              "    <tr>\n",
              "      <th>2</th>\n",
              "      <td>জাতীয় সংসদে বিএনপি চেয়ারপারসন ও বিরোধীদলীয় ...</td>\n",
              "      <td>bangla</td>\n",
              "    </tr>\n",
              "    <tr>\n",
              "      <th>3</th>\n",
              "      <td>সহজ পাসওয়ার্ডের কারণে অনলাইন অ্যাকাউন্ট সহজেই...</td>\n",
              "      <td>bangla</td>\n",
              "    </tr>\n",
              "    <tr>\n",
              "      <th>4</th>\n",
              "      <td>কম্পিউটার মাউসের উদ্ভাবক ডগলাস অ্যাঙ্গেলবার্ট ...</td>\n",
              "      <td>bangla</td>\n",
              "    </tr>\n",
              "    <tr>\n",
              "      <th>5</th>\n",
              "      <td>গুগলের মোবাইল অপারেটিং সিস্টেম অ্যান্ড্রয়েডের...</td>\n",
              "      <td>bangla</td>\n",
              "    </tr>\n",
              "    <tr>\n",
              "      <th>6</th>\n",
              "      <td>যুক্তরাষ্ট্রের বাজারে জিএসপি-সুবিধা বন্ধ হওয়া...</td>\n",
              "      <td>bangla</td>\n",
              "    </tr>\n",
              "    <tr>\n",
              "      <th>7</th>\n",
              "      <td>১১টি বিমা কোম্পানিকে লাইসেন্সের অনুমোদন দিয়েছ...</td>\n",
              "      <td>bangla</td>\n",
              "    </tr>\n",
              "    <tr>\n",
              "      <th>8</th>\n",
              "      <td>ম্যাজিস্ট্রেটের মাধ্যমে সিলেটে সিএনজি স্টেশনের...</td>\n",
              "      <td>bangla</td>\n",
              "    </tr>\n",
              "    <tr>\n",
              "      <th>9</th>\n",
              "      <td>একক-মিশ্র অ্যালবামে অনেক গানই করেছেন বাপ্পা মজ...</td>\n",
              "      <td>bangla</td>\n",
              "    </tr>\n",
              "  </tbody>\n",
              "</table>\n",
              "</div>"
            ],
            "text/plain": [
              "                                                text    lang\n",
              "0  গাজীপুরের কালিয়াকৈর উপজেলার তেলিরচালা এলাকায়...  bangla\n",
              "1  এবারের উইম্বলডনটা স্মরণীয় করে রাখার মিশনেই যে...  bangla\n",
              "2  জাতীয় সংসদে বিএনপি চেয়ারপারসন ও বিরোধীদলীয় ...  bangla\n",
              "3  সহজ পাসওয়ার্ডের কারণে অনলাইন অ্যাকাউন্ট সহজেই...  bangla\n",
              "4  কম্পিউটার মাউসের উদ্ভাবক ডগলাস অ্যাঙ্গেলবার্ট ...  bangla\n",
              "5  গুগলের মোবাইল অপারেটিং সিস্টেম অ্যান্ড্রয়েডের...  bangla\n",
              "6  যুক্তরাষ্ট্রের বাজারে জিএসপি-সুবিধা বন্ধ হওয়া...  bangla\n",
              "7  ১১টি বিমা কোম্পানিকে লাইসেন্সের অনুমোদন দিয়েছ...  bangla\n",
              "8  ম্যাজিস্ট্রেটের মাধ্যমে সিলেটে সিএনজি স্টেশনের...  bangla\n",
              "9  একক-মিশ্র অ্যালবামে অনেক গানই করেছেন বাপ্পা মজ...  bangla"
            ]
          },
          "metadata": {
            "tags": []
          },
          "execution_count": 186
        }
      ]
    },
    {
      "cell_type": "code",
      "metadata": {
        "id": "U3Pz1J4EEqrr"
      },
      "source": [
        "data = data.sample(frac=1).reset_index(drop=True)"
      ],
      "execution_count": null,
      "outputs": []
    },
    {
      "cell_type": "code",
      "metadata": {
        "colab": {
          "base_uri": "https://localhost:8080/",
          "height": 348
        },
        "id": "UT-zj8HlEwkn",
        "outputId": "a12070c3-6e46-4554-df49-da84af18bf09"
      },
      "source": [
        "data.head(10)"
      ],
      "execution_count": null,
      "outputs": [
        {
          "output_type": "execute_result",
          "data": {
            "text/html": [
              "<div>\n",
              "<style scoped>\n",
              "    .dataframe tbody tr th:only-of-type {\n",
              "        vertical-align: middle;\n",
              "    }\n",
              "\n",
              "    .dataframe tbody tr th {\n",
              "        vertical-align: top;\n",
              "    }\n",
              "\n",
              "    .dataframe thead th {\n",
              "        text-align: right;\n",
              "    }\n",
              "</style>\n",
              "<table border=\"1\" class=\"dataframe\">\n",
              "  <thead>\n",
              "    <tr style=\"text-align: right;\">\n",
              "      <th></th>\n",
              "      <th>text</th>\n",
              "      <th>lang</th>\n",
              "    </tr>\n",
              "  </thead>\n",
              "  <tbody>\n",
              "    <tr>\n",
              "      <th>0</th>\n",
              "      <td>bomb threat at bernabeu stadium spectators wer...</td>\n",
              "      <td>english</td>\n",
              "    </tr>\n",
              "    <tr>\n",
              "      <th>1</th>\n",
              "      <td>wilkinson to miss ireland match england will h...</td>\n",
              "      <td>english</td>\n",
              "    </tr>\n",
              "    <tr>\n",
              "      <th>2</th>\n",
              "      <td>kksbajarer ckriz়a oopjelar saharbil iooniz়ne...</td>\n",
              "      <td>banglish</td>\n",
              "    </tr>\n",
              "    <tr>\n",
              "      <th>3</th>\n",
              "      <td>‘অর্ডার দেওয়ার দু-তিন ঘণ্টার মধ্যে বাসাবাড়ি,...</td>\n",
              "      <td>bangla</td>\n",
              "    </tr>\n",
              "    <tr>\n",
              "      <th>4</th>\n",
              "      <td>bienpir sthaz়ee kmitir sdsy modood ahmd blech...</td>\n",
              "      <td>banglish</td>\n",
              "    </tr>\n",
              "    <tr>\n",
              "      <th>5</th>\n",
              "      <td>vw considers opening indian plant volkswagen i...</td>\n",
              "      <td>english</td>\n",
              "    </tr>\n",
              "    <tr>\n",
              "      <th>6</th>\n",
              "      <td>উইন্ডোজনির্ভর কম্পিউটারের বিক্রিতে মন্দা চলতে ...</td>\n",
              "      <td>bangla</td>\n",
              "    </tr>\n",
              "    <tr>\n",
              "      <th>7</th>\n",
              "      <td>কুমিল্লার জেলা রেজিস্ট্রার লুৎফুর রহমানকে আগাম...</td>\n",
              "      <td>bangla</td>\n",
              "    </tr>\n",
              "    <tr>\n",
              "      <th>8</th>\n",
              "      <td>tsunami slows sri lanka s growth sri lanka s p...</td>\n",
              "      <td>english</td>\n",
              "    </tr>\n",
              "    <tr>\n",
              "      <th>9</th>\n",
              "      <td>naraz়ngngjer rupgngje gtkal brrihsptibar bike...</td>\n",
              "      <td>banglish</td>\n",
              "    </tr>\n",
              "  </tbody>\n",
              "</table>\n",
              "</div>"
            ],
            "text/plain": [
              "                                                text      lang\n",
              "0  bomb threat at bernabeu stadium spectators wer...   english\n",
              "1  wilkinson to miss ireland match england will h...   english\n",
              "2  kksbajarer ckriz়a oopjelar saharbil iooniz়ne...  banglish\n",
              "3  ‘অর্ডার দেওয়ার দু-তিন ঘণ্টার মধ্যে বাসাবাড়ি,...    bangla\n",
              "4  bienpir sthaz়ee kmitir sdsy modood ahmd blech...  banglish\n",
              "5  vw considers opening indian plant volkswagen i...   english\n",
              "6  উইন্ডোজনির্ভর কম্পিউটারের বিক্রিতে মন্দা চলতে ...    bangla\n",
              "7  কুমিল্লার জেলা রেজিস্ট্রার লুৎফুর রহমানকে আগাম...    bangla\n",
              "8  tsunami slows sri lanka s growth sri lanka s p...   english\n",
              "9  naraz়ngngjer rupgngje gtkal brrihsptibar bike...  banglish"
            ]
          },
          "metadata": {
            "tags": []
          },
          "execution_count": 188
        }
      ]
    },
    {
      "cell_type": "markdown",
      "metadata": {
        "id": "Iqe7u-GQPLTj"
      },
      "source": [
        "Checking For Null Values"
      ]
    },
    {
      "cell_type": "code",
      "metadata": {
        "colab": {
          "base_uri": "https://localhost:8080/"
        },
        "id": "0goNHrCSPJYn",
        "outputId": "26684789-6fdf-40f0-80fd-12237e7d0364"
      },
      "source": [
        "data.isnull().any()"
      ],
      "execution_count": null,
      "outputs": [
        {
          "output_type": "execute_result",
          "data": {
            "text/plain": [
              "text    False\n",
              "lang    False\n",
              "dtype: bool"
            ]
          },
          "metadata": {
            "tags": []
          },
          "execution_count": 189
        }
      ]
    },
    {
      "cell_type": "code",
      "metadata": {
        "colab": {
          "base_uri": "https://localhost:8080/",
          "height": 476
        },
        "id": "aqrhiAkbPOiG",
        "outputId": "d28824ab-cf22-4e44-e947-8ec7a9326478"
      },
      "source": [
        "plt.figure(figsize=(10,7))\n",
        "sns.histplot(data.lang)"
      ],
      "execution_count": null,
      "outputs": [
        {
          "output_type": "execute_result",
          "data": {
            "text/plain": [
              "<matplotlib.axes._subplots.AxesSubplot at 0x7fbb19cc6850>"
            ]
          },
          "metadata": {
            "tags": []
          },
          "execution_count": 190
        },
        {
          "output_type": "display_data",
          "data": {
            "image/png": "[encoded data removed]",
            "text/plain": [
              "<Figure size 720x504 with 1 Axes>"
            ]
          },
          "metadata": {
            "tags": []
          }
        }
      ]
    },
    {
      "cell_type": "markdown",
      "metadata": {
        "id": "azwtENtMQcx3"
      },
      "source": [
        "WordCloud to visualize ephasis words"
      ]
    },
    {
      "cell_type": "code",
      "metadata": {
        "id": "EhpuaJxpRRYA"
      },
      "source": [
        "def process_text(text):\n",
        "  emoji_pattern = re.compile(\"[\"\n",
        "                          u\"\\U0001F600-\\U0001F64F\"  # emoticons\n",
        "                          u\"\\U0001F300-\\U0001F5FF\"  # symbols & pictographs\n",
        "                          u\"\\U0001F680-\\U0001F6FF\"  # transport & map symbols\n",
        "                          u\"\\U0001F1E0-\\U0001F1FF\"  # flags (iOS)\n",
        "                          u\"\\U00002702-\\U000027B0\"\n",
        "                          u\"\\U000024C2-\\U0001F251\"\n",
        "                          \"]+\", flags=re.UNICODE)\n",
        "  begali_digits=re.compile(u'[\\u09E6-\\u09EF]+',flags=re.UNICODE)\n",
        "  puntuation=re.compile(u'[.,!?\\\\-\\u0964]',flags=re.UNICODE)\n",
        "  text=puntuation.sub(r'',text)\n",
        "  text=begali_digits.sub(r'',text)\n",
        "  text=emoji_pattern.sub(r'', text)\n",
        "  text=text.lower().replace('\\n',' ').replace('\\r','').strip()\n",
        "  text=re.sub(' +',' ',text)\n",
        "  text=re.sub('[0-9]*','',text)\n",
        "  return text"
      ],
      "execution_count": null,
      "outputs": []
    },
    {
      "cell_type": "code",
      "metadata": {
        "colab": {
          "base_uri": "https://localhost:8080/",
          "height": 35
        },
        "id": "b87VeKM9ptBn",
        "outputId": "0a8b3922-3344-472e-ce64-70e13c72fe06"
      },
      "source": [
        "process_text('I         ৩৫৮৩৫ :P             eAt rice   ,, 8113 1410 কাজ ')"
      ],
      "execution_count": null,
      "outputs": [
        {
          "output_type": "execute_result",
          "data": {
            "application/vnd.google.colaboratory.intrinsic+json": {
              "type": "string"
            },
            "text/plain": [
              "'i :p eat rice   কাজ'"
            ]
          },
          "metadata": {
            "tags": []
          },
          "execution_count": 192
        }
      ]
    },
    {
      "cell_type": "code",
      "metadata": {
        "id": "f1QcWH9Fa0-2"
      },
      "source": [
        "data['Text_parsed']=data['text'].apply(process_text)"
      ],
      "execution_count": null,
      "outputs": []
    },
    {
      "cell_type": "code",
      "metadata": {
        "colab": {
          "base_uri": "https://localhost:8080/",
          "height": 198
        },
        "id": "qP-3V3rleNWv",
        "outputId": "1b11d952-4353-4c70-bb85-117794364746"
      },
      "source": [
        "data.head()"
      ],
      "execution_count": null,
      "outputs": [
        {
          "output_type": "execute_result",
          "data": {
            "text/html": [
              "<div>\n",
              "<style scoped>\n",
              "    .dataframe tbody tr th:only-of-type {\n",
              "        vertical-align: middle;\n",
              "    }\n",
              "\n",
              "    .dataframe tbody tr th {\n",
              "        vertical-align: top;\n",
              "    }\n",
              "\n",
              "    .dataframe thead th {\n",
              "        text-align: right;\n",
              "    }\n",
              "</style>\n",
              "<table border=\"1\" class=\"dataframe\">\n",
              "  <thead>\n",
              "    <tr style=\"text-align: right;\">\n",
              "      <th></th>\n",
              "      <th>text</th>\n",
              "      <th>lang</th>\n",
              "      <th>Text_parsed</th>\n",
              "    </tr>\n",
              "  </thead>\n",
              "  <tbody>\n",
              "    <tr>\n",
              "      <th>0</th>\n",
              "      <td>bomb threat at bernabeu stadium spectators wer...</td>\n",
              "      <td>english</td>\n",
              "      <td>bomb threat at bernabeu stadium spectators wer...</td>\n",
              "    </tr>\n",
              "    <tr>\n",
              "      <th>1</th>\n",
              "      <td>wilkinson to miss ireland match england will h...</td>\n",
              "      <td>english</td>\n",
              "      <td>wilkinson to miss ireland match england will h...</td>\n",
              "    </tr>\n",
              "    <tr>\n",
              "      <th>2</th>\n",
              "      <td>kksbajarer ckriz়a oopjelar saharbil iooniz়ne...</td>\n",
              "      <td>banglish</td>\n",
              "      <td>kksbajarer ckriz়a oopjelar saharbil iooniz়ne...</td>\n",
              "    </tr>\n",
              "    <tr>\n",
              "      <th>3</th>\n",
              "      <td>‘অর্ডার দেওয়ার দু-তিন ঘণ্টার মধ্যে বাসাবাড়ি,...</td>\n",
              "      <td>bangla</td>\n",
              "      <td>‘অর্ডার দেওয়ার দুতিন ঘণ্টার মধ্যে বাসাবাড়ি অ...</td>\n",
              "    </tr>\n",
              "    <tr>\n",
              "      <th>4</th>\n",
              "      <td>bienpir sthaz়ee kmitir sdsy modood ahmd blech...</td>\n",
              "      <td>banglish</td>\n",
              "      <td>bienpir sthaz়ee kmitir sdsy modood ahmd blech...</td>\n",
              "    </tr>\n",
              "  </tbody>\n",
              "</table>\n",
              "</div>"
            ],
            "text/plain": [
              "                                                text  ...                                        Text_parsed\n",
              "0  bomb threat at bernabeu stadium spectators wer...  ...  bomb threat at bernabeu stadium spectators wer...\n",
              "1  wilkinson to miss ireland match england will h...  ...  wilkinson to miss ireland match england will h...\n",
              "2  kksbajarer ckriz়a oopjelar saharbil iooniz়ne...  ...  kksbajarer ckriz়a oopjelar saharbil iooniz়ne...\n",
              "3  ‘অর্ডার দেওয়ার দু-তিন ঘণ্টার মধ্যে বাসাবাড়ি,...  ...  ‘অর্ডার দেওয়ার দুতিন ঘণ্টার মধ্যে বাসাবাড়ি অ...\n",
              "4  bienpir sthaz়ee kmitir sdsy modood ahmd blech...  ...  bienpir sthaz়ee kmitir sdsy modood ahmd blech...\n",
              "\n",
              "[5 rows x 3 columns]"
            ]
          },
          "metadata": {
            "tags": []
          },
          "execution_count": 194
        }
      ]
    },
    {
      "cell_type": "code",
      "metadata": {
        "colab": {
          "base_uri": "https://localhost:8080/",
          "height": 198
        },
        "id": "e9EDgUk0gQt0",
        "outputId": "fc94d266-3c7b-4042-e12c-eea10aa37e67"
      },
      "source": [
        "label_encoder=preprocessing.LabelEncoder()\n",
        "data['Category_target']=label_encoder.fit_transform(data['lang'])\n",
        "data.head()"
      ],
      "execution_count": null,
      "outputs": [
        {
          "output_type": "execute_result",
          "data": {
            "text/html": [
              "<div>\n",
              "<style scoped>\n",
              "    .dataframe tbody tr th:only-of-type {\n",
              "        vertical-align: middle;\n",
              "    }\n",
              "\n",
              "    .dataframe tbody tr th {\n",
              "        vertical-align: top;\n",
              "    }\n",
              "\n",
              "    .dataframe thead th {\n",
              "        text-align: right;\n",
              "    }\n",
              "</style>\n",
              "<table border=\"1\" class=\"dataframe\">\n",
              "  <thead>\n",
              "    <tr style=\"text-align: right;\">\n",
              "      <th></th>\n",
              "      <th>text</th>\n",
              "      <th>lang</th>\n",
              "      <th>Text_parsed</th>\n",
              "      <th>Category_target</th>\n",
              "    </tr>\n",
              "  </thead>\n",
              "  <tbody>\n",
              "    <tr>\n",
              "      <th>0</th>\n",
              "      <td>bomb threat at bernabeu stadium spectators wer...</td>\n",
              "      <td>english</td>\n",
              "      <td>bomb threat at bernabeu stadium spectators wer...</td>\n",
              "      <td>2</td>\n",
              "    </tr>\n",
              "    <tr>\n",
              "      <th>1</th>\n",
              "      <td>wilkinson to miss ireland match england will h...</td>\n",
              "      <td>english</td>\n",
              "      <td>wilkinson to miss ireland match england will h...</td>\n",
              "      <td>2</td>\n",
              "    </tr>\n",
              "    <tr>\n",
              "      <th>2</th>\n",
              "      <td>kksbajarer ckriz়a oopjelar saharbil iooniz়ne...</td>\n",
              "      <td>banglish</td>\n",
              "      <td>kksbajarer ckriz়a oopjelar saharbil iooniz়ne...</td>\n",
              "      <td>1</td>\n",
              "    </tr>\n",
              "    <tr>\n",
              "      <th>3</th>\n",
              "      <td>‘অর্ডার দেওয়ার দু-তিন ঘণ্টার মধ্যে বাসাবাড়ি,...</td>\n",
              "      <td>bangla</td>\n",
              "      <td>‘অর্ডার দেওয়ার দুতিন ঘণ্টার মধ্যে বাসাবাড়ি অ...</td>\n",
              "      <td>0</td>\n",
              "    </tr>\n",
              "    <tr>\n",
              "      <th>4</th>\n",
              "      <td>bienpir sthaz়ee kmitir sdsy modood ahmd blech...</td>\n",
              "      <td>banglish</td>\n",
              "      <td>bienpir sthaz়ee kmitir sdsy modood ahmd blech...</td>\n",
              "      <td>1</td>\n",
              "    </tr>\n",
              "  </tbody>\n",
              "</table>\n",
              "</div>"
            ],
            "text/plain": [
              "                                                text  ... Category_target\n",
              "0  bomb threat at bernabeu stadium spectators wer...  ...               2\n",
              "1  wilkinson to miss ireland match england will h...  ...               2\n",
              "2  kksbajarer ckriz়a oopjelar saharbil iooniz়ne...  ...               1\n",
              "3  ‘অর্ডার দেওয়ার দু-তিন ঘণ্টার মধ্যে বাসাবাড়ি,...  ...               0\n",
              "4  bienpir sthaz়ee kmitir sdsy modood ahmd blech...  ...               1\n",
              "\n",
              "[5 rows x 4 columns]"
            ]
          },
          "metadata": {
            "tags": []
          },
          "execution_count": 195
        }
      ]
    },
    {
      "cell_type": "code",
      "metadata": {
        "id": "mT-hxaH8hDh3"
      },
      "source": [
        "data.to_csv('Lang_Recognition_Preprorcessing.csv')"
      ],
      "execution_count": null,
      "outputs": []
    },
    {
      "cell_type": "markdown",
      "metadata": {
        "id": "_AYzcPRXhmgo"
      },
      "source": [
        "Spliting To train and Test Data "
      ]
    },
    {
      "cell_type": "code",
      "metadata": {
        "id": "j9TQST9EhfFg"
      },
      "source": [
        "X_train,X_test,Y_train,Y_test=train_test_split(data['Text_parsed'],\n",
        "                                               data['Category_target'],\n",
        "                                               test_size=.2)"
      ],
      "execution_count": null,
      "outputs": []
    },
    {
      "cell_type": "code",
      "metadata": {
        "colab": {
          "base_uri": "https://localhost:8080/"
        },
        "id": "4b8s1wrTiE8-",
        "outputId": "61f2ff0c-e1f8-4f96-a63b-cf9fd726756b"
      },
      "source": [
        "print(f'Train size: {X_train.shape}')\n",
        "print(f'Test size: {X_test.shape}')"
      ],
      "execution_count": null,
      "outputs": [
        {
          "output_type": "stream",
          "text": [
            "Train size: (4781,)\n",
            "Test size: (1196,)\n"
          ],
          "name": "stdout"
        }
      ]
    },
    {
      "cell_type": "markdown",
      "metadata": {
        "id": "BTtVufhqrfND"
      },
      "source": [
        "https://medium.com/@cmukesh8688/tf-idf-vectorizer-scikit-learn-dbc0244a911a"
      ]
    },
    {
      "cell_type": "code",
      "metadata": {
        "id": "__fPZ5zliOVR"
      },
      "source": [
        "ngram_range=(1,1)\n",
        "min_df=10\n",
        "max_df=1.00\n",
        "max_features=100"
      ],
      "execution_count": null,
      "outputs": []
    },
    {
      "cell_type": "code",
      "metadata": {
        "id": "XZjesWHo6h5O"
      },
      "source": [
        "tfidf=TfidfVectorizer(encoding='utf-8',\n",
        "                      ngram_range=ngram_range,\n",
        "                      stop_words=None,\n",
        "                      lowercase=False,\n",
        "                      max_df=max_df,\n",
        "                      min_df=min_df,\n",
        "                      max_features=max_features,\n",
        "                      norm='l2',\n",
        "                      sublinear_tf=True)"
      ],
      "execution_count": null,
      "outputs": []
    },
    {
      "cell_type": "code",
      "metadata": {
        "colab": {
          "base_uri": "https://localhost:8080/"
        },
        "id": "lPlYBOaI8UuK",
        "outputId": "0bef2feb-689e-43f7-bf25-b9c69fd0ea53"
      },
      "source": [
        "tfidf.fit(X_train)"
      ],
      "execution_count": null,
      "outputs": [
        {
          "output_type": "execute_result",
          "data": {
            "text/plain": [
              "TfidfVectorizer(lowercase=False, max_features=100, min_df=10, sublinear_tf=True)"
            ]
          },
          "metadata": {
            "tags": []
          },
          "execution_count": 201
        }
      ]
    },
    {
      "cell_type": "code",
      "metadata": {
        "id": "ha6ksJWJ9G6a"
      },
      "source": [
        "features_train=tfidf.transform(X_train).toarray()\n",
        "labels_train=Y_train"
      ],
      "execution_count": null,
      "outputs": []
    },
    {
      "cell_type": "code",
      "metadata": {
        "id": "wot1BRVs-Poi"
      },
      "source": [
        "features_test=tfidf.transform(X_test).toarray()\n",
        "labels_test=Y_test"
      ],
      "execution_count": null,
      "outputs": []
    },
    {
      "cell_type": "code",
      "metadata": {
        "colab": {
          "base_uri": "https://localhost:8080/"
        },
        "id": "tcBwq90w-Z3h",
        "outputId": "6aff7973-60d6-4980-a894-21df56822ac7"
      },
      "source": [
        "print(f'Train size: {features_train.shape}')"
      ],
      "execution_count": null,
      "outputs": [
        {
          "output_type": "stream",
          "text": [
            "Train size: (4781, 100)\n"
          ],
          "name": "stdout"
        }
      ]
    },
    {
      "cell_type": "code",
      "metadata": {
        "id": "ayaHn3OixjYg"
      },
      "source": [
        "pickle.dump(tfidf, open(\"/content/drive/MyDrive/AI/tfidf_lang_recoginition.pickle\", \"wb\"))"
      ],
      "execution_count": null,
      "outputs": []
    },
    {
      "cell_type": "code",
      "metadata": {
        "colab": {
          "base_uri": "https://localhost:8080/"
        },
        "id": "SvK04VC24Tav",
        "outputId": "9b9afee3-0ac8-454b-e8fb-3abeed9e39d6"
      },
      "source": [
        "import time\n",
        "start_time = time.time()\n",
        "tf_file = pickle.load(open(\"/content/drive/MyDrive/AI/tfidf_lang_recoginition.pickle\", 'rb'))\n",
        "\n",
        "tfidf_new=TfidfVectorizer(encoding='utf-8',\n",
        "                ngram_range=ngram_range,\n",
        "                stop_words=None,\n",
        "                lowercase=False,\n",
        "                max_df=max_df,\n",
        "                min_df=min_df,\n",
        "                max_features=max_features,\n",
        "                norm='l2',\n",
        "                vocabulary = tf_file.vocabulary_,\n",
        "                sublinear_tf=True)\n",
        "print(\"Execution time %s ms \" % ((time.time() - start_time)*1000))"
      ],
      "execution_count": null,
      "outputs": [
        {
          "output_type": "stream",
          "text": [
            "Execution time 29.349327087402344 ms \n"
          ],
          "name": "stdout"
        }
      ]
    },
    {
      "cell_type": "markdown",
      "metadata": {
        "id": "b8M0i5Ex0m1Z"
      },
      "source": [
        "### Confusion Matrix"
      ]
    },
    {
      "cell_type": "code",
      "metadata": {
        "id": "K8K8hTRicL40"
      },
      "source": [
        "from sklearn.metrics import confusion_matrix"
      ],
      "execution_count": null,
      "outputs": []
    },
    {
      "cell_type": "code",
      "metadata": {
        "id": "_e-1eepedCFK"
      },
      "source": [
        "def plot_confusion_matrix(model,model_predictions):\n",
        "  model_name = type(model).__name__\n",
        "  matrix=confusion_matrix(labels_test,model_predictions)\n",
        "  df_cm = pd.DataFrame(matrix,range(3),range(3) )\n",
        "  sns.set(font_scale=1.4) # for label size\n",
        "  sns.heatmap(df_cm, annot=True, annot_kws={\"size\": 16},fmt='g',cmap='Reds') # font size\n",
        "  plt.gcf().set_size_inches(3,3)\n",
        "  plt.title(model_name)\n",
        "  plt.xlabel('Predicted Label')\n",
        "  plt.ylabel('True Label')\n",
        "  # TP=matrix[0][0]\n",
        "  # TN=matrix[1][1]\n",
        "  # FP=matrix[1][0]\n",
        "  # FN=matrix[0][1]\n",
        "  # TN, FP, FN, TP =matrix.ravel()\n",
        "  # TPR=TP/(TP+FN)\n",
        "  # TNR=TN/(FP+TN)\n",
        "  # FPR=FP/(FP+TN)\n",
        "  # FNR=FN/(TP+FN)\n",
        "  # format=lambda x:float(\"{:.2f}\".format(x))\n",
        "  # plt.text(3.5,.5, (\"TPR= TP/Total_Postive= \"+str(format(TPR))+\"       \" + \"TFR=TN/Total_Negative= \"+str(format(TNR))), ha='left', rotation=0, wrap=True)\n",
        "  # plt.text(3.5,1, (\"FPR=FP/Total_Positive= \"+str(format(FPR))+\"       \" + \"FNR=FN/Total_Negative= \"+str(format(FNR))), ha='left', rotation=0, wrap=True)\n",
        "  plt.show()\n"
      ],
      "execution_count": null,
      "outputs": []
    },
    {
      "cell_type": "code",
      "metadata": {
        "id": "BgrPtSXoITfY"
      },
      "source": [
        "def executionTime(func):\n",
        "  import time\n",
        "  def wrapper(*args,**kwargs):\n",
        "      start_time = time.time()\n",
        "      result=func(*args,**kwargs)\n",
        "      print(\"Execution time %s ms \" % ((time.time() - start_time)*1000))\n",
        "      return result\n",
        "  return wrapper"
      ],
      "execution_count": null,
      "outputs": []
    },
    {
      "cell_type": "code",
      "metadata": {
        "id": "0fgig8ZjIc9y"
      },
      "source": [
        "@executionTime\n",
        "def executionTimePerformance(model):\n",
        "  model_name = type(model).__name__\n",
        "  print(model_name)\n",
        "  model.predict(features_test)"
      ],
      "execution_count": null,
      "outputs": []
    },
    {
      "cell_type": "markdown",
      "metadata": {
        "id": "2ZADA5CX-ztg"
      },
      "source": [
        "Random Forest "
      ]
    },
    {
      "cell_type": "code",
      "metadata": {
        "id": "zjMclCW-r5ui"
      },
      "source": [
        "from sklearn.metrics import accuracy_score,classification_report"
      ],
      "execution_count": null,
      "outputs": []
    },
    {
      "cell_type": "code",
      "metadata": {
        "colab": {
          "base_uri": "https://localhost:8080/"
        },
        "id": "0j56rSef-h-t",
        "outputId": "60ed543d-f675-4377-cb1f-46cc206ec98f"
      },
      "source": [
        "from sklearn.ensemble import RandomForestClassifier\n",
        "model_random_forest=RandomForestClassifier()\n",
        "model_random_forest.fit(features_train,labels_train)\n",
        "model_random_forest_predictions=model_random_forest.predict(features_test)\n",
        "print('Accuracy',accuracy_score(labels_test,model_random_forest_predictions))\n",
        "print(classification_report(labels_test,model_random_forest_predictions))"
      ],
      "execution_count": null,
      "outputs": [
        {
          "output_type": "stream",
          "text": [
            "Accuracy 1.0\n",
            "              precision    recall  f1-score   support\n",
            "\n",
            "           0       1.00      1.00      1.00       453\n",
            "           1       1.00      1.00      1.00       435\n",
            "           2       1.00      1.00      1.00       308\n",
            "\n",
            "    accuracy                           1.00      1196\n",
            "   macro avg       1.00      1.00      1.00      1196\n",
            "weighted avg       1.00      1.00      1.00      1196\n",
            "\n"
          ],
          "name": "stdout"
        }
      ]
    },
    {
      "cell_type": "code",
      "metadata": {
        "colab": {
          "base_uri": "https://localhost:8080/"
        },
        "id": "tux2fgmV-9af",
        "outputId": "2326c68d-9314-4ac3-9f79-fe52dfbf1f26"
      },
      "source": [
        "from sklearn.linear_model import LogisticRegression\n",
        "model_logistic_regression=LogisticRegression()\n",
        "model_logistic_regression.fit(features_train,labels_train)\n",
        "model_logistic_regression_predictions=model_logistic_regression.predict(features_test)\n",
        "print('Accuracy',accuracy_score(labels_test,model_logistic_regression_predictions))\n",
        "print(classification_report(labels_test,model_logistic_regression_predictions))"
      ],
      "execution_count": null,
      "outputs": [
        {
          "output_type": "stream",
          "text": [
            "Accuracy 0.9974916387959866\n",
            "              precision    recall  f1-score   support\n",
            "\n",
            "           0       1.00      0.99      1.00       453\n",
            "           1       1.00      1.00      1.00       435\n",
            "           2       0.99      1.00      1.00       308\n",
            "\n",
            "    accuracy                           1.00      1196\n",
            "   macro avg       1.00      1.00      1.00      1196\n",
            "weighted avg       1.00      1.00      1.00      1196\n",
            "\n"
          ],
          "name": "stdout"
        }
      ]
    },
    {
      "cell_type": "code",
      "metadata": {
        "colab": {
          "base_uri": "https://localhost:8080/"
        },
        "id": "JUxWIEYzAmEH",
        "outputId": "ab910717-7d75-470a-cd07-80892ba0dd15"
      },
      "source": [
        "from sklearn.neighbors import KNeighborsClassifier\n",
        "model_knn=KNeighborsClassifier()\n",
        "model_knn.fit(features_train,labels_train)\n",
        "model_knn_predictions=model_knn.predict(features_test)\n",
        "print('Accuracy',accuracy_score(labels_test,model_knn_predictions))\n",
        "print(classification_report(labels_test,model_knn_predictions))"
      ],
      "execution_count": null,
      "outputs": [
        {
          "output_type": "stream",
          "text": [
            "Accuracy 0.9966555183946488\n",
            "              precision    recall  f1-score   support\n",
            "\n",
            "           0       1.00      0.99      1.00       453\n",
            "           1       0.99      1.00      1.00       435\n",
            "           2       1.00      1.00      1.00       308\n",
            "\n",
            "    accuracy                           1.00      1196\n",
            "   macro avg       1.00      1.00      1.00      1196\n",
            "weighted avg       1.00      1.00      1.00      1196\n",
            "\n"
          ],
          "name": "stdout"
        }
      ]
    },
    {
      "cell_type": "code",
      "metadata": {
        "colab": {
          "base_uri": "https://localhost:8080/"
        },
        "id": "i0Xxatx9A_0m",
        "outputId": "53ee7a50-8611-4013-e63c-6436d1b05b10"
      },
      "source": [
        "from sklearn.tree import DecisionTreeClassifier\n",
        "model_decision_tree=DecisionTreeClassifier()\n",
        "model_decision_tree.fit(features_train,labels_train)\n",
        "model_decision_tree_predictions=model_decision_tree.predict(features_test)\n",
        "print('Accuracy',accuracy_score(labels_test,model_decision_tree_predictions))\n",
        "print(classification_report(labels_test,model_decision_tree_predictions))"
      ],
      "execution_count": null,
      "outputs": [
        {
          "output_type": "stream",
          "text": [
            "Accuracy 0.995819397993311\n",
            "              precision    recall  f1-score   support\n",
            "\n",
            "           0       1.00      0.99      1.00       453\n",
            "           1       0.99      1.00      0.99       435\n",
            "           2       1.00      0.99      1.00       308\n",
            "\n",
            "    accuracy                           1.00      1196\n",
            "   macro avg       1.00      1.00      1.00      1196\n",
            "weighted avg       1.00      1.00      1.00      1196\n",
            "\n"
          ],
          "name": "stdout"
        }
      ]
    },
    {
      "cell_type": "code",
      "metadata": {
        "colab": {
          "base_uri": "https://localhost:8080/"
        },
        "id": "Zuw0vjnSBJ_z",
        "outputId": "cb8cfe48-8520-4186-cb8d-8e484bd6749f"
      },
      "source": [
        "from sklearn.naive_bayes import GaussianNB\n",
        "model_gaussian_nb=GaussianNB()\n",
        "model_gaussian_nb.fit(features_train,labels_train)\n",
        "model_gaussian_nb_predictions=model_gaussian_nb.predict(features_test)\n",
        "print('Accuracy',accuracy_score(labels_test,model_gaussian_nb_predictions))\n",
        "print(classification_report(labels_test,model_gaussian_nb_predictions))"
      ],
      "execution_count": null,
      "outputs": [
        {
          "output_type": "stream",
          "text": [
            "Accuracy 0.9974916387959866\n",
            "              precision    recall  f1-score   support\n",
            "\n",
            "           0       1.00      1.00      1.00       453\n",
            "           1       1.00      0.99      1.00       435\n",
            "           2       0.99      1.00      1.00       308\n",
            "\n",
            "    accuracy                           1.00      1196\n",
            "   macro avg       1.00      1.00      1.00      1196\n",
            "weighted avg       1.00      1.00      1.00      1196\n",
            "\n"
          ],
          "name": "stdout"
        }
      ]
    },
    {
      "cell_type": "code",
      "metadata": {
        "id": "5XPfYiPm1Fkz"
      },
      "source": [
        "pickle.dump(model_gaussian_nb, open('gaussian_naive_bias.pickle', 'wb'))"
      ],
      "execution_count": null,
      "outputs": []
    },
    {
      "cell_type": "code",
      "metadata": {
        "colab": {
          "base_uri": "https://localhost:8080/"
        },
        "id": "QsMKGDGe1H_x",
        "outputId": "f2ddeb44-ba2f-4a86-f514-fdffcda7e89e"
      },
      "source": [
        "from sklearn.naive_bayes import MultinomialNB\n",
        "model_multinomial_nb=MultinomialNB()\n",
        "model_multinomial_nb.fit(features_train,labels_train)\n",
        "model_multinomial_nb_predictions=model_multinomial_nb.predict(features_test)\n",
        "print('Accuracy',accuracy_score(labels_test,model_multinomial_nb_predictions))\n",
        "print(classification_report(labels_test,model_multinomial_nb_predictions))"
      ],
      "execution_count": null,
      "outputs": [
        {
          "output_type": "stream",
          "text": [
            "Accuracy 0.9966555183946488\n",
            "              precision    recall  f1-score   support\n",
            "\n",
            "           0       1.00      0.99      1.00       453\n",
            "           1       1.00      1.00      1.00       435\n",
            "           2       0.99      1.00      0.99       308\n",
            "\n",
            "    accuracy                           1.00      1196\n",
            "   macro avg       1.00      1.00      1.00      1196\n",
            "weighted avg       1.00      1.00      1.00      1196\n",
            "\n"
          ],
          "name": "stdout"
        }
      ]
    },
    {
      "cell_type": "code",
      "metadata": {
        "id": "HZ5LcvxgUiZz"
      },
      "source": [
        "pickle.dump(model_multinomial_nb, open('multinomial_naive_bias.pickle', 'wb'))"
      ],
      "execution_count": null,
      "outputs": []
    },
    {
      "cell_type": "code",
      "metadata": {
        "colab": {
          "base_uri": "https://localhost:8080/"
        },
        "id": "pVvEy3yc1MoP",
        "outputId": "46141c3a-e091-4e8f-f36d-c87689f29026"
      },
      "source": [
        "from sklearn.svm import SVC\n",
        "model_svm=SVC(kernel='sigmoid',probability=True)\n",
        "model_svm.fit(features_train,labels_train)\n",
        "model_svm_predictions=model_svm.predict(features_test)\n",
        "print('Accuracy',accuracy_score(labels_test,model_svm_predictions))\n",
        "print(classification_report(labels_test,model_svm_predictions))"
      ],
      "execution_count": null,
      "outputs": [
        {
          "output_type": "stream",
          "text": [
            "Accuracy 0.9974916387959866\n",
            "              precision    recall  f1-score   support\n",
            "\n",
            "           0       1.00      0.99      1.00       453\n",
            "           1       1.00      1.00      1.00       435\n",
            "           2       0.99      1.00      1.00       308\n",
            "\n",
            "    accuracy                           1.00      1196\n",
            "   macro avg       1.00      1.00      1.00      1196\n",
            "weighted avg       1.00      1.00      1.00      1196\n",
            "\n"
          ],
          "name": "stdout"
        }
      ]
    },
    {
      "cell_type": "code",
      "metadata": {
        "id": "rTtmgtWY3hfk"
      },
      "source": [
        "pickle.dump(model_svm, open('svm_sigmoid.pickle', 'wb'))"
      ],
      "execution_count": null,
      "outputs": []
    },
    {
      "cell_type": "code",
      "metadata": {
        "colab": {
          "base_uri": "https://localhost:8080/",
          "height": 1000
        },
        "id": "__xGB7p41Ozw",
        "outputId": "63a167f3-d88a-4be5-c8c3-972d8e3d7fc4"
      },
      "source": [
        "plot_confusion_matrix(model_random_forest,model_random_forest_predictions)\n",
        "plot_confusion_matrix(model_logistic_regression,model_logistic_regression_predictions)\n",
        "plot_confusion_matrix(model_knn,model_knn_predictions)\n",
        "plot_confusion_matrix(model_decision_tree,model_decision_tree_predictions)\n",
        "plot_confusion_matrix(model_gaussian_nb,model_gaussian_nb_predictions)\n",
        "plot_confusion_matrix(model_multinomial_nb,model_multinomial_nb_predictions)\n",
        "plot_confusion_matrix(model_svm,model_svm_predictions)"
      ],
      "execution_count": null,
      "outputs": [
        {
          "output_type": "display_data",
          "data": {
            "image/png": "[encoded data removed]",
            "text/plain": [
              "<Figure size 216x216 with 2 Axes>"
            ]
          },
          "metadata": {
            "tags": []
          }
        },
        {
          "output_type": "display_data",
          "data": {
            "image/png": "[encoded data removed]",
            "text/plain": [
              "<Figure size 216x216 with 2 Axes>"
            ]
          },
          "metadata": {
            "tags": []
          }
        },
        {
          "output_type": "display_data",
          "data": {
            "image/png": "[encoded data removed]",
            "text/plain": [
              "<Figure size 216x216 with 2 Axes>"
            ]
          },
          "metadata": {
            "tags": []
          }
        },
        {
          "output_type": "display_data",
          "data": {
            "image/png": "[encoded data removed]",
            "text/plain": [
              "<Figure size 216x216 with 2 Axes>"
            ]
          },
          "metadata": {
            "tags": []
          }
        },
        {
          "output_type": "display_data",
          "data": {
            "image/png": "[encoded data removed]",
            "text/plain": [
              "<Figure size 216x216 with 2 Axes>"
            ]
          },
          "metadata": {
            "tags": []
          }
        },
        {
          "output_type": "display_data",
          "data": {
            "image/png": "[encoded data removed]",
            "text/plain": [
              "<Figure size 216x216 with 2 Axes>"
            ]
          },
          "metadata": {
            "tags": []
          }
        },
        {
          "output_type": "display_data",
          "data": {
            "image/png": "[encoded data removed]",
            "text/plain": [
              "<Figure size 216x216 with 2 Axes>"
            ]
          },
          "metadata": {
            "tags": []
          }
        }
      ]
    },
    {
      "cell_type": "code",
      "metadata": {
        "colab": {
          "base_uri": "https://localhost:8080/"
        },
        "id": "Vy2R_J-AI6Lu",
        "outputId": "c8c347c0-5308-485c-98f5-4d17aba99190"
      },
      "source": [
        "executionTimePerformance(model_random_forest)\n",
        "executionTimePerformance(model_logistic_regression)\n",
        "executionTimePerformance(model_knn)\n",
        "executionTimePerformance(model_decision_tree)\n",
        "executionTimePerformance(model_gaussian_nb)\n",
        "executionTimePerformance(model_multinomial_nb)\n",
        "executionTimePerformance(model_svm)"
      ],
      "execution_count": null,
      "outputs": [
        {
          "output_type": "stream",
          "text": [
            "RandomForestClassifier\n",
            "Execution time 28.523683547973633 ms \n",
            "LogisticRegression\n",
            "Execution time 0.7739067077636719 ms \n",
            "KNeighborsClassifier\n",
            "Execution time 182.83390998840332 ms \n",
            "DecisionTreeClassifier\n",
            "Execution time 0.7464885711669922 ms \n",
            "GaussianNB\n",
            "Execution time 2.4650096893310547 ms \n",
            "MultinomialNB\n",
            "Execution time 0.6303787231445312 ms \n",
            "SVC\n",
            "Execution time 13.574600219726562 ms \n"
          ],
          "name": "stdout"
        }
      ]
    },
    {
      "cell_type": "code",
      "metadata": {
        "id": "QFy-mN3P38my"
      },
      "source": [
        "import time"
      ],
      "execution_count": null,
      "outputs": []
    },
    {
      "cell_type": "code",
      "metadata": {
        "colab": {
          "base_uri": "https://localhost:8080/"
        },
        "id": "Iivp18xk39h8",
        "outputId": "71525dcc-751a-43cd-baf5-1280acb00d57"
      },
      "source": [
        "start_time = time.time()\n",
        "text = \"\\u09AF\\u09BE\\u09A8\\u09AC\\u09BE\\u09B9\\u09A8 \\u099A\\u09B2\\u09BE\\u099A\\u09B2\\u09C7\\u09B0 \\u099C\\u09A8\\u09CD\\u09AF \\u0986\\u0997\\u09BE\\u09AE\\u09C0 \\u09AC\\u099B\\u09B0\\u09C7\\u09B0 \\u09AE\\u09BE\\u09B0\\u09CD\\u099A\\u09C7 \\u09AA\\u09A6\\u09CD\\u09AE\\u09BE \\u09B8\\u09C7\\u09A4\\u09C1 \\u099A\\u09BE\\u09B2\\u09C1 \\u0995\\u09B0\\u09BE\\u09B0 \\u09AA\\u09B0\\u09BF\\u0995\\u09B2\\u09CD\\u09AA\\u09A8\\u09BE \\u09A8\\u09BF\\u09DF\\u09C7 \\u098F\\u0997\\u09CB\\u099A\\u09CD\\u099B\\u09C7 \\u09B8\\u09B0\\u0995\\u09BE\\u09B0\\u0964 \\u09B8\\u09C7\\u09A4\\u09C1 \\u099A\\u09BE\\u09B2\\u09C1\\u09B0 \\u09B8\\u09AE\\u09CD\\u09AD\\u09BE\\u09AC\\u09CD\\u09AF \\u09A6\\u09C1\\u099F\\u09BF \\u09A4\\u09BE\\u09B0\\u09BF\\u0996 \\u09AC\\u09BF\\u09AC\\u09C7\\u099A\\u09A8\\u09BE\\u09DF \\u0986\\u099B\\u09C7\\u0964 \\u098F\\u0995\\u099F\\u09BF \\u09B9\\u09B2\\u09CB \\u09E8\\u09EC \\u09AE\\u09BE\\u09B0\\u09CD\\u099A \\u09B8\\u09CD\\u09AC\\u09BE\\u09A7\\u09C0\\u09A8\\u09A4\\u09BE \\u09A6\\u09BF\\u09AC\\u09B8\\u0964 \\u0986\\u09B0\\u09C7\\u0995\\u099F\\u09BF \\u09E7\\u09ED \\u09AE\\u09BE\\u09B0\\u09CD\\u099A \\u09AC\\u0999\\u09CD\\u0997\\u09AC\\u09A8\\u09CD\\u09A7\\u09C1 \\u09B6\\u09C7\\u0996 \\u09AE\\u09C1\\u099C\\u09BF\\u09AC\\u09C1\\u09B0 \\u09B0\\u09B9\\u09AE\\u09BE\\u09A8\\u09C7\\u09B0 \\u099C\\u09A8\\u09CD\\u09AE\\u09AC\\u09BE\\u09B0\\u09CD\\u09B7\\u09BF\\u0995\\u09C0\\u0964 \\u09B8\\u09C7\\u09A4\\u09C1 \\u09AC\\u09BF\\u09AD\\u09BE\\u0997 \\u09B8\\u09C2\\u09A4\\u09CD\\u09B0\\u09C7 \\u098F \\u09A4\\u09A5\\u09CD\\u09AF \\u099C\\u09BE\\u09A8\\u09BE \\u0997\\u09C7\\u099B\\u09C7\\u0964  \\u0997\\u09A4 \\u09AC\\u099B\\u09B0\\u09C7\\u09B0 \\u09E7\\u09E6 \\u09A1\\u09BF\\u09B8\\u09C7\\u09AE\\u09CD\\u09AC\\u09B0 \\u09B8\\u09B0\\u09CD\\u09AC\\u09B6\\u09C7\\u09B7 \\u09B8\\u09CD\\u09AA\\u09CD\\u09AF\\u09BE\\u09A8 \\u09AC\\u09B8\\u09BE\\u09A8\\u09CB\\u09B0 \\u09AE\\u09A7\\u09CD\\u09AF \\u09A6\\u09BF\\u09DF\\u09C7 \\u09EC \\u09A6\\u09B6\\u09AE\\u09BF\\u0995 \\u09E7\\u09EB \\u0995\\u09BF\\u09B2\\u09CB\\u09AE\\u09BF\\u099F\\u09BE\\u09B0 \\u09A6\\u09C0\\u09B0\\u09CD\\u0998 \\u09AA\\u09A6\\u09CD\\u09AE\\u09BE \\u09B8\\u09C7\\u09A4\\u09C1\\u09B0 \\u09AA\\u09C1\\u09B0\\u09CB\\u099F\\u09BE \\u09A6\\u09C3\\u09B6\\u09CD\\u09AF\\u09AE\\u09BE\\u09A8 \\u09B9\\u09DF\\u0964 \\u098F\\u09B0 \\u09AB\\u09B2\\u09C7 \\u09AE\\u09C1\\u09A8\\u09CD\\u09B8\\u09BF\\u0997\\u099E\\u09CD\\u099C\\u09C7\\u09B0 \\u09AE\\u09BE\\u0993\\u09DF\\u09BE \\u0993 \\u09B6\\u09B0\\u09C0\\u09DF\\u09A4\\u09AA\\u09C1\\u09B0\\u09C7\\u09B0 \\u099C\\u09BE\\u099C\\u09BF\\u09B0\\u09BE\\u0995\\u09C7 \\u09AF\\u09C1\\u0995\\u09CD\\u09A4 \\u0995\\u09B0\\u09C7\\u099B\\u09C7 \\u09AA\\u09A6\\u09CD\\u09AE\\u09BE \\u09B8\\u09C7\\u09A4\\u09C1\\u0964 \\u09B8\\u09C7\\u09A4\\u09C1 \\u0995\\u09B0\\u09CD\\u09A4\\u09C3\\u09AA\\u0995\\u09CD\\u09B7 \\u09AC\\u09B2\\u09C7\\u099B\\u09C7, \\u0997\\u09A4 \\u09AB\\u09C7\\u09AC\\u09CD\\u09B0\\u09C1\\u09DF\\u09BE\\u09B0\\u09BF \\u09AA\\u09B0\\u09CD\\u09AF\\u09A8\\u09CD\\u09A4 \\u09B8\\u09AC \\u09AE\\u09BF\\u09B2\\u09BF\\u09DF\\u09C7 \\u09AA\\u09CD\\u09B0\\u0995\\u09B2\\u09CD\\u09AA\\u09C7\\u09B0 \\u0995\\u09BE\\u099C\\u09C7\\u09B0 \\u0985\\u0997\\u09CD\\u09B0\\u0997\\u09A4\\u09BF \\u09EE\\u09EA \\u09A6\\u09B6\\u09AE\\u09BF\\u0995 \\u09EB\\u09E6 \\u09B6\\u09A4\\u09BE\\u0982\\u09B6\\u0964 \\u098F\\u09B0 \\u09AE\\u09A7\\u09CD\\u09AF\\u09C7 \\u09AE\\u09C2\\u09B2 \\u09B8\\u09C7\\u09A4\\u09C1\\u09B0 \\u0995\\u09BE\\u099C \\u098F\\u0997\\u09BF\\u09DF\\u09C7\\u099B\\u09C7 \\u09EF\\u09E8 \\u09A6\\u09B6\\u09AE\\u09BF\\u0995 \\u09EB\\u09E6 \\u09B6\\u09A4\\u09BE\\u0982\\u09B6\\u0964  \\u09B8\\u09C7\\u09A4\\u09C1 \\u099A\\u09BE\\u09B2\\u09C1\\u09B0 \\u09AC\\u09BF\\u09B7\\u09DF\\u09C7 \\u09B8\\u09C7\\u09A4\\u09C1 \\u09AC\\u09BF\\u09AD\\u09BE\\u0997\\u09C7\\u09B0 \\u09B8\\u099A\\u09BF\\u09AC \\u09AE\\u09CB. \\u09AC\\u09C7\\u09B2\\u09BE\\u09DF\\u09C7\\u09A4 \\u09B9\\u09CB\\u09B8\\u09C7\\u09A8 \\u0997\\u09A4 \\u09AC\\u09C1\\u09A7\\u09AC\\u09BE\\u09B0 \\u09AA\\u09CD\\u09B0\\u09A5\\u09AE \\u0986\\u09B2\\u09CB\\u0995\\u09C7 \\u09AC\\u09B2\\u09C7\\u09A8, \\u2018\\u0986\\u0997\\u09BE\\u09AE\\u09C0 \\u09AC\\u099B\\u09B0\\u09C7\\u09B0 \\u099C\\u09C1\\u09A8\\u09C7\\u09B0 \\u09AE\\u09A7\\u09CD\\u09AF\\u09C7 \\u0995\\u09BE\\u099C \\u09B6\\u09C7\\u09B7 \\u09B9\\u09AC\\u09C7\\u2014\\u098F\\u099F\\u09BE\\u0987 \\u09B8\\u09BF\\u09A6\\u09CD\\u09A7\\u09BE\\u09A8\\u09CD\\u09A4\\u0964 \\u09B8\\u09C7 \\u0995\\u09CD\\u09B7\\u09C7\\u09A4\\u09CD\\u09B0\\u09C7 \\u09B8\\u09B0\\u0995\\u09BE\\u09B0\\u09C7\\u09B0 \\u09AA\\u0995\\u09CD\\u09B7 \\u09A5\\u09C7\\u0995\\u09C7 \\u09A4\\u09BE\\u09B0\\u09BF\\u0996 \\u09A0\\u09BF\\u0995 \\u0995\\u09B0\\u09BE \\u09B9\\u09AC\\u09C7\\u0964 \\u09A4\\u09AC\\u09C7 \\u09AE\\u09BE\\u09B0\\u09CD\\u099A\\u09C7 \\u099A\\u09BE\\u09B2\\u09C1\\u09B0 \\u09AA\\u09B0\\u09BF\\u0995\\u09B2\\u09CD\\u09AA\\u09A8\\u09BE \\u0986\\u099B\\u09C7\\u0964\\u2019  \\u098F\\u09B0 \\u0986\\u0997\\u09C7 \\u09AE\\u09C2\\u09B2 \\u09B8\\u09C7\\u09A4\\u09C1\\u09B0 \\u09A0\\u09BF\\u0995\\u09BE\\u09A6\\u09BE\\u09B0 \\u099A\\u09BE\\u09DF\\u09A8\\u09BE \\u09AE\\u09C7\\u099C\\u09B0 \\u09AC\\u09CD\\u09B0\\u09BF\\u099C \\u0987\\u099E\\u09CD\\u099C\\u09BF\\u09A8\\u09BF\\u09DF\\u09BE\\u09B0\\u09BF\\u0982 \\u0995\\u09CB\\u09AE\\u09CD\\u09AA\\u09BE\\u09A8\\u09BF\\u09B0 (\\u098F\\u09AE\\u09AC\\u09BF\\u0987\\u09B8\\u09BF) \\u09B8\\u0999\\u09CD\\u0997\\u09C7 \\u099A\\u09C1\\u0995\\u09CD\\u09A4\\u09BF \\u0985\\u09A8\\u09C1\\u09B8\\u09BE\\u09B0\\u09C7 \\u09AA\\u09CD\\u09B0\\u09A5\\u09AE\\u09C7 \\u09E8\\u09E6\\u09E7\\u09EE \\u09B8\\u09BE\\u09B2\\u09C7\\u09B0 \\u09A1\\u09BF\\u09B8\\u09C7\\u09AE\\u09CD\\u09AC\\u09B0\\u09C7 \\u09B8\\u09C7\\u09A4\\u09C1\\u099F\\u09BF \\u099A\\u09BE\\u09B2\\u09C1\\u09B0 \\u09B8\\u09AE\\u09DF\\u09B8\\u09C0\\u09AE\\u09BE \\u09A0\\u09BF\\u0995 \\u0995\\u09B0\\u09BE \\u09B9\\u09DF\\u09C7\\u099B\\u09BF\\u09B2\\u0964 \\u098F\\u09B0\\u09AA\\u09B0 \\u09E8\\u09E6\\u09E7\\u09EF, \\u09E8\\u09E6\\u09E8\\u09E6 \\u0993 \\u09E8\\u09E6\\u09E8\\u09E7 \\u09B8\\u09BE\\u09B2\\u09C7\\u09B0 \\u09A1\\u09BF\\u09B8\\u09C7\\u09AE\\u09CD\\u09AC\\u09B0\\u09C7 \\u099A\\u09BE\\u09B2\\u09C1\\u09B0 \\u0998\\u09CB\\u09B7\\u09A3\\u09BE \\u09A6\\u09C7\\u0993\\u09DF\\u09BE \\u09B9\\u09DF\\u0964 \\u09B8\\u09B0\\u09CD\\u09AC\\u09B6\\u09C7\\u09B7 \\u09B8\\u09B0\\u0995\\u09BE\\u09B0\\u09BF \\u0998\\u09CB\\u09B7\\u09A3\\u09BE\\u09DF \\u0986\\u0997\\u09BE\\u09AE\\u09C0 \\u09AC\\u099B\\u09B0 \\u099C\\u09C1\\u09A8\\u09C7\\u09B0 \\u09AE\\u09A7\\u09CD\\u09AF\\u09C7 \\u09AA\\u09A6\\u09CD\\u09AE\\u09BE \\u09B8\\u09C7\\u09A4\\u09C1 \\u099A\\u09BE\\u09B2\\u09C1\\u09B0 \\u0995\\u09A5\\u09BE \\u09AC\\u09B2\\u09BE \\u09B9\\u09DF\\u09C7\\u099B\\u09C7\\u0964  \\u09B8\\u09C7\\u09A4\\u09C1 \\u09AC\\u09BF\\u09AD\\u09BE\\u0997\\u09C7\\u09B0 \\u0995\\u09B0\\u09CD\\u09AE\\u0995\\u09B0\\u09CD\\u09A4\\u09BE\\u09B0\\u09BE \\u099C\\u09BE\\u09A8\\u09BE\\u09A8, \\u09B8\\u09B0\\u0995\\u09BE\\u09B0 \\u09AC\\u09BF\\u09AD\\u09BF\\u09A8\\u09CD\\u09A8 \\u09B8\\u09AE\\u09DF \\u09B8\\u09C7\\u09A4\\u09C1 \\u099A\\u09BE\\u09B2\\u09C1\\u09B0 \\u09A4\\u09BE\\u09B0\\u09BF\\u0996 \\u0998\\u09CB\\u09B7\\u09A3\\u09BE \\u0995\\u09B0\\u09B2\\u09C7\\u0993 \\u09A0\\u09BF\\u0995\\u09BE\\u09A6\\u09BE\\u09B0\\u09C7\\u09B0 \\u09AA\\u0995\\u09CD\\u09B7 \\u09A5\\u09C7\\u0995\\u09C7 \\u09AC\\u09B0\\u09BE\\u09AC\\u09B0\\u0987 \\u09B8\\u09C7\\u0987 \\u09B8\\u09AE\\u09CD\\u09AD\\u09BE\\u09AC\\u09A8\\u09BE \\u09A8\\u09BE\\u0995\\u099A \\u0995\\u09B0\\u09BE \\u09B9\\u09DF\\u09C7\\u099B\\u09C7\\u0964 \\u0995\\u09BE\\u09B0\\u09A3 \\u09B9\\u09BF\\u09B8\\u09C7\\u09AC\\u09C7 \\u09A8\\u09A6\\u09C0\\u09AD\\u09BE\\u0999\\u09A8, \\u09B8\\u09AE\\u09DF\\u09AE\\u09A4\\u09CB \\u099C\\u09AE\\u09BF \\u09AC\\u09C1\\u099D\\u09BF\\u09DF\\u09C7 \\u09A8\\u09BE \\u09A6\\u09C7\\u0993\\u09DF\\u09BE, \\u09A8\\u0995\\u09B6\\u09BE \\u09B8\\u0982\\u09B6\\u09CB\\u09A7\\u09A8 \\u0993 \\u0995\\u09B0\\u09CB\\u09A8\\u09BE \\u09B8\\u0982\\u0995\\u09CD\\u09B0\\u09AE\\u09A3 \\u09AA\\u09B0\\u09BF\\u09B8\\u09CD\\u09A5\\u09BF\\u09A4\\u09BF\\u09B8\\u09B9 \\u09A8\\u09BE\\u09A8\\u09BE \\u09B8\\u09AE\\u09B8\\u09CD\\u09AF\\u09BE\\u09B0 \\u0995\\u09A5\\u09BE \\u09AC\\u09B2\\u09C7\\u099B\\u09C7 \\u09A4\\u09BE\\u09B0\\u09BE\\u0964 \\u09A4\\u09AC\\u09C7 \\u098F\\u0996\\u09A8 \\u09A0\\u09BF\\u0995\\u09BE\\u09A6\\u09BE\\u09B0\\u09C7\\u09B0 \\u09AA\\u09CD\\u09B0\\u09A4\\u09BF\\u09B6\\u09CD\\u09B0\\u09C1\\u09A4\\u09BF, \\u09B8\\u09B0\\u0995\\u09BE\\u09B0\\u09C7\\u09B0 \\u099A\\u09BE\\u0993\\u09DF\\u09BE \\u0993 \\u0995\\u09BE\\u099C\\u09C7\\u09B0 \\u0985\\u0997\\u09CD\\u09B0\\u0997\\u09A4\\u09BF\\u2014\\u09B8\\u09AC \\u0995\\u09BE\\u099B\\u09BE\\u0995\\u09BE\\u099B\\u09BF \\u098F\\u09B8\\u09C7 \\u09AE\\u09BF\\u09B6\\u09C7\\u099B\\u09C7\\u0964 \\u09AB\\u09B2\\u09C7 \\u0986\\u0997\\u09BE\\u09AE\\u09C0 \\u09AE\\u09BE\\u09B0\\u09CD\\u099A\\u09C7 \\u09B8\\u09C7\\u09A4\\u09C1 \\u0996\\u09C1\\u09B2\\u09C7 \\u09A6\\u09C7\\u0993\\u09DF\\u09BE \\u09B8\\u09AE\\u09CD\\u09AD\\u09AC \\u09B9\\u09AC\\u09C7 \\u09AC\\u09B2\\u09C7\\u0987 \\u09A4\\u09BE\\u09A6\\u09C7\\u09B0 \\u09AC\\u09BF\\u09B6\\u09CD\\u09AC\\u09BE\\u09B8\\u0964\" #@param {type:\"string\"}\n",
        "text=process_text(text)\n",
        "text_for_pred=tfidf_new.fit_transform([text]).toarray()\n",
        "model_multinomial_nb_nb_predictions=model_multinomial_nb.predict_proba(text_for_pred)\n",
        "class_probability=model_multinomial_nb_nb_predictions.flatten()\n",
        "print(class_probability)\n",
        "\n",
        "prediction_classes=['bangla','banglish','english']\n",
        "\n",
        "lang = model_multinomial_nb.predict(text_for_pred)\n",
        "text=text.replace('\\u0964','\\u0964 \\n')\n",
        "print(text)\n",
        "print(prediction_classes[lang[0]])\n",
        "print(\"\\n\")\n",
        "print(\"Execution time %s ms \" % ((time.time() - start_time)*1000))"
      ],
      "execution_count": null,
      "outputs": [
        {
          "output_type": "stream",
          "text": [
            "[9.99999999e-01 2.45574099e-10 2.72856819e-10]\n",
            "যানবাহন চলাচলের জন্য আগামী বছরের মার্চে পদ্মা সেতু চালু করার পরিকল্পনা নিয়ে এগোচ্ছে সরকার সেতু চালুর সম্ভাব্য দুটি তারিখ বিবেচনায় আছে একটি হলো মার্চ স্বাধীনতা দিবস আরেকটি মার্চ বঙ্গবন্ধু শেখ মুজিবুর রহমানের জন্মবার্ষিকী সেতু বিভাগ সূত্রে এ তথ্য জানা গেছে গত বছরের ডিসেম্বর সর্বশেষ স্প্যান বসানোর মধ্য দিয়ে দশমিক কিলোমিটার দীর্ঘ পদ্মা সেতুর পুরোটা দৃশ্যমান হয় এর ফলে মুন্সিগঞ্জের মাওয়া ও শরীয়তপুরের জাজিরাকে যুক্ত করেছে পদ্মা সেতু সেতু কর্তৃপক্ষ বলেছে গত ফেব্রুয়ারি পর্যন্ত সব মিলিয়ে প্রকল্পের কাজের অগ্রগতি দশমিক শতাংশ এর মধ্যে মূল সেতুর কাজ এগিয়েছে দশমিক শতাংশ সেতু চালুর বিষয়ে সেতু বিভাগের সচিব মো বেলায়েত হোসেন গত বুধবার প্রথম আলোকে বলেন ‘আগামী বছরের জুনের মধ্যে কাজ শেষ হবে—এটাই সিদ্ধান্ত সে ক্ষেত্রে সরকারের পক্ষ থেকে তারিখ ঠিক করা হবে তবে মার্চে চালুর পরিকল্পনা আছে’ এর আগে মূল সেতুর ঠিকাদার চায়না মেজর ব্রিজ ইঞ্জিনিয়ারিং কোম্পানির (এমবিইসি) সঙ্গে চুক্তি অনুসারে প্রথমে সালের ডিসেম্বরে সেতুটি চালুর সময়সীমা ঠিক করা হয়েছিল এরপর ও সালের ডিসেম্বরে চালুর ঘোষণা দেওয়া হয় সর্বশেষ সরকারি ঘোষণায় আগামী বছর জুনের মধ্যে পদ্মা সেতু চালুর কথা বলা হয়েছে সেতু বিভাগের কর্মকর্তারা জানান সরকার বিভিন্ন সময় সেতু চালুর তারিখ ঘোষণা করলেও ঠিকাদারের পক্ষ থেকে বরাবরই সেই সম্ভাবনা নাকচ করা হয়েছে কারণ হিসেবে নদীভাঙন সময়মতো জমি বুঝিয়ে না দেওয়া নকশা সংশোধন ও করোনা সংক্রমণ পরিস্থিতিসহ নানা সমস্যার কথা বলেছে তারা তবে এখন ঠিকাদারের প্রতিশ্রুতি সরকারের চাওয়া ও কাজের অগ্রগতি—সব কাছাকাছি এসে মিশেছে ফলে আগামী মার্চে সেতু খুলে দেওয়া সম্ভব হবে বলেই তাদের বিশ্বাস\n",
            "bangla\n",
            "\n",
            "\n",
            "Execution time 5.944252014160156 ms \n"
          ],
          "name": "stdout"
        }
      ]
    },
    {
      "cell_type": "code",
      "metadata": {
        "id": "dtrC9oOqBVhH"
      },
      "source": [
        "# from tensorflow.keras.preprocessing.text import one_hot"
      ],
      "execution_count": null,
      "outputs": []
    },
    {
      "cell_type": "code",
      "metadata": {
        "id": "Eurmd2D1v_mc"
      },
      "source": [
        "# X_test.shape"
      ],
      "execution_count": null,
      "outputs": []
    },
    {
      "cell_type": "code",
      "metadata": {
        "id": "Ck6YLcD-wNZ9"
      },
      "source": [
        "# vocbulary_size=10000"
      ],
      "execution_count": null,
      "outputs": []
    },
    {
      "cell_type": "code",
      "metadata": {
        "id": "_dxVws-Zwduw"
      },
      "source": [
        "# one_hot_representation=[one_hot(words,vocbulary_size) for words in X_test]\n",
        "# print(one_hot_representation[0])\n",
        "# print(one_hot_representation[1])"
      ],
      "execution_count": null,
      "outputs": []
    },
    {
      "cell_type": "code",
      "metadata": {
        "id": "aFYanG69wqvP"
      },
      "source": [
        "# from tensorflow.keras.layers import Embedding\n",
        "# from tensorflow.keras.preprocessing.sequence import pad_sequences\n",
        "# from tensorflow.keras.models import Sequential"
      ],
      "execution_count": null,
      "outputs": []
    },
    {
      "cell_type": "code",
      "metadata": {
        "id": "M-ygku8byflU"
      },
      "source": [
        "# sentence_length=50\n",
        "# embedded_docs = pad_sequences(one_hot_representation,padding='pre',maxlen=sentence_length)\n",
        "# print(embedded_docs)"
      ],
      "execution_count": null,
      "outputs": []
    },
    {
      "cell_type": "code",
      "metadata": {
        "id": "geS_GvayzCB3"
      },
      "source": [
        "# features_dimentions=20"
      ],
      "execution_count": null,
      "outputs": []
    },
    {
      "cell_type": "code",
      "metadata": {
        "id": "ssxEK8GFzP2g"
      },
      "source": [
        "# model=Sequential()\n",
        "# model.add(Embedding(vocbulary_size,features_dimentions,input_length=sentence_length))\n",
        "# model.compile(optimizer='adam')"
      ],
      "execution_count": null,
      "outputs": []
    },
    {
      "cell_type": "code",
      "metadata": {
        "id": "BgfcEmfdzwyY"
      },
      "source": [
        "# model.summary()"
      ],
      "execution_count": null,
      "outputs": []
    },
    {
      "cell_type": "code",
      "metadata": {
        "id": "9er3tO2_3Idm"
      },
      "source": [
        "# model.predict(embedded_docs)[0].shape"
      ],
      "execution_count": null,
      "outputs": []
    },
    {
      "cell_type": "code",
      "metadata": {
        "id": "OFfjgsffz0Ln"
      },
      "source": [
        "# def getEmbedding(model,X):\n",
        "#   one_hot_representation=[one_hot(words,vocbulary_size) for words in X]\n",
        "#   embedded_docs = pad_sequences(one_hot_representation,padding='pre',maxlen=sentence_length)\n",
        "#   # model=Sequential()\n",
        "#   # model.add(Embedding(vocbulary_size,features_dimentions,input_length=sentence_length))\n",
        "#   # model.compile(optimizer='adam')\n",
        "#   return model.predict(embedded_docs)\n"
      ],
      "execution_count": null,
      "outputs": []
    },
    {
      "cell_type": "code",
      "metadata": {
        "id": "dGoUNxkg1UKk"
      },
      "source": [
        "# X_train_embedded=getEmbedding(model,X_train)\n",
        "# X_test_embedded=getEmbedding(model,X_test)"
      ],
      "execution_count": null,
      "outputs": []
    },
    {
      "cell_type": "code",
      "metadata": {
        "id": "CSJKhEle2zVS"
      },
      "source": [
        "# X_train_embedded.shape"
      ],
      "execution_count": null,
      "outputs": []
    },
    {
      "cell_type": "code",
      "metadata": {
        "id": "l5yPpn1s2nmn",
        "colab": {
          "base_uri": "https://localhost:8080/"
        },
        "outputId": "61e47a36-abe9-44be-e879-1c35ffa5776a"
      },
      "source": [
        "pip freeze"
      ],
      "execution_count": null,
      "outputs": [
        {
          "output_type": "stream",
          "text": [
            "absl-py==0.10.0\n",
            "alabaster==0.7.12\n",
            "albumentations==0.1.12\n",
            "altair==4.1.0\n",
            "appdirs==1.4.4\n",
            "argon2-cffi==20.1.0\n",
            "asgiref==3.3.1\n",
            "astor==0.8.1\n",
            "astropy==4.2\n",
            "astunparse==1.6.3\n",
            "async-generator==1.10\n",
            "atari-py==0.2.6\n",
            "atomicwrites==1.4.0\n",
            "attrs==20.3.0\n",
            "audioread==2.1.9\n",
            "autograd==1.3\n",
            "Babel==2.9.0\n",
            "backcall==0.2.0\n",
            "beautifulsoup4==4.6.3\n",
            "bleach==3.3.0\n",
            "blis==0.4.1\n",
            "bokeh==2.1.1\n",
            "Bottleneck==1.3.2\n",
            "branca==0.4.2\n",
            "bs4==0.0.1\n",
            "CacheControl==0.12.6\n",
            "cachetools==4.2.1\n",
            "catalogue==1.0.0\n",
            "certifi==2020.12.5\n",
            "cffi==1.14.5\n",
            "chainer==7.4.0\n",
            "chardet==3.0.4\n",
            "click==7.1.2\n",
            "cloudpickle==1.3.0\n",
            "cmake==3.12.0\n",
            "cmdstanpy==0.9.5\n",
            "colorlover==0.3.0\n",
            "community==1.0.0b1\n",
            "contextlib2==0.5.5\n",
            "convertdate==2.3.1\n",
            "coverage==3.7.1\n",
            "coveralls==0.5\n",
            "crcmod==1.7\n",
            "cufflinks==0.17.3\n",
            "cvxopt==1.2.6\n",
            "cvxpy==1.0.31\n",
            "cycler==0.10.0\n",
            "cymem==2.0.5\n",
            "Cython==0.29.22\n",
            "daft==0.0.4\n",
            "dask==2.12.0\n",
            "datascience==0.10.6\n",
            "debugpy==1.0.0\n",
            "decorator==4.4.2\n",
            "defusedxml==0.7.1\n",
            "descartes==1.1.0\n",
            "dill==0.3.3\n",
            "distributed==1.25.3\n",
            "Django==3.1.7\n",
            "dlib==19.18.0\n",
            "dm-tree==0.1.5\n",
            "docopt==0.6.2\n",
            "docutils==0.16\n",
            "dopamine-rl==1.0.5\n",
            "earthengine-api==0.1.255\n",
            "easydict==1.9\n",
            "ecos==2.0.7.post1\n",
            "editdistance==0.5.3\n",
            "en-core-web-sm==2.2.5\n",
            "entrypoints==0.3\n",
            "ephem==3.7.7.1\n",
            "et-xmlfile==1.0.1\n",
            "fa2==0.3.5\n",
            "fancyimpute==0.4.3\n",
            "fastai==1.0.61\n",
            "fastdtw==0.3.4\n",
            "fastprogress==1.0.0\n",
            "fastrlock==0.5\n",
            "fbprophet==0.7.1\n",
            "feather-format==0.4.1\n",
            "filelock==3.0.12\n",
            "firebase-admin==4.4.0\n",
            "fix-yahoo-finance==0.0.22\n",
            "Flask==1.1.2\n",
            "flatbuffers==1.12\n",
            "folium==0.8.3\n",
            "future==0.16.0\n",
            "gast==0.3.3\n",
            "GDAL==2.2.2\n",
            "gdown==3.6.4\n",
            "gensim==3.6.0\n",
            "geographiclib==1.50\n",
            "geopy==1.17.0\n",
            "gin-config==0.4.0\n",
            "glob2==0.7\n",
            "google==2.0.3\n",
            "google-api-core==1.26.1\n",
            "google-api-python-client==1.12.8\n",
            "google-auth==1.27.1\n",
            "google-auth-httplib2==0.0.4\n",
            "google-auth-oauthlib==0.4.3\n",
            "google-cloud-bigquery==1.21.0\n",
            "google-cloud-bigquery-storage==1.1.0\n",
            "google-cloud-core==1.0.3\n",
            "google-cloud-datastore==1.8.0\n",
            "google-cloud-firestore==1.7.0\n",
            "google-cloud-language==1.2.0\n",
            "google-cloud-storage==1.18.1\n",
            "google-cloud-translate==1.5.0\n",
            "google-colab==1.0.0\n",
            "google-pasta==0.2.0\n",
            "google-resumable-media==0.4.1\n",
            "googleapis-common-protos==1.53.0\n",
            "googledrivedownloader==0.4\n",
            "graphviz==0.10.1\n",
            "grpcio==1.32.0\n",
            "gspread==3.0.1\n",
            "gspread-dataframe==3.0.8\n",
            "gym==0.17.3\n",
            "h5py==2.10.0\n",
            "HeapDict==1.0.1\n",
            "hijri-converter==2.1.1\n",
            "holidays==0.10.5.2\n",
            "holoviews==1.13.5\n",
            "html5lib==1.0.1\n",
            "httpimport==0.5.18\n",
            "httplib2==0.17.4\n",
            "httplib2shim==0.0.3\n",
            "humanize==0.5.1\n",
            "hyperopt==0.1.2\n",
            "ideep4py==2.0.0.post3\n",
            "idna==2.10\n",
            "image==1.5.33\n",
            "imageio==2.4.1\n",
            "imagesize==1.2.0\n",
            "imbalanced-learn==0.4.3\n",
            "imblearn==0.0\n",
            "imgaug==0.2.9\n",
            "importlib-metadata==3.7.2\n",
            "importlib-resources==5.1.2\n",
            "imutils==0.5.4\n",
            "inflect==2.1.0\n",
            "iniconfig==1.1.1\n",
            "intel-openmp==2021.1.2\n",
            "intervaltree==2.1.0\n",
            "ipykernel==4.10.1\n",
            "ipython==5.5.0\n",
            "ipython-genutils==0.2.0\n",
            "ipython-sql==0.3.9\n",
            "ipywidgets==7.6.3\n",
            "itsdangerous==1.1.0\n",
            "jax==0.2.10\n",
            "jaxlib==0.1.62+cuda110\n",
            "jdcal==1.4.1\n",
            "jedi==0.18.0\n",
            "jieba==0.42.1\n",
            "Jinja2==2.11.3\n",
            "joblib==1.0.1\n",
            "jpeg4py==0.1.4\n",
            "jsonschema==2.6.0\n",
            "jupyter==1.0.0\n",
            "jupyter-client==5.3.5\n",
            "jupyter-console==5.2.0\n",
            "jupyter-core==4.7.1\n",
            "jupyterlab-pygments==0.1.2\n",
            "jupyterlab-widgets==1.0.0\n",
            "kaggle==1.5.10\n",
            "kapre==0.1.3.1\n",
            "Keras==2.4.3\n",
            "Keras-Preprocessing==1.1.2\n",
            "keras-vis==0.4.1\n",
            "kiwisolver==1.3.1\n",
            "knnimpute==0.1.0\n",
            "korean-lunar-calendar==0.2.1\n",
            "librosa==0.8.0\n",
            "lightgbm==2.2.3\n",
            "llvmlite==0.34.0\n",
            "lmdb==0.99\n",
            "lucid==0.3.8\n",
            "LunarCalendar==0.0.9\n",
            "lxml==4.2.6\n",
            "Markdown==3.3.4\n",
            "MarkupSafe==1.1.1\n",
            "matplotlib==3.2.2\n",
            "matplotlib-venn==0.11.6\n",
            "missingno==0.4.2\n",
            "mistune==0.8.4\n",
            "mizani==0.6.0\n",
            "mkl==2019.0\n",
            "mlxtend==0.14.0\n",
            "more-itertools==8.7.0\n",
            "moviepy==0.2.3.5\n",
            "mpmath==1.2.1\n",
            "msgpack==1.0.2\n",
            "multiprocess==0.70.11.1\n",
            "multitasking==0.0.9\n",
            "murmurhash==1.0.5\n",
            "music21==5.5.0\n",
            "natsort==5.5.0\n",
            "nbclient==0.5.3\n",
            "nbconvert==5.6.1\n",
            "nbformat==5.1.2\n",
            "nest-asyncio==1.5.1\n",
            "networkx==2.5\n",
            "nibabel==3.0.2\n",
            "nltk==3.2.5\n",
            "notebook==5.3.1\n",
            "np-utils==0.5.12.1\n",
            "numba==0.51.2\n",
            "numexpr==2.7.3\n",
            "numpy==1.19.5\n",
            "nvidia-ml-py3==7.352.0\n",
            "oauth2client==4.1.3\n",
            "oauthlib==3.1.0\n",
            "okgrade==0.4.3\n",
            "opencv-contrib-python==4.1.2.30\n",
            "opencv-python==4.1.2.30\n",
            "openpyxl==2.5.9\n",
            "opt-einsum==3.3.0\n",
            "osqp==0.6.2.post0\n",
            "packaging==20.9\n",
            "palettable==3.3.0\n",
            "pandas==1.1.5\n",
            "pandas-datareader==0.9.0\n",
            "pandas-gbq==0.13.3\n",
            "pandas-profiling==1.4.1\n",
            "pandocfilters==1.4.3\n",
            "panel==0.9.7\n",
            "param==1.10.1\n",
            "parso==0.8.1\n",
            "pathlib==1.0.1\n",
            "patsy==0.5.1\n",
            "pexpect==4.8.0\n",
            "pickle5==0.0.11\n",
            "pickleshare==0.7.5\n",
            "Pillow==7.0.0\n",
            "pip-tools==4.5.1\n",
            "plac==1.1.3\n",
            "plotly==4.4.1\n",
            "plotnine==0.6.0\n",
            "pluggy==0.7.1\n",
            "pooch==1.3.0\n",
            "portpicker==1.3.1\n",
            "prefetch-generator==1.0.1\n",
            "preshed==3.0.5\n",
            "prettytable==2.1.0\n",
            "progressbar2==3.38.0\n",
            "prometheus-client==0.9.0\n",
            "promise==2.3\n",
            "prompt-toolkit==1.0.18\n",
            "protobuf==3.12.4\n",
            "psutil==5.4.8\n",
            "psycopg2==2.7.6.1\n",
            "ptyprocess==0.7.0\n",
            "py==1.10.0\n",
            "pyarrow==3.0.0\n",
            "pyasn1==0.4.8\n",
            "pyasn1-modules==0.2.8\n",
            "pycocotools==2.0.2\n",
            "pycparser==2.20\n",
            "pyct==0.4.8\n",
            "pydata-google-auth==1.1.0\n",
            "pydot==1.3.0\n",
            "pydot-ng==2.0.0\n",
            "pydotplus==2.0.2\n",
            "PyDrive==1.3.1\n",
            "pyemd==0.5.1\n",
            "pyerfa==1.7.2\n",
            "pyglet==1.5.0\n",
            "Pygments==2.6.1\n",
            "pygobject==3.26.1\n",
            "pymc3==3.7\n",
            "PyMeeus==0.5.9\n",
            "pymongo==3.11.3\n",
            "pymystem3==0.2.0\n",
            "pynndescent==0.5.2\n",
            "PyOpenGL==3.1.5\n",
            "pyparsing==2.4.7\n",
            "pyrsistent==0.17.3\n",
            "pysndfile==1.3.8\n",
            "PySocks==1.7.1\n",
            "pystan==2.19.1.1\n",
            "pytest==3.6.4\n",
            "python-apt==0.0.0\n",
            "python-chess==0.23.11\n",
            "python-dateutil==2.8.1\n",
            "python-louvain==0.15\n",
            "python-slugify==4.0.1\n",
            "python-utils==2.5.6\n",
            "pytz==2018.9\n",
            "pyviz-comms==2.0.1\n",
            "PyWavelets==1.1.1\n",
            "PyYAML==3.13\n",
            "pyzmq==22.0.3\n",
            "qdldl==0.1.5.post0\n",
            "qtconsole==5.0.2\n",
            "QtPy==1.9.0\n",
            "regex==2019.12.20\n",
            "requests==2.23.0\n",
            "requests-oauthlib==1.3.0\n",
            "resampy==0.2.2\n",
            "retrying==1.3.3\n",
            "rpy2==3.4.2\n",
            "rsa==4.7.2\n",
            "scikit-image==0.16.2\n",
            "scikit-learn==0.24.1\n",
            "scipy==1.4.1\n",
            "screen-resolution-extra==0.0.0\n",
            "scs==2.1.2\n",
            "seaborn==0.11.1\n",
            "Send2Trash==1.5.0\n",
            "setuptools-git==1.2\n",
            "Shapely==1.7.1\n",
            "simplegeneric==0.8.1\n",
            "six==1.15.0\n",
            "sklearn==0.0\n",
            "sklearn-pandas==1.8.0\n",
            "smart-open==4.2.0\n",
            "snowballstemmer==2.1.0\n",
            "sortedcontainers==2.3.0\n",
            "SoundFile==0.10.3.post1\n",
            "spacy==2.2.4\n",
            "Sphinx==1.8.5\n",
            "sphinxcontrib-serializinghtml==1.1.4\n",
            "sphinxcontrib-websupport==1.2.4\n",
            "SQLAlchemy==1.3.23\n",
            "sqlparse==0.4.1\n",
            "srsly==1.0.5\n",
            "statsmodels==0.10.2\n",
            "sympy==1.7.1\n",
            "tables==3.4.4\n",
            "tabulate==0.8.9\n",
            "tblib==1.7.0\n",
            "tensorboard==2.4.1\n",
            "tensorboard-plugin-wit==1.8.0\n",
            "tensorflow==2.4.1\n",
            "tensorflow-datasets==4.0.1\n",
            "tensorflow-estimator==2.4.0\n",
            "tensorflow-gcs-config==2.4.0\n",
            "tensorflow-hub==0.11.0\n",
            "tensorflow-metadata==0.28.0\n",
            "tensorflow-probability==0.12.1\n",
            "termcolor==1.1.0\n",
            "terminado==0.9.2\n",
            "testpath==0.4.4\n",
            "text-unidecode==1.3\n",
            "textblob==0.15.3\n",
            "textgenrnn==1.4.1\n",
            "Theano==1.0.5\n",
            "thinc==7.4.0\n",
            "threadpoolctl==2.1.0\n",
            "tifffile==2021.3.5\n",
            "toml==0.10.2\n",
            "toolz==0.11.1\n",
            "torch==1.8.0+cu101\n",
            "torchsummary==1.5.1\n",
            "torchtext==0.9.0\n",
            "torchvision==0.9.0+cu101\n",
            "tornado==5.1.1\n",
            "tqdm==4.41.1\n",
            "traitlets==5.0.5\n",
            "tweepy==3.10.0\n",
            "typeguard==2.7.1\n",
            "typing-extensions==3.7.4.3\n",
            "tzlocal==1.5.1\n",
            "umap-learn==0.5.1\n",
            "uritemplate==3.0.1\n",
            "urllib3==1.24.3\n",
            "vega-datasets==0.9.0\n",
            "wasabi==0.8.2\n",
            "wcwidth==0.2.5\n",
            "webencodings==0.5.1\n",
            "Werkzeug==1.0.1\n",
            "widgetsnbextension==3.5.1\n",
            "wordcloud==1.5.0\n",
            "wrapt==1.12.1\n",
            "xarray==0.15.1\n",
            "xgboost==0.90\n",
            "xkit==0.0.0\n",
            "xlrd==1.1.0\n",
            "xlwt==1.3.0\n",
            "yellowbrick==0.9.1\n",
            "zict==2.0.0\n",
            "zipp==3.4.1\n"
          ],
          "name": "stdout"
        }
      ]
    },
    {
      "cell_type": "code",
      "metadata": {
        "colab": {
          "base_uri": "https://localhost:8080/"
        },
        "id": "_jHEK0CoG7kr",
        "outputId": "bd3d938f-8963-4569-928c-2f59399344f6"
      },
      "source": [
        "!python --version"
      ],
      "execution_count": null,
      "outputs": [
        {
          "output_type": "stream",
          "text": [
            "Python 3.7.10\n"
          ],
          "name": "stdout"
        }
      ]
    },
    {
      "cell_type": "code",
      "metadata": {
        "id": "psbhahUKJ6NN"
      },
      "source": [
        ""
      ],
      "execution_count": null,
      "outputs": []
    }
  ]
}